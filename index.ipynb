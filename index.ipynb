{
 "cells": [
  {
   "cell_type": "raw",
   "metadata": {},
   "source": [
    "---\n",
    "title: \"Analysis of Gentrification Based on Reddit Data\"\n",
    "format:\n",
    "  html:\n",
    "    embed-resources: true\n",
    "---"
   ]
  },
  {
   "cell_type": "markdown",
   "metadata": {},
   "source": [
    "More than 135,000 people were displaced between 2000 and 2012 [^1] in the United States.\n",
    "\n",
    "**Gentrification** is a demographic and economic shift that displaces established working-class communities and communities of color in favor of wealthier newcomers and companies. Displacement happens when long-time or original neighborhood residents move from a gentrified area because of higher rents, mortgages, and property taxes. It is a housing, economic, and health issue that affects a community's history and culture.\n",
    "\n",
    "Analyzing data related to gentrification, especially people's opinions, is crucial to understand the real impact on communities. It provides insights into how residents are affected by rising costs and changes in their neighborhoods, focusing on the emotional and social aspects of the problem. Finally it can help to find solutions to ensure more equitable urban development.\n",
    "\n",
    "**talk a lil more about gentrification problem**\n",
    "\n",
    "![](dc-front-page-gentrification.png)\n",
    "## Objective\n",
    "The objective of this project is to analyze the opinions of Reddit users to understand how gentrification has impacted different cities in the United States. City subreddits are subreddits where residents can come together and form discourse regarding the city in which they live in. Many of us, for example, are likely members of the Washington, D.C. subreddit. While users may not necessarily mention gentrification directly, their discourse related to things like rent prices, new construction, Airbnb, and other topics are related to gentrification. To gain insight into any discourse related to city gentrification, our team decided to focus on city subreddits. A Study by the National Community Reinvestment Coalition reveals a list of the top cities with the highest percentage of gentrified neighborhoods between 2000 to 2013[^1]. Our team decided to focus on the following subreddits:\n",
    "\n",
    "1. New York, New York\n",
    "2. Atlanta, Georgia\n",
    "3. Washington, D.C.\n",
    "4. Seattle, Washington\n",
    "\n",
    "\n",
    "We focused on Washington, D.C. because that is the current city in which we live in and are familiar with. New York City is one of the largest, most popular cities in America and has undergone a tremendous amount of gentrification throughout the decades. Seattle, Washington was chosen because of our team's familiarity with the city and also because the tech industry (specifically Amazon and Microsoft headquarter locations) have caused the city to undergo gentrification. Finally, we chose Atlanta, Georgia because it was highly ranked in the list and it is in the southern United States.\n",
    "\n",
    "Sources:\n",
    "[^1]: Study by the National Community Reinvestment Coalition. March 2019. https://www.usnews.com/news/cities/slideshows/cities-with-the-highest-percentage-of-gentrified-neighborhoods.\n",
    "\n"
   ]
  },
  {
   "cell_type": "markdown",
   "metadata": {},
   "source": [
    "## Business & Technical Proposals\n",
    "\n",
    "| #   | Business Proposal                                       | Technical Proposal |\n",
    "| --- | ------------------------------------------------------- | ------------------- |\n",
    "| 1   | Do submission posts vary over time, by subreddit?        | Visualize frequency of submissions using a line graph. Break down the analysis by subreddit. |\n",
    "| 2   | How do submission lengths vary across the subreddits?     | Split the text into individual tokens and calculate the length of the tokens per submission. Plot a distribution plot to show the submission length distributions. |\n",
    "| 3   | Is sentiment of users' opinions on a city related to its rent prices? | Conduct sentiment analysis on Reddit posts using a transformer model. Compare sentiment scores with U.S. Census Bureau data on rent prices to identify correlations. |\n",
    "| 4   | Is sentiment of users' opinions on a city related to transportation and walkability? | Perform NLP techniques to extract information related to transportation and walkability from Reddit posts. |\n",
    "| 5   | Can we predict the subreddit based on the post content?| Apply NLP techniques to extract relevant information from Reddit posts. Use ML models to analyze the relationship between cities and post content. |\n",
    "| 6   | What topics related to gentrification have the most positive sentiment? | Apply NLP techniques to extract relevant information from Reddit posts and predict their sentiment using pre-trained models.|\n",
    "| 7  | Does the amount of responses within a subreddit correlate with the population of the city? | Analyze the data for patterns or relationships between subreddit responses and city population through correlation analysis.|\n",
    "| 8  | Do more gentrified cities have a more positive or negative sentiment towards short-term rentals? | Visualize the sentiment for post containing words related to short term rental. |\n",
    "| 9  |What are the most common topics across Subreddits? |Perform NLP techniques to extract information and generate a word-cloud using most frequent words.|\n",
    "| 10  |Do sentiment on posts vary over time, by subreddit? |Look for significant shifts in sentiment in response to specific events using time series analysis separating posts by thread.|\n"
   ]
  }
 ],
 "metadata": {
  "kernelspec": {
   "display_name": "Python 3.9.12 ('base')",
   "language": "python",
   "name": "python3"
  },
  "language_info": {
   "codemirror_mode": {
    "name": "ipython",
    "version": 3
   },
   "file_extension": ".py",
   "mimetype": "text/x-python",
   "name": "python",
   "nbconvert_exporter": "python",
   "pygments_lexer": "ipython3",
   "version": "3.10.8"
  },
  "vscode": {
   "interpreter": {
    "hash": "4dc754403a8355d40f82e4b43176662d50adb53bc173693b7226b210eaa802d1"
   }
  }
 },
 "nbformat": 4,
 "nbformat_minor": 2
}
