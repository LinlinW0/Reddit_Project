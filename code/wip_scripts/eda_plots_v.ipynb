{
 "cells": [
  {
   "cell_type": "code",
   "execution_count": null,
   "metadata": {},
   "outputs": [],
   "source": [
    "import pandas as pd\n",
    "import matplotlib.pyplot as plt\n",
    "import plotly.express as px\n",
    "\n",
    "#grouping by score\n",
    "upvotes_city = reddit_df.groupby('city')['score'].sum()\n",
    "\n",
    "# Histogram matplotlib \n",
    "plt.figure(figsize=(10, 6))\n",
    "plt.hist(upvotes_city, bins=20, color='skyblue', edgecolor='black')\n",
    "plt.xlabel('Total Upvotes')\n",
    "plt.ylabel('Number of Submissions')\n",
    "plt.title('Histogram of Upvotes by City')\n",
    "plt.show()\n",
    "\n",
    "# Histogram plotly \n",
    "fig = px.histogram(upvotes_city, x='score', nbins=20, color_discrete_sequence=['skyblue'])\n",
    "fig.update_layout(\n",
    "    title='Histogram of Upvotes by City',\n",
    "    xaxis_title='Total Upvotes',\n",
    "    yaxis_title='Number of Submissions',\n",
    "    showlegend=False\n",
    ")\n",
    "fig.show()"
   ]
  },
  {
   "cell_type": "markdown",
   "metadata": {},
   "source": [
    "## regex to find key words"
   ]
  },
  {
   "cell_type": "code",
   "execution_count": null,
   "metadata": {},
   "outputs": [],
   "source": [
    "import pandas as pd\n",
    "import re\n",
    "\n",
    "# Define the keywords of interest\n",
    "keywords = [\"Airbnb\", \"Rent\", \"Gentrification\", \"Public transit\", \"Tourists\"]\n",
    "\n",
    "# Create columns for each keyword\n",
    "\n",
    "for keyword in keywords:\n",
    "    reddit_df[keyword.lower()] = reddit_df['body'].str.contains(keyword, flags=re.IGNORECASE)\n",
    "print(reddit_df.head())\n",
    "\n",
    "# Calculate frequency of each keyword\n",
    "keyword_frequencies = reddit_df[keywords].sum()\n",
    "print(keyword_frequencies)"
   ]
  },
  {
   "cell_type": "code",
   "execution_count": null,
   "metadata": {},
   "outputs": [],
   "source": [
    "# Plots for keywords frequencies\n",
    "\n",
    "# Create a bar plot Matplotlib\n",
    "plt.figure(figsize=(10, 6))\n",
    "plt.bar(keyword_frequencies.index, keyword_frequencies.values, color='skyblue')\n",
    "plt.xlabel('Keywords')\n",
    "plt.ylabel('Frequency')\n",
    "plt.title('Frequency of Keywords')\n",
    "plt.show()\n",
    "\n",
    "# Create a bar plot using Plotly\n",
    "fig = px.bar(x=keyword_frequencies.index, y=keyword_frequencies.values, color=keyword_frequencies.index,\n",
    "             labels={'x': 'Keywords', 'y': 'Frequency'}, color_discrete_sequence=['skyblue'])\n",
    "\n",
    "fig.update_layout(title='Frequency of Keywords')\n",
    "fig.show()"
   ]
  },
  {
   "cell_type": "markdown",
   "metadata": {},
   "source": [
    "More data can be obtain using NLP techniques, for example later we can obtain the sentiment of threads that contain words such as gentrification"
   ]
  }
 ],
 "metadata": {
  "language_info": {
   "name": "python"
  }
 },
 "nbformat": 4,
 "nbformat_minor": 2
}
