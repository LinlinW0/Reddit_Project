{
  "cells": [
    {
      "cell_type": "markdown",
      "metadata": {
        "nteract": {
          "transient": {
            "deleting": false
          }
        }
      },
      "source": [
        "### NLP "
      ]
    },
    {
      "cell_type": "markdown",
      "metadata": {
        "nteract": {
          "transient": {
            "deleting": false
          }
        }
      },
      "source": [
        "### Read Data"
      ]
    },
    {
      "cell_type": "code",
      "execution_count": 13,
      "metadata": {
        "gather": {
          "logged": 1700417947002
        },
        "jupyter": {
          "outputs_hidden": false,
          "source_hidden": false
        },
        "nteract": {
          "transient": {
            "deleting": false
          }
        }
      },
      "outputs": [
        {
          "data": {
            "application/vnd.livy.statement-meta+json": {
              "execution_finish_time": "2023-11-20T14:58:11.1671733Z",
              "execution_start_time": "2023-11-20T14:58:03.1514894Z",
              "livy_statement_state": "available",
              "parent_msg_id": "f2e2337f-1b44-4798-b714-ee26d180ae7a",
              "queued_time": "2023-11-20T14:58:03.0344632Z",
              "session_id": "26",
              "session_start_time": null,
              "spark_jobs": {
                "jobs": [],
                "limit": 20,
                "numbers": {
                  "FAILED": 0,
                  "RUNNING": 0,
                  "SUCCEEDED": 0,
                  "UNKNOWN": 0
                },
                "rule": "ALL_DESC"
              },
              "spark_pool": "5a58fef9-6d5a-48be-a208-b669ac871209",
              "state": "finished",
              "statement_id": 16
            },
            "text/plain": [
              "StatementMeta(5a58fef9-6d5a-48be-a208-b669ac871209, 26, 16, Finished, Available)"
            ]
          },
          "metadata": {},
          "output_type": "display_data"
        },
        {
          "name": "stdout",
          "output_type": "stream",
          "text": [
            "Requirement already satisfied: azureml-fsspec in /home/trusted-service-user/cluster-env/env/lib/python3.8/site-packages (1.2.0)\n",
            "Requirement already satisfied: mltable in /home/trusted-service-user/cluster-env/env/lib/python3.8/site-packages (1.5.0)\n",
            "Requirement already satisfied: fsspec>=2021.6.1 in /home/trusted-service-user/cluster-env/env/lib/python3.8/site-packages (from azureml-fsspec) (2021.6.1)\n",
            "Requirement already satisfied: azureml-dataprep<4.14.0a,>=4.12.0a in /home/trusted-service-user/cluster-env/env/lib/python3.8/site-packages (from azureml-fsspec) (4.12.7)\n",
            "Requirement already satisfied: azure-identity>=1.7.0 in /home/trusted-service-user/cluster-env/env/lib/python3.8/site-packages (from azureml-dataprep<4.14.0a,>=4.12.0a->azureml-fsspec) (1.15.0)\n",
            "Requirement already satisfied: azureml-dataprep-rslex~=2.19.6dev0 in /home/trusted-service-user/cluster-env/env/lib/python3.8/site-packages (from azureml-dataprep<4.14.0a,>=4.12.0a->azureml-fsspec) (2.19.6)\n",
            "Requirement already satisfied: azureml-dataprep-native<39.0.0,>=38.0.0 in /home/trusted-service-user/cluster-env/env/lib/python3.8/site-packages (from azureml-dataprep<4.14.0a,>=4.12.0a->azureml-fsspec) (38.0.0)\n",
            "Requirement already satisfied: dotnetcore2<4.0.0,>=3.0.0 in /home/trusted-service-user/cluster-env/env/lib/python3.8/site-packages (from azureml-dataprep<4.14.0a,>=4.12.0a->azureml-fsspec) (3.1.23)\n",
            "Requirement already satisfied: pyyaml<7.0.0,>=5.1.0 in /home/trusted-service-user/cluster-env/env/lib/python3.8/site-packages (from azureml-dataprep<4.14.0a,>=4.12.0a->azureml-fsspec) (5.4.1)\n",
            "Requirement already satisfied: jsonschema in /home/trusted-service-user/cluster-env/env/lib/python3.8/site-packages (from azureml-dataprep<4.14.0a,>=4.12.0a->azureml-fsspec) (4.15.0)\n",
            "Requirement already satisfied: cloudpickle<3.0.0,>=1.1.0 in /home/trusted-service-user/cluster-env/env/lib/python3.8/site-packages (from azureml-dataprep<4.14.0a,>=4.12.0a->azureml-fsspec) (1.6.0)\n",
            "Requirement already satisfied: msal-extensions<2.0.0,>=0.3.0 in /home/trusted-service-user/cluster-env/env/lib/python3.8/site-packages (from azure-identity>=1.7.0->azureml-dataprep<4.14.0a,>=4.12.0a->azureml-fsspec) (0.3.0)\n",
            "Requirement already satisfied: cryptography>=2.5 in /home/trusted-service-user/cluster-env/env/lib/python3.8/site-packages (from azure-identity>=1.7.0->azureml-dataprep<4.14.0a,>=4.12.0a->azureml-fsspec) (3.4.7)\n",
            "Requirement already satisfied: azure-core<2.0.0,>=1.23.0 in /home/trusted-service-user/cluster-env/env/lib/python3.8/site-packages (from azure-identity>=1.7.0->azureml-dataprep<4.14.0a,>=4.12.0a->azureml-fsspec) (1.29.5)\n",
            "Requirement already satisfied: msal<2.0.0,>=1.24.0 in /home/trusted-service-user/cluster-env/env/lib/python3.8/site-packages (from azure-identity>=1.7.0->azureml-dataprep<4.14.0a,>=4.12.0a->azureml-fsspec) (1.25.0)\n",
            "Requirement already satisfied: typing-extensions>=4.6.0 in /home/trusted-service-user/cluster-env/env/lib/python3.8/site-packages (from azure-core<2.0.0,>=1.23.0->azure-identity>=1.7.0->azureml-dataprep<4.14.0a,>=4.12.0a->azureml-fsspec) (4.8.0)\n",
            "Requirement already satisfied: six>=1.11.0 in /home/trusted-service-user/cluster-env/env/lib/python3.8/site-packages (from azure-core<2.0.0,>=1.23.0->azure-identity>=1.7.0->azureml-dataprep<4.14.0a,>=4.12.0a->azureml-fsspec) (1.16.0)\n",
            "Requirement already satisfied: requests>=2.18.4 in /home/trusted-service-user/cluster-env/env/lib/python3.8/site-packages (from azure-core<2.0.0,>=1.23.0->azure-identity>=1.7.0->azureml-dataprep<4.14.0a,>=4.12.0a->azureml-fsspec) (2.25.1)\n",
            "Requirement already satisfied: cffi>=1.12 in /home/trusted-service-user/cluster-env/env/lib/python3.8/site-packages (from cryptography>=2.5->azure-identity>=1.7.0->azureml-dataprep<4.14.0a,>=4.12.0a->azureml-fsspec) (1.14.5)\n",
            "Requirement already satisfied: pycparser in /home/trusted-service-user/cluster-env/env/lib/python3.8/site-packages (from cffi>=1.12->cryptography>=2.5->azure-identity>=1.7.0->azureml-dataprep<4.14.0a,>=4.12.0a->azureml-fsspec) (2.20)\n",
            "Requirement already satisfied: distro>=1.2.0 in /home/trusted-service-user/cluster-env/env/lib/python3.8/site-packages (from dotnetcore2<4.0.0,>=3.0.0->azureml-dataprep<4.14.0a,>=4.12.0a->azureml-fsspec) (1.7.0)\n",
            "Requirement already satisfied: PyJWT[crypto]<3,>=1.0.0 in /home/trusted-service-user/cluster-env/env/lib/python3.8/site-packages (from msal<2.0.0,>=1.24.0->azure-identity>=1.7.0->azureml-dataprep<4.14.0a,>=4.12.0a->azureml-fsspec) (2.1.0)\n",
            "Requirement already satisfied: portalocker~=1.0 in /home/trusted-service-user/cluster-env/env/lib/python3.8/site-packages (from msal-extensions<2.0.0,>=0.3.0->azure-identity>=1.7.0->azureml-dataprep<4.14.0a,>=4.12.0a->azureml-fsspec) (1.7.1)\n",
            "Requirement already satisfied: urllib3<1.27,>=1.21.1 in /home/trusted-service-user/cluster-env/env/lib/python3.8/site-packages (from requests>=2.18.4->azure-core<2.0.0,>=1.23.0->azure-identity>=1.7.0->azureml-dataprep<4.14.0a,>=4.12.0a->azureml-fsspec) (1.26.4)\n",
            "Requirement already satisfied: certifi>=2017.4.17 in /home/trusted-service-user/cluster-env/env/lib/python3.8/site-packages (from requests>=2.18.4->azure-core<2.0.0,>=1.23.0->azure-identity>=1.7.0->azureml-dataprep<4.14.0a,>=4.12.0a->azureml-fsspec) (2021.5.30)\n",
            "Requirement already satisfied: idna<3,>=2.5 in /home/trusted-service-user/cluster-env/env/lib/python3.8/site-packages (from requests>=2.18.4->azure-core<2.0.0,>=1.23.0->azure-identity>=1.7.0->azureml-dataprep<4.14.0a,>=4.12.0a->azureml-fsspec) (2.10)\n",
            "Requirement already satisfied: chardet<5,>=3.0.2 in /home/trusted-service-user/cluster-env/env/lib/python3.8/site-packages (from requests>=2.18.4->azure-core<2.0.0,>=1.23.0->azure-identity>=1.7.0->azureml-dataprep<4.14.0a,>=4.12.0a->azureml-fsspec) (4.0.0)\n",
            "Requirement already satisfied: python-dateutil<3.0.0,>=2.7.3 in /home/trusted-service-user/cluster-env/env/lib/python3.8/site-packages (from mltable) (2.8.1)\n",
            "Requirement already satisfied: pytz in /home/trusted-service-user/cluster-env/env/lib/python3.8/site-packages (from mltable) (2021.1)\n",
            "Requirement already satisfied: msrest>=0.6.18 in /home/trusted-service-user/cluster-env/env/lib/python3.8/site-packages (from mltable) (0.6.21)\n",
            "Requirement already satisfied: azure-mgmt-core<2.0.0,>=1.3.0 in /home/trusted-service-user/cluster-env/env/lib/python3.8/site-packages (from mltable) (1.3.0)\n",
            "Requirement already satisfied: pyarrow>=0.17.0 in /home/trusted-service-user/cluster-env/env/lib/python3.8/site-packages (from azureml-dataprep<4.14.0a,>=4.12.0a->azureml-fsspec) (3.0.0)\n",
            "Requirement already satisfied: importlib-resources>=1.4.0 in /home/trusted-service-user/cluster-env/env/lib/python3.8/site-packages (from jsonschema->azureml-dataprep<4.14.0a,>=4.12.0a->azureml-fsspec) (5.9.0)\n",
            "Requirement already satisfied: pyrsistent!=0.17.0,!=0.17.1,!=0.17.2,>=0.14.0 in /home/trusted-service-user/cluster-env/env/lib/python3.8/site-packages (from jsonschema->azureml-dataprep<4.14.0a,>=4.12.0a->azureml-fsspec) (0.18.1)\n",
            "Requirement already satisfied: attrs>=17.4.0 in /home/trusted-service-user/cluster-env/env/lib/python3.8/site-packages (from jsonschema->azureml-dataprep<4.14.0a,>=4.12.0a->azureml-fsspec) (21.2.0)\n",
            "Requirement already satisfied: pkgutil-resolve-name>=1.3.10 in /home/trusted-service-user/cluster-env/env/lib/python3.8/site-packages (from jsonschema->azureml-dataprep<4.14.0a,>=4.12.0a->azureml-fsspec) (1.3.10)\n",
            "Requirement already satisfied: zipp>=3.1.0 in /home/trusted-service-user/cluster-env/env/lib/python3.8/site-packages (from importlib-resources>=1.4.0->jsonschema->azureml-dataprep<4.14.0a,>=4.12.0a->azureml-fsspec) (3.5.0)\n",
            "Requirement already satisfied: isodate>=0.6.0 in /home/trusted-service-user/cluster-env/env/lib/python3.8/site-packages (from msrest>=0.6.18->mltable) (0.6.0)\n",
            "Requirement already satisfied: requests-oauthlib>=0.5.0 in /home/trusted-service-user/cluster-env/env/lib/python3.8/site-packages (from msrest>=0.6.18->mltable) (1.3.0)\n",
            "Requirement already satisfied: numpy>=1.16.6 in /home/trusted-service-user/cluster-env/env/lib/python3.8/site-packages (from pyarrow>=0.17.0->azureml-dataprep<4.14.0a,>=4.12.0a->azureml-fsspec) (1.19.4)\n",
            "Requirement already satisfied: oauthlib>=3.0.0 in /home/trusted-service-user/cluster-env/env/lib/python3.8/site-packages (from requests-oauthlib>=0.5.0->msrest>=0.6.18->mltable) (3.1.1)\n"
          ]
        }
      ],
      "source": [
        "!pip install -U azureml-fsspec mltable\n"
      ]
    },
    {
      "cell_type": "code",
      "execution_count": 2,
      "metadata": {
        "jupyter": {
          "outputs_hidden": false,
          "source_hidden": false
        },
        "nteract": {
          "transient": {
            "deleting": false
          }
        }
      },
      "outputs": [
        {
          "data": {
            "application/vnd.livy.statement-meta+json": {
              "execution_finish_time": "2023-11-20T05:57:09.1880242Z",
              "execution_start_time": "2023-11-20T05:57:09.1878505Z",
              "livy_statement_state": "available",
              "parent_msg_id": "484d7f32-5509-41b8-9e41-fed0982f3cb4",
              "queued_time": "2023-11-20T05:52:35.678371Z",
              "session_id": null,
              "session_start_time": null,
              "spark_jobs": null,
              "spark_pool": null,
              "state": "finished",
              "statement_id": -1
            },
            "text/plain": [
              "StatementMeta(, , -1, Finished, Available)"
            ]
          },
          "metadata": {},
          "output_type": "display_data"
        },
        {
          "data": {},
          "execution_count": 2,
          "metadata": {},
          "output_type": "execute_result"
        },
        {
          "name": "stdout",
          "output_type": "stream",
          "text": [
            "Requirement already satisfied: seaborn in /home/trusted-service-user/cluster-env/env/lib/python3.8/site-packages (0.11.1)\n",
            "Requirement already satisfied: scipy>=1.0 in /home/trusted-service-user/cluster-env/env/lib/python3.8/site-packages (from seaborn) (1.5.3)\n",
            "Requirement already satisfied: numpy>=1.15 in /home/trusted-service-user/cluster-env/env/lib/python3.8/site-packages (from seaborn) (1.19.4)\n",
            "Requirement already satisfied: matplotlib>=2.2 in /home/trusted-service-user/cluster-env/env/lib/python3.8/site-packages (from seaborn) (3.4.2)\n",
            "Requirement already satisfied: pandas>=0.23 in /home/trusted-service-user/cluster-env/env/lib/python3.8/site-packages (from seaborn) (1.2.3)\n",
            "Requirement already satisfied: cycler>=0.10 in /home/trusted-service-user/cluster-env/env/lib/python3.8/site-packages (from matplotlib>=2.2->seaborn) (0.10.0)\n",
            "Requirement already satisfied: pillow>=6.2.0 in /home/trusted-service-user/cluster-env/env/lib/python3.8/site-packages (from matplotlib>=2.2->seaborn) (8.2.0)\n",
            "Requirement already satisfied: pyparsing>=2.2.1 in /home/trusted-service-user/cluster-env/env/lib/python3.8/site-packages (from matplotlib>=2.2->seaborn) (2.4.7)\n",
            "Requirement already satisfied: kiwisolver>=1.0.1 in /home/trusted-service-user/cluster-env/env/lib/python3.8/site-packages (from matplotlib>=2.2->seaborn) (1.3.1)\n",
            "Requirement already satisfied: python-dateutil>=2.7 in /home/trusted-service-user/cluster-env/env/lib/python3.8/site-packages (from matplotlib>=2.2->seaborn) (2.8.1)\n",
            "Requirement already satisfied: pytz>=2017.3 in /home/trusted-service-user/cluster-env/env/lib/python3.8/site-packages (from pandas>=0.23->seaborn) (2021.1)\n",
            "Requirement already satisfied: six in /home/trusted-service-user/cluster-env/env/lib/python3.8/site-packages (from cycler>=0.10->matplotlib>=2.2->seaborn) (1.16.0)\n",
            "\u001b[33mWARNING: You are using pip version 22.0.4; however, version 23.3.1 is available.\n",
            "You should consider upgrading via the '/nfs4/pyenv-bc62b20c-0084-442a-bca9-a431e4feafbe/bin/python -m pip install --upgrade pip' command.\u001b[0m\u001b[33m\n",
            "\u001b[0mNote: you may need to restart the kernel to use updated packages.\n"
          ]
        },
        {
          "data": {},
          "execution_count": 2,
          "metadata": {},
          "output_type": "execute_result"
        },
        {
          "name": "stdout",
          "output_type": "stream",
          "text": [
            "Warning: PySpark kernel has been restarted to use updated packages.\n",
            "\n"
          ]
        }
      ],
      "source": [
        "!pip install seaborn\n"
      ]
    },
    {
      "cell_type": "code",
      "execution_count": 3,
      "metadata": {
        "jupyter": {
          "outputs_hidden": false,
          "source_hidden": false
        },
        "nteract": {
          "transient": {
            "deleting": false
          }
        }
      },
      "outputs": [
        {
          "data": {
            "application/vnd.livy.statement-meta+json": {
              "execution_finish_time": "2023-11-20T05:57:27.1722102Z",
              "execution_start_time": "2023-11-20T05:57:27.172048Z",
              "livy_statement_state": "available",
              "parent_msg_id": "d0d575a9-26f2-48d4-913e-c661cc9e8d3a",
              "queued_time": "2023-11-20T05:52:35.6793983Z",
              "session_id": null,
              "session_start_time": null,
              "spark_jobs": null,
              "spark_pool": null,
              "state": "finished",
              "statement_id": -1
            },
            "text/plain": [
              "StatementMeta(, , -1, Finished, Available)"
            ]
          },
          "metadata": {},
          "output_type": "display_data"
        },
        {
          "data": {},
          "execution_count": 3,
          "metadata": {},
          "output_type": "execute_result"
        },
        {
          "name": "stdout",
          "output_type": "stream",
          "text": [
            "Requirement already satisfied: nltk in /home/trusted-service-user/cluster-env/env/lib/python3.8/site-packages (3.6.2)\n",
            "Requirement already satisfied: click in /home/trusted-service-user/cluster-env/env/lib/python3.8/site-packages (from nltk) (8.0.1)\n",
            "Requirement already satisfied: regex in /home/trusted-service-user/cluster-env/env/lib/python3.8/site-packages (from nltk) (2021.7.6)\n",
            "Requirement already satisfied: tqdm in /home/trusted-service-user/cluster-env/env/lib/python3.8/site-packages (from nltk) (4.61.2)\n",
            "Requirement already satisfied: joblib in /home/trusted-service-user/cluster-env/env/lib/python3.8/site-packages (from nltk) (1.0.1)\n",
            "\u001b[33mWARNING: You are using pip version 22.0.4; however, version 23.3.1 is available.\n",
            "You should consider upgrading via the '/nfs4/pyenv-bc62b20c-0084-442a-bca9-a431e4feafbe/bin/python -m pip install --upgrade pip' command.\u001b[0m\u001b[33m\n",
            "\u001b[0mNote: you may need to restart the kernel to use updated packages.\n"
          ]
        },
        {
          "data": {},
          "execution_count": 3,
          "metadata": {},
          "output_type": "execute_result"
        },
        {
          "name": "stdout",
          "output_type": "stream",
          "text": [
            "Warning: PySpark kernel has been restarted to use updated packages.\n",
            "\n"
          ]
        }
      ],
      "source": [
        "!pip install nltk"
      ]
    },
    {
      "cell_type": "code",
      "execution_count": 1,
      "metadata": {
        "gather": {
          "logged": 1700491812649
        },
        "jupyter": {
          "outputs_hidden": false,
          "source_hidden": false
        },
        "nteract": {
          "transient": {
            "deleting": false
          }
        }
      },
      "outputs": [
        {
          "data": {
            "application/vnd.livy.statement-meta+json": {
              "execution_finish_time": "2023-11-20T14:50:12.6064843Z",
              "execution_start_time": "2023-11-20T14:50:09.3378986Z",
              "livy_statement_state": "available",
              "parent_msg_id": "326e6426-e319-41cd-b91f-e401b52a6f68",
              "queued_time": "2023-11-20T14:48:29.0343251Z",
              "session_id": "25",
              "session_start_time": "2023-11-20T14:48:29.076914Z",
              "spark_jobs": {
                "jobs": [],
                "limit": 20,
                "numbers": {
                  "FAILED": 0,
                  "RUNNING": 0,
                  "SUCCEEDED": 0,
                  "UNKNOWN": 0
                },
                "rule": "ALL_DESC"
              },
              "spark_pool": "5a58fef9-6d5a-48be-a208-b669ac871209",
              "state": "finished",
              "statement_id": 6
            },
            "text/plain": [
              "StatementMeta(5a58fef9-6d5a-48be-a208-b669ac871209, 25, 6, Finished, Available)"
            ]
          },
          "metadata": {},
          "output_type": "display_data"
        },
        {
          "data": {
            "text/html": [
              "\n",
              "            <div>\n",
              "                <p><b>SparkSession - hive</b></p>\n",
              "                \n",
              "        <div>\n",
              "            <p><b>SparkContext</b></p>\n",
              "\n",
              "            <p><a href=\"http://vm-5a164428:35405\">Spark UI</a></p>\n",
              "\n",
              "            <dl>\n",
              "              <dt>Version</dt>\n",
              "                <dd><code>v3.2.2.5.1-100879434</code></dd>\n",
              "              <dt>Master</dt>\n",
              "                <dd><code>yarn</code></dd>\n",
              "              <dt>AppName</dt>\n",
              "                <dd><code>Azure ML Experiment</code></dd>\n",
              "            </dl>\n",
              "        </div>\n",
              "        \n",
              "            </div>\n",
              "        "
            ],
            "text/plain": [
              "<pyspark.sql.session.SparkSession at 0x7f958a9588b0>"
            ]
          },
          "execution_count": 11,
          "metadata": {},
          "output_type": "execute_result"
        }
      ],
      "source": [
        "spark"
      ]
    },
    {
      "cell_type": "code",
      "execution_count": 5,
      "metadata": {
        "jupyter": {
          "outputs_hidden": false,
          "source_hidden": false
        },
        "nteract": {
          "transient": {
            "deleting": false
          }
        }
      },
      "outputs": [
        {
          "data": {
            "application/vnd.livy.statement-meta+json": {
              "execution_finish_time": "2023-11-20T05:57:50.1352804Z",
              "execution_start_time": "2023-11-20T05:57:50.1351087Z",
              "livy_statement_state": "available",
              "parent_msg_id": "23a54a5e-cdc0-434c-84c3-6b415a217198",
              "queued_time": "2023-11-20T05:52:35.6820226Z",
              "session_id": null,
              "session_start_time": null,
              "spark_jobs": null,
              "spark_pool": null,
              "state": "finished",
              "statement_id": -1
            },
            "text/plain": [
              "StatementMeta(, , -1, Finished, Available)"
            ]
          },
          "metadata": {},
          "output_type": "display_data"
        },
        {
          "data": {},
          "execution_count": 5,
          "metadata": {},
          "output_type": "execute_result"
        },
        {
          "name": "stdout",
          "output_type": "stream",
          "text": [
            "Requirement already satisfied: plotly in /home/trusted-service-user/cluster-env/env/lib/python3.8/site-packages (4.14.3)\n",
            "Requirement already satisfied: retrying>=1.3.3 in /home/trusted-service-user/cluster-env/env/lib/python3.8/site-packages (from plotly) (1.3.3)\n",
            "Requirement already satisfied: six in /home/trusted-service-user/cluster-env/env/lib/python3.8/site-packages (from plotly) (1.16.0)\n",
            "\u001b[33mWARNING: You are using pip version 22.0.4; however, version 23.3.1 is available.\n",
            "You should consider upgrading via the '/nfs4/pyenv-bc62b20c-0084-442a-bca9-a431e4feafbe/bin/python -m pip install --upgrade pip' command.\u001b[0m\u001b[33m\n",
            "\u001b[0mNote: you may need to restart the kernel to use updated packages.\n"
          ]
        },
        {
          "data": {},
          "execution_count": 5,
          "metadata": {},
          "output_type": "execute_result"
        },
        {
          "name": "stdout",
          "output_type": "stream",
          "text": [
            "Warning: PySpark kernel has been restarted to use updated packages.\n",
            "\n"
          ]
        }
      ],
      "source": [
        "!pip install plotly"
      ]
    },
    {
      "cell_type": "code",
      "execution_count": 2,
      "metadata": {
        "gather": {
          "logged": 1700418394632
        },
        "jupyter": {
          "outputs_hidden": false,
          "source_hidden": false
        },
        "nteract": {
          "transient": {
            "deleting": false
          }
        }
      },
      "outputs": [
        {
          "data": {
            "application/vnd.livy.statement-meta+json": {
              "execution_finish_time": "2023-11-20T14:52:11.7145741Z",
              "execution_start_time": "2023-11-20T14:52:11.6816267Z",
              "livy_statement_state": "available",
              "parent_msg_id": "8bb5d540-f4fd-441e-8a89-c1bd84e5cfbb",
              "queued_time": "2023-11-20T14:50:23.4420684Z",
              "session_id": "26",
              "session_start_time": "2023-11-20T14:50:23.5504902Z",
              "spark_jobs": {
                "jobs": [],
                "limit": 20,
                "numbers": {
                  "FAILED": 0,
                  "RUNNING": 0,
                  "SUCCEEDED": 0,
                  "UNKNOWN": 0
                },
                "rule": "ALL_DESC"
              },
              "spark_pool": "5a58fef9-6d5a-48be-a208-b669ac871209",
              "state": "finished",
              "statement_id": -1
            },
            "text/plain": [
              "StatementMeta(5a58fef9-6d5a-48be-a208-b669ac871209, 26, -1, Finished, Available)"
            ]
          },
          "metadata": {},
          "output_type": "display_data"
        },
        {
          "name": "stdout",
          "output_type": "stream",
          "text": [
            "Unrecognized options: "
          ]
        }
      ],
      "source": [
        "%%configure -f \\\n",
        "{\"conf\": {\"spark.jars.packages\": \"com.johnsnowlabs.nlp:spark-nlp_2.12:5.1.2\"}}"
      ]
    },
    {
      "cell_type": "code",
      "execution_count": 3,
      "metadata": {
        "jupyter": {
          "outputs_hidden": false,
          "source_hidden": false
        },
        "nteract": {
          "transient": {
            "deleting": false
          }
        }
      },
      "outputs": [
        {
          "data": {
            "application/vnd.livy.statement-meta+json": {
              "execution_finish_time": "2023-11-20T14:53:17.371733Z",
              "execution_start_time": "2023-11-20T14:53:03.0833127Z",
              "livy_statement_state": "available",
              "parent_msg_id": "f62edb63-45d8-410e-9725-5232cd71bea8",
              "queued_time": "2023-11-20T14:52:32.8975876Z",
              "session_id": "26",
              "session_start_time": null,
              "spark_jobs": {
                "jobs": [],
                "limit": 20,
                "numbers": {
                  "FAILED": 0,
                  "RUNNING": 0,
                  "SUCCEEDED": 0,
                  "UNKNOWN": 0
                },
                "rule": "ALL_DESC"
              },
              "spark_pool": "5a58fef9-6d5a-48be-a208-b669ac871209",
              "state": "finished",
              "statement_id": 6
            },
            "text/plain": [
              "StatementMeta(5a58fef9-6d5a-48be-a208-b669ac871209, 26, 6, Finished, Available)"
            ]
          },
          "metadata": {},
          "output_type": "display_data"
        },
        {
          "name": "stdout",
          "output_type": "stream",
          "text": [
            "Collecting spark-nlp\n",
            "  Downloading spark_nlp-5.1.4-py2.py3-none-any.whl (540 kB)\n",
            "\u001b[K     |████████████████████████████████| 540 kB 9.8 MB/s eta 0:00:01\n",
            "\u001b[?25hInstalling collected packages: spark-nlp\n",
            "Successfully installed spark-nlp-5.1.4\n"
          ]
        }
      ],
      "source": [
        "!pip install spark-nlp"
      ]
    },
    {
      "cell_type": "code",
      "execution_count": 4,
      "metadata": {
        "gather": {
          "logged": 1700492007454
        },
        "jupyter": {
          "outputs_hidden": false,
          "source_hidden": false
        },
        "nteract": {
          "transient": {
            "deleting": false
          }
        }
      },
      "outputs": [
        {
          "data": {
            "application/vnd.livy.statement-meta+json": {
              "execution_finish_time": "2023-11-20T14:53:27.3022653Z",
              "execution_start_time": "2023-11-20T14:53:20.9743588Z",
              "livy_statement_state": "available",
              "parent_msg_id": "a2b907a6-118d-48ed-a5ec-e74166b07711",
              "queued_time": "2023-11-20T14:53:20.864602Z",
              "session_id": "26",
              "session_start_time": null,
              "spark_jobs": {
                "jobs": [],
                "limit": 20,
                "numbers": {
                  "FAILED": 0,
                  "RUNNING": 0,
                  "SUCCEEDED": 0,
                  "UNKNOWN": 0
                },
                "rule": "ALL_DESC"
              },
              "spark_pool": "5a58fef9-6d5a-48be-a208-b669ac871209",
              "state": "finished",
              "statement_id": 7
            },
            "text/plain": [
              "StatementMeta(5a58fef9-6d5a-48be-a208-b669ac871209, 26, 7, Finished, Available)"
            ]
          },
          "metadata": {},
          "output_type": "display_data"
        }
      ],
      "source": [
        "# load libraries\n",
        "import pandas as pd\n",
        "import numpy as np\n",
        "import plotly.express as px\n",
        "import matplotlib.pyplot as plt\n",
        "import json\n",
        "from pyspark.ml import Pipeline\n",
        "from pyspark.sql import SparkSession\n",
        "import pyspark.sql.functions as F\n",
        "from sparknlp.annotator import *\n",
        "from sparknlp.base import *\n",
        "import sparknlp\n",
        "from sparknlp.pretrained import PretrainedPipeline"
      ]
    },
    {
      "cell_type": "code",
      "execution_count": 9,
      "metadata": {
        "gather": {
          "logged": 1700492090645
        },
        "jupyter": {
          "outputs_hidden": false,
          "source_hidden": false
        },
        "nteract": {
          "transient": {
            "deleting": false
          }
        }
      },
      "outputs": [
        {
          "data": {
            "application/vnd.livy.statement-meta+json": {
              "execution_finish_time": "2023-11-20T14:54:50.5826747Z",
              "execution_start_time": "2023-11-20T14:54:50.2773496Z",
              "livy_statement_state": "available",
              "parent_msg_id": "75ed3be8-130c-46ae-845d-ae0488f7dd63",
              "queued_time": "2023-11-20T14:54:49.8626841Z",
              "session_id": "26",
              "session_start_time": null,
              "spark_jobs": {
                "jobs": [],
                "limit": 20,
                "numbers": {
                  "FAILED": 0,
                  "RUNNING": 0,
                  "SUCCEEDED": 0,
                  "UNKNOWN": 0
                },
                "rule": "ALL_DESC"
              },
              "spark_pool": "5a58fef9-6d5a-48be-a208-b669ac871209",
              "state": "finished",
              "statement_id": 12
            },
            "text/plain": [
              "StatementMeta(5a58fef9-6d5a-48be-a208-b669ac871209, 26, 12, Finished, Available)"
            ]
          },
          "metadata": {},
          "output_type": "display_data"
        },
        {
          "name": "stdout",
          "output_type": "stream",
          "text": [
            "azureml://subscriptions/58bb8a15-5d27-4d02-a5ca-772d24ae37a8/resourcegroups/project-rg/workspaces/group-02-aml/datastores/workspaceblobstore\n",
            "filtered-submissions-all2\n"
          ]
        }
      ],
      "source": [
        "# Azure Machine Learning workspace details:\n",
        "subscription = '58bb8a15-5d27-4d02-a5ca-772d24ae37a8'\n",
        "resource_group = 'project-rg'\n",
        "workspace = 'group-02-aml'\n",
        "datastore_name = 'workspaceblobstore'\n",
        "path_on_datastore = 'filtered-submissions-all2'\n",
        "\n",
        "# long-form Datastore uri format:\n",
        "uri = f'azureml://subscriptions/{subscription}/resourcegroups/{resource_group}/workspaces/{workspace}/datastores/{datastore_name}'\n",
        "print(uri)\n",
        "print(path_on_datastore)"
      ]
    },
    {
      "cell_type": "code",
      "execution_count": 14,
      "metadata": {
        "gather": {
          "logged": 1700492303495
        },
        "jupyter": {
          "outputs_hidden": false,
          "source_hidden": false
        },
        "nteract": {
          "transient": {
            "deleting": false
          }
        }
      },
      "outputs": [
        {
          "data": {
            "application/vnd.livy.statement-meta+json": {
              "execution_finish_time": "2023-11-20T14:58:23.4673907Z",
              "execution_start_time": "2023-11-20T14:58:23.179588Z",
              "livy_statement_state": "available",
              "parent_msg_id": "7364e6ac-2c51-4287-8371-69b07290bdfb",
              "queued_time": "2023-11-20T14:58:23.0846425Z",
              "session_id": "26",
              "session_start_time": null,
              "spark_jobs": {
                "jobs": [],
                "limit": 20,
                "numbers": {
                  "FAILED": 0,
                  "RUNNING": 0,
                  "SUCCEEDED": 0,
                  "UNKNOWN": 0
                },
                "rule": "ALL_DESC"
              },
              "spark_pool": "5a58fef9-6d5a-48be-a208-b669ac871209",
              "state": "finished",
              "statement_id": 17
            },
            "text/plain": [
              "StatementMeta(5a58fef9-6d5a-48be-a208-b669ac871209, 26, 17, Finished, Available)"
            ]
          },
          "metadata": {},
          "output_type": "display_data"
        },
        {
          "ename": "ModuleNotFoundError",
          "evalue": "No module named 'fsspec.callbacks'",
          "output_type": "error",
          "traceback": [
            "\u001b[0;31m---------------------------------------------------------------------------\u001b[0m",
            "\u001b[0;31mModuleNotFoundError\u001b[0m                       Traceback (most recent call last)",
            "\u001b[0;32m/tmp/ipykernel_14806/2800838313.py\u001b[0m in \u001b[0;36m<module>\u001b[0;34m\u001b[0m\n\u001b[0;32m----> 1\u001b[0;31m \u001b[0;32mfrom\u001b[0m \u001b[0mazureml\u001b[0m\u001b[0;34m.\u001b[0m\u001b[0mfsspec\u001b[0m \u001b[0;32mimport\u001b[0m \u001b[0mAzureMachineLearningFileSystem\u001b[0m\u001b[0;34m\u001b[0m\u001b[0;34m\u001b[0m\u001b[0m\n\u001b[0m\u001b[1;32m      2\u001b[0m \u001b[0;34m\u001b[0m\u001b[0m\n\u001b[1;32m      3\u001b[0m \u001b[0;31m# create the filesystem\u001b[0m\u001b[0;34m\u001b[0m\u001b[0;34m\u001b[0m\u001b[0;34m\u001b[0m\u001b[0m\n\u001b[1;32m      4\u001b[0m \u001b[0mfs\u001b[0m \u001b[0;34m=\u001b[0m \u001b[0mAzureMachineLearningFileSystem\u001b[0m\u001b[0;34m(\u001b[0m\u001b[0muri\u001b[0m\u001b[0;34m)\u001b[0m\u001b[0;34m\u001b[0m\u001b[0;34m\u001b[0m\u001b[0m\n\u001b[1;32m      5\u001b[0m \u001b[0;34m\u001b[0m\u001b[0m\n",
            "\u001b[0;32m~/cluster-env/env/lib/python3.8/site-packages/azureml/fsspec/__init__.py\u001b[0m in \u001b[0;36m<module>\u001b[0;34m\u001b[0m\n\u001b[1;32m      7\u001b[0m \u001b[0;34m\u001b[0m\u001b[0m\n\u001b[1;32m      8\u001b[0m \"\"\"\n\u001b[0;32m----> 9\u001b[0;31m \u001b[0;32mfrom\u001b[0m \u001b[0;34m.\u001b[0m\u001b[0mspec\u001b[0m \u001b[0;32mimport\u001b[0m \u001b[0mAzureMachineLearningFileSystem\u001b[0m\u001b[0;34m\u001b[0m\u001b[0;34m\u001b[0m\u001b[0m\n\u001b[0m\u001b[1;32m     10\u001b[0m \u001b[0;34m\u001b[0m\u001b[0m\n\u001b[1;32m     11\u001b[0m \u001b[0m__all__\u001b[0m \u001b[0;34m=\u001b[0m \u001b[0;34m[\u001b[0m\u001b[0;34m\"AzureMachineLearningFileSystem\"\u001b[0m\u001b[0;34m]\u001b[0m\u001b[0;34m\u001b[0m\u001b[0;34m\u001b[0m\u001b[0m\n",
            "\u001b[0;32m~/cluster-env/env/lib/python3.8/site-packages/azureml/fsspec/spec.py\u001b[0m in \u001b[0;36m<module>\u001b[0;34m\u001b[0m\n\u001b[1;32m     10\u001b[0m     \u001b[0msync\u001b[0m\u001b[0;34m\u001b[0m\u001b[0;34m\u001b[0m\u001b[0m\n\u001b[1;32m     11\u001b[0m )\n\u001b[0;32m---> 12\u001b[0;31m \u001b[0;32mfrom\u001b[0m \u001b[0mfsspec\u001b[0m\u001b[0;34m.\u001b[0m\u001b[0mcallbacks\u001b[0m \u001b[0;32mimport\u001b[0m \u001b[0m_DEFAULT_CALLBACK\u001b[0m\u001b[0;34m\u001b[0m\u001b[0;34m\u001b[0m\u001b[0m\n\u001b[0m\u001b[1;32m     13\u001b[0m \u001b[0;32mfrom\u001b[0m \u001b[0mfsspec\u001b[0m\u001b[0;34m.\u001b[0m\u001b[0mimplementations\u001b[0m\u001b[0;34m.\u001b[0m\u001b[0mlocal\u001b[0m \u001b[0;32mimport\u001b[0m \u001b[0mmake_path_posix\u001b[0m\u001b[0;34m\u001b[0m\u001b[0;34m\u001b[0m\u001b[0m\n\u001b[1;32m     14\u001b[0m \u001b[0;34m\u001b[0m\u001b[0m\n",
            "\u001b[0;31mModuleNotFoundError\u001b[0m: No module named 'fsspec.callbacks'"
          ]
        }
      ],
      "source": [
        "from azureml.fsspec import AzureMachineLearningFileSystem\n",
        "\n",
        "# create the filesystem\n",
        "fs = AzureMachineLearningFileSystem(uri)\n",
        "\n",
        "# append parquet files in folder to a list\n",
        "dflist = []\n",
        "for path in fs.glob(f'{path_on_datastore}/*.parquet'):\n",
        "    with fs.open(path) as f:\n",
        "        dflist.append(pd.read_parquet(f))\n",
        "\n",
        "# concatenate data frames\n",
        "reddit_df = pd.concat(dflist)"
      ]
    },
    {
      "cell_type": "code",
      "execution_count": 18,
      "metadata": {
        "gather": {
          "logged": 1700492464780
        },
        "jupyter": {
          "outputs_hidden": false,
          "source_hidden": false
        },
        "nteract": {
          "transient": {
            "deleting": false
          }
        }
      },
      "outputs": [
        {
          "data": {
            "application/vnd.livy.statement-meta+json": {
              "execution_finish_time": "2023-11-20T15:01:04.7053236Z",
              "execution_start_time": "2023-11-20T15:01:02.3131924Z",
              "livy_statement_state": "available",
              "parent_msg_id": "7c4321d4-f81a-44f3-a8d2-4e1bdbd5d4e6",
              "queued_time": "2023-11-20T15:01:02.2128066Z",
              "session_id": "26",
              "session_start_time": null,
              "spark_jobs": {
                "jobs": [],
                "limit": 20,
                "numbers": {
                  "FAILED": 0,
                  "RUNNING": 0,
                  "SUCCEEDED": 0,
                  "UNKNOWN": 0
                },
                "rule": "ALL_DESC"
              },
              "spark_pool": "5a58fef9-6d5a-48be-a208-b669ac871209",
              "state": "finished",
              "statement_id": 21
            },
            "text/plain": [
              "StatementMeta(5a58fef9-6d5a-48be-a208-b669ac871209, 26, 21, Finished, Available)"
            ]
          },
          "metadata": {},
          "output_type": "display_data"
        },
        {
          "data": {
            "text/plain": [
              "'/synfs/notebook/26/aml_notebook_mount'"
            ]
          },
          "execution_count": 41,
          "metadata": {},
          "output_type": "execute_result"
        }
      ],
      "source": [
        "import os\n",
        "os.getcwd()"
      ]
    },
    {
      "cell_type": "code",
      "execution_count": 33,
      "metadata": {
        "gather": {
          "logged": 1700492873099
        },
        "jupyter": {
          "outputs_hidden": false,
          "source_hidden": false
        },
        "nteract": {
          "transient": {
            "deleting": false
          }
        }
      },
      "outputs": [
        {
          "data": {
            "application/vnd.livy.statement-meta+json": {
              "execution_finish_time": "2023-11-20T15:07:53.0477554Z",
              "execution_start_time": "2023-11-20T15:07:52.762032Z",
              "livy_statement_state": "available",
              "parent_msg_id": "975b89cb-4db8-4c26-b11a-0dacf6f8bae0",
              "queued_time": "2023-11-20T15:07:52.6407586Z",
              "session_id": "26",
              "session_start_time": null,
              "spark_jobs": {
                "jobs": [],
                "limit": 20,
                "numbers": {
                  "FAILED": 0,
                  "RUNNING": 0,
                  "SUCCEEDED": 0,
                  "UNKNOWN": 0
                },
                "rule": "ALL_DESC"
              },
              "spark_pool": "5a58fef9-6d5a-48be-a208-b669ac871209",
              "state": "finished",
              "statement_id": 36
            },
            "text/plain": [
              "StatementMeta(5a58fef9-6d5a-48be-a208-b669ac871209, 26, 36, Finished, Available)"
            ]
          },
          "metadata": {},
          "output_type": "display_data"
        }
      ],
      "source": [
        "# only run this when not doing spark NLP\n",
        "data_path = \"Users/fall-2023-reddit-project-team-02/data/csv/\"\n",
        "reddit_df = pd.read_csv(data_path + \"reddit_df.csv\")\n",
        "# reddit_df = pd.read_csv(\"../../data/csv/reddit_df.csv\")\n",
        "reddit_df.head()"
      ]
    },
    {
      "cell_type": "code",
      "execution_count": 21,
      "metadata": {
        "gather": {
          "logged": 1700492600327
        },
        "jupyter": {
          "outputs_hidden": false,
          "source_hidden": false
        },
        "nteract": {
          "transient": {
            "deleting": false
          }
        }
      },
      "outputs": [
        {
          "data": {
            "application/vnd.livy.statement-meta+json": {
              "execution_finish_time": "2023-11-20T15:03:19.7369767Z",
              "execution_start_time": "2023-11-20T15:03:13.3999982Z",
              "livy_statement_state": "available",
              "parent_msg_id": "cc090c6b-fdfe-4ffd-9607-f65208542c40",
              "queued_time": "2023-11-20T15:03:13.3036575Z",
              "session_id": "26",
              "session_start_time": null,
              "spark_jobs": {
                "jobs": [],
                "limit": 20,
                "numbers": {
                  "FAILED": 0,
                  "RUNNING": 0,
                  "SUCCEEDED": 0,
                  "UNKNOWN": 0
                },
                "rule": "ALL_DESC"
              },
              "spark_pool": "5a58fef9-6d5a-48be-a208-b669ac871209",
              "state": "finished",
              "statement_id": 24
            },
            "text/plain": [
              "StatementMeta(5a58fef9-6d5a-48be-a208-b669ac871209, 26, 24, Finished, Available)"
            ]
          },
          "metadata": {},
          "output_type": "display_data"
        },
        {
          "name": "stdout",
          "output_type": "stream",
          "text": [
            "archived \t\t\t 0 0.0\n",
            "author \t\t\t 0 0.0\n",
            "contest_mode \t\t\t 0 0.0\n",
            "created_utc \t\t\t 0 0.0\n",
            "domain \t\t\t 13080 0.060167253926051316\n",
            "edited \t\t\t 0 0.0\n",
            "gilded \t\t\t 0 0.0\n",
            "hidden \t\t\t 0 0.0\n",
            "hide_score \t\t\t 0 0.0\n",
            "id \t\t\t 0 0.0\n",
            "is_crosspostable \t\t\t 0 0.0\n",
            "is_reddit_media_domain \t\t\t 0 0.0\n",
            "is_self \t\t\t 0 0.0\n",
            "is_video \t\t\t 0 0.0\n",
            "link_flair_css_class \t\t\t 164520 0.756782615895563\n",
            "link_flair_text \t\t\t 123324 0.5672833656862655\n",
            "locked \t\t\t 0 0.0\n",
            "media_embed \t\t\t 0 0.0\n",
            "num_comments \t\t\t 0 0.0\n",
            "num_crossposts \t\t\t 0 0.0\n",
            "over_18 \t\t\t 0 0.0\n",
            "parent_whitelist_status \t\t\t 0 0.0\n",
            "permalink \t\t\t 0 0.0\n",
            "pinned \t\t\t 0 0.0\n",
            "post_hint \t\t\t 171158 0.7873170372687379\n",
            "preview \t\t\t 171158 0.7873170372687379\n",
            "retrieved_on \t\t\t 47946 0.2205488651940716\n",
            "score \t\t\t 0 0.0\n",
            "secure_media_embed \t\t\t 0 0.0\n",
            "selftext \t\t\t 82012 0.37725052209352605\n",
            "spoiler \t\t\t 0 0.0\n",
            "stickied \t\t\t 0 0.0\n",
            "subreddit \t\t\t 0 0.0\n",
            "subreddit_id \t\t\t 0 0.0\n",
            "thumbnail \t\t\t 0 0.0\n",
            "thumbnail_height \t\t\t 118220 0.5438052568148155\n",
            "thumbnail_width \t\t\t 118220 0.5438052568148155\n",
            "title \t\t\t 0 0.0\n",
            "url \t\t\t 13080 0.060167253926051316\n",
            "whitelist_status \t\t\t 0 0.0\n",
            "year \t\t\t 0 0.0\n",
            "month \t\t\t 0 0.0\n",
            "engagement_label \t\t\t 0 0.0\n",
            "score_label \t\t\t 0 0.0\n"
          ]
        }
      ],
      "source": [
        "# check for null values\n",
        "cols_to_drop = []\n",
        "for i in reddit_df.columns:\n",
        "    print(i, '\\t\\t\\t', reddit_df[i].isna().sum(), reddit_df[i].isna().sum()/len(reddit_df))\n",
        "    if (reddit_df[i].isna().sum()/len(reddit_df)) > .90:\n",
        "        cols_to_drop.append(i)\n",
        "# drop null values\n",
        "reddit_df = reddit_df.drop(cols_to_drop, axis = 'columns')\n",
        "\n",
        "# Convert 'created_utc' to datetime\n",
        "reddit_df['created_utc'] = pd.to_datetime(reddit_df['created_utc'])\n",
        "\n",
        "# Extract year from 'created_utc'\n",
        "reddit_df['year'] = reddit_df['created_utc'].dt.year\n",
        "reddit_df['year'] = reddit_df['year'].astype('str')\n",
        "\n",
        "# Extract month from 'created_utc'\n",
        "reddit_df['month'] = reddit_df['created_utc'].dt.month\n",
        "\n",
        "# feature engineering\n",
        "# Create labels engagement_label\n",
        "reddit_df['engagement_label'] = np.where((reddit_df['num_comments'] >= 0) & (reddit_df['num_comments'] < 20), 'low',\n",
        "                                np.where((reddit_df['num_comments'] >= 20) & (reddit_df['num_comments'] < 100), 'medium', 'high'))\n",
        "\n",
        "# Create labels score_label\n",
        "reddit_df['score_label'] = np.where((reddit_df['score'] >= 0) & (reddit_df['score'] < 84), 'low',\n",
        "                                np.where((reddit_df['score'] >= 84) & (reddit_df['score'] < 200), 'medium', 'high'))\n",
        "                        \n",
        "# Create labels num_words\n",
        "reddit_df['num_words'] = reddit_df.fillna('').apply(lambda row: len(row['selftext'].split() + row['title'].split()), axis = 'columns')\n"
      ]
    },
    {
      "cell_type": "code",
      "execution_count": 22,
      "metadata": {
        "gather": {
          "logged": 1700492606944
        },
        "jupyter": {
          "outputs_hidden": false,
          "source_hidden": false
        },
        "nteract": {
          "transient": {
            "deleting": false
          }
        }
      },
      "outputs": [
        {
          "data": {
            "application/vnd.livy.statement-meta+json": {
              "execution_finish_time": "2023-11-20T15:03:26.8712911Z",
              "execution_start_time": "2023-11-20T15:03:26.5761034Z",
              "livy_statement_state": "available",
              "parent_msg_id": "fa79debd-c912-4993-9dd0-4ecc1b064e48",
              "queued_time": "2023-11-20T15:03:26.0779372Z",
              "session_id": "26",
              "session_start_time": null,
              "spark_jobs": {
                "jobs": [],
                "limit": 20,
                "numbers": {
                  "FAILED": 0,
                  "RUNNING": 0,
                  "SUCCEEDED": 0,
                  "UNKNOWN": 0
                },
                "rule": "ALL_DESC"
              },
              "spark_pool": "5a58fef9-6d5a-48be-a208-b669ac871209",
              "state": "finished",
              "statement_id": 25
            },
            "text/plain": [
              "StatementMeta(5a58fef9-6d5a-48be-a208-b669ac871209, 26, 25, Finished, Available)"
            ]
          },
          "metadata": {},
          "output_type": "display_data"
        },
        {
          "name": "stdout",
          "output_type": "stream",
          "text": [
            "   archived     author  contest_mode         created_utc        domain  \\\n",
            "0     False  [deleted]         False 2023-02-22 21:23:45           NaN   \n",
            "1     False  thewheisk         False 2023-02-22 21:25:33  self.Seattle   \n",
            "\n",
            "          edited  gilded  hidden  hide_score       id  ...  thumbnail_height  \\\n",
            "0  1.677101214E9       0   False       False  119dv0z  ...               NaN   \n",
            "1          false       0   False       False  119dxqq  ...               NaN   \n",
            "\n",
            "   thumbnail_width                                              title  \\\n",
            "0              NaN        Should I move to D.C. or commute from NoVa?   \n",
            "1              NaN  ChatGPT - what should happen to a sitting memb...   \n",
            "\n",
            "                                                 url whitelist_status  year  \\\n",
            "0                                                NaN          all_ads  2023   \n",
            "1  https://www.reddit.com/r/Seattle/comments/119d...          all_ads  2023   \n",
            "\n",
            "   month engagement_label  score_label  num_words  \n",
            "0      2              low          low         10  \n",
            "1      2              low          low         16  \n",
            "\n",
            "[2 rows x 45 columns]\n"
          ]
        }
      ],
      "source": [
        "# check the first few row of reddit_df\n",
        "print(reddit_df.head(2))"
      ]
    },
    {
      "cell_type": "markdown",
      "metadata": {
        "nteract": {
          "transient": {
            "deleting": false
          }
        }
      },
      "source": [
        "### Identify important keywords \n",
        "\n",
        "Use regex searches to create at least two dummy variables to identify comments on particular topics\n",
        "\n",
        "|dummy | regex|\n",
        "|-----------|-----------|\n",
        "|airbnb|**(?i)airbnb**|\n",
        "|rent|**(?i)rent\\|(?i)rental\\|(?i)renting**|\n",
        "|gentrification|**(?i)gentrification\\|(?i)gentrify\\|(?i)gentrified**|\n",
        "|public transit|**(?i)public\\s+transit\\|(?i)bus\\|(?i)subway\\|(?i)metro\\|(?i)tram**|\n",
        "|tourists|**(?i)tourist\\|(?i)tourism**|\n",
        "\n"
      ]
    },
    {
      "cell_type": "code",
      "execution_count": 23,
      "metadata": {
        "gather": {
          "logged": 1700492611924
        },
        "jupyter": {
          "outputs_hidden": false,
          "source_hidden": false
        },
        "nteract": {
          "transient": {
            "deleting": false
          }
        }
      },
      "outputs": [
        {
          "data": {
            "application/vnd.livy.statement-meta+json": {
              "execution_finish_time": "2023-11-20T15:03:31.8221763Z",
              "execution_start_time": "2023-11-20T15:03:26.9825268Z",
              "livy_statement_state": "available",
              "parent_msg_id": "770a855c-983c-45df-9969-0c223fb4fc8e",
              "queued_time": "2023-11-20T15:03:26.1641048Z",
              "session_id": "26",
              "session_start_time": null,
              "spark_jobs": {
                "jobs": [],
                "limit": 20,
                "numbers": {
                  "FAILED": 0,
                  "RUNNING": 0,
                  "SUCCEEDED": 0,
                  "UNKNOWN": 0
                },
                "rule": "ALL_DESC"
              },
              "spark_pool": "5a58fef9-6d5a-48be-a208-b669ac871209",
              "state": "finished",
              "statement_id": 26
            },
            "text/plain": [
              "StatementMeta(5a58fef9-6d5a-48be-a208-b669ac871209, 26, 26, Finished, Available)"
            ]
          },
          "metadata": {},
          "output_type": "display_data"
        }
      ],
      "source": [
        "from pyspark.sql import SparkSession\n",
        "\n",
        "# Convert pandas DataFrame to PySpark DataFrame\n",
        "reddit_df_spark = spark.createDataFrame(reddit_df)"
      ]
    },
    {
      "cell_type": "code",
      "execution_count": 24,
      "metadata": {
        "gather": {
          "logged": 1700492612329
        },
        "jupyter": {
          "outputs_hidden": true,
          "source_hidden": false
        },
        "nteract": {
          "transient": {
            "deleting": false
          }
        }
      },
      "outputs": [
        {
          "data": {
            "application/vnd.livy.statement-meta+json": {
              "execution_finish_time": "2023-11-20T15:03:32.2156435Z",
              "execution_start_time": "2023-11-20T15:03:31.9243663Z",
              "livy_statement_state": "available",
              "parent_msg_id": "d0a6dafc-2bc9-4b84-ad2d-640a4ee57612",
              "queued_time": "2023-11-20T15:03:26.1651148Z",
              "session_id": "26",
              "session_start_time": null,
              "spark_jobs": {
                "jobs": [],
                "limit": 20,
                "numbers": {
                  "FAILED": 0,
                  "RUNNING": 0,
                  "SUCCEEDED": 0,
                  "UNKNOWN": 0
                },
                "rule": "ALL_DESC"
              },
              "spark_pool": "5a58fef9-6d5a-48be-a208-b669ac871209",
              "state": "finished",
              "statement_id": 27
            },
            "text/plain": [
              "StatementMeta(5a58fef9-6d5a-48be-a208-b669ac871209, 26, 27, Finished, Available)"
            ]
          },
          "metadata": {},
          "output_type": "display_data"
        },
        {
          "name": "stdout",
          "output_type": "stream",
          "text": [
            "root\n",
            " |-- archived: boolean (nullable = true)\n",
            " |-- author: string (nullable = true)\n",
            " |-- contest_mode: boolean (nullable = true)\n",
            " |-- created_utc: timestamp (nullable = true)\n",
            " |-- domain: string (nullable = true)\n",
            " |-- edited: string (nullable = true)\n",
            " |-- gilded: long (nullable = true)\n",
            " |-- hidden: boolean (nullable = true)\n",
            " |-- hide_score: boolean (nullable = true)\n",
            " |-- id: string (nullable = true)\n",
            " |-- is_crosspostable: boolean (nullable = true)\n",
            " |-- is_reddit_media_domain: boolean (nullable = true)\n",
            " |-- is_self: boolean (nullable = true)\n",
            " |-- is_video: boolean (nullable = true)\n",
            " |-- link_flair_css_class: string (nullable = true)\n",
            " |-- link_flair_text: string (nullable = true)\n",
            " |-- locked: boolean (nullable = true)\n",
            " |-- media_embed: string (nullable = true)\n",
            " |-- num_comments: long (nullable = true)\n",
            " |-- num_crossposts: long (nullable = true)\n",
            " |-- over_18: boolean (nullable = true)\n",
            " |-- parent_whitelist_status: string (nullable = true)\n",
            " |-- permalink: string (nullable = true)\n",
            " |-- pinned: boolean (nullable = true)\n",
            " |-- post_hint: string (nullable = true)\n",
            " |-- preview: string (nullable = true)\n",
            " |-- retrieved_on: string (nullable = true)\n",
            " |-- score: long (nullable = true)\n",
            " |-- secure_media_embed: string (nullable = true)\n",
            " |-- selftext: string (nullable = true)\n",
            " |-- spoiler: boolean (nullable = true)\n",
            " |-- stickied: boolean (nullable = true)\n",
            " |-- subreddit: string (nullable = true)\n",
            " |-- subreddit_id: string (nullable = true)\n",
            " |-- thumbnail: string (nullable = true)\n",
            " |-- thumbnail_height: double (nullable = true)\n",
            " |-- thumbnail_width: double (nullable = true)\n",
            " |-- title: string (nullable = true)\n",
            " |-- url: string (nullable = true)\n",
            " |-- whitelist_status: string (nullable = true)\n",
            " |-- year: string (nullable = true)\n",
            " |-- month: long (nullable = true)\n",
            " |-- engagement_label: string (nullable = true)\n",
            " |-- score_label: string (nullable = true)\n",
            " |-- num_words: long (nullable = true)\n",
            "\n"
          ]
        }
      ],
      "source": [
        "reddit_df_spark.printSchema()"
      ]
    },
    {
      "cell_type": "code",
      "execution_count": 25,
      "metadata": {
        "gather": {
          "logged": 1700492614514
        },
        "jupyter": {
          "outputs_hidden": false,
          "source_hidden": false
        },
        "nteract": {
          "transient": {
            "deleting": false
          }
        }
      },
      "outputs": [
        {
          "data": {
            "application/vnd.livy.statement-meta+json": {
              "execution_finish_time": "2023-11-20T15:03:33.8657586Z",
              "execution_start_time": "2023-11-20T15:03:32.3151594Z",
              "livy_statement_state": "available",
              "parent_msg_id": "79fcefd1-8981-4acc-8932-bd481a27d19a",
              "queued_time": "2023-11-20T15:03:26.2494975Z",
              "session_id": "26",
              "session_start_time": null,
              "spark_jobs": {
                "jobs": [],
                "limit": 20,
                "numbers": {
                  "FAILED": 0,
                  "RUNNING": 0,
                  "SUCCEEDED": 0,
                  "UNKNOWN": 0
                },
                "rule": "ALL_DESC"
              },
              "spark_pool": "5a58fef9-6d5a-48be-a208-b669ac871209",
              "state": "finished",
              "statement_id": 28
            },
            "text/plain": [
              "StatementMeta(5a58fef9-6d5a-48be-a208-b669ac871209, 26, 28, Finished, Available)"
            ]
          },
          "metadata": {},
          "output_type": "display_data"
        }
      ],
      "source": [
        "from pyspark.sql.functions import col,when,count\n",
        "\n",
        "# For \"airbnb\" dummy variable\n",
        "reddit_df_spark = reddit_df_spark.withColumn(\"airbnb\", col(\"selftext\").rlike(r\"(?i)airbnb\"))\n",
        "# For \"rent\" dummy variable\n",
        "reddit_df_spark = reddit_df_spark.withColumn(\"rent\", col(\"selftext\").rlike(r\"(?i)rent|rental|renting\"))\n",
        "# For \"gentrification\" dummy variable\n",
        "reddit_df_spark = reddit_df_spark.withColumn(\"gentrification\", col(\"selftext\").rlike(r\"(?i)gentrification|gentrify|gentrifier|gentrifiers|gentrified\"))\n",
        "# For \"public_transit\" dummy variable\n",
        "reddit_df_spark = reddit_df_spark.withColumn(\"public_transit\", col(\"selftext\").rlike(r\"(?i)public\\s+transit|bus|subway|metro|tram\"))\n",
        "# For \"tourists\" dummy variable\n",
        "reddit_df_spark = reddit_df_spark.withColumn(\"tourists\", col(\"selftext\").rlike(r\"(?i)tourist|tourism\"))\n"
      ]
    },
    {
      "cell_type": "code",
      "execution_count": 26,
      "metadata": {
        "gather": {
          "logged": 1700492614637
        },
        "jupyter": {
          "outputs_hidden": false,
          "source_hidden": false
        },
        "nteract": {
          "transient": {
            "deleting": false
          }
        }
      },
      "outputs": [
        {
          "data": {
            "application/vnd.livy.statement-meta+json": {
              "execution_finish_time": "2023-11-20T15:03:34.2774929Z",
              "execution_start_time": "2023-11-20T15:03:33.9720765Z",
              "livy_statement_state": "available",
              "parent_msg_id": "b6a29859-12b4-4fb6-a77c-ac30740e8612",
              "queued_time": "2023-11-20T15:03:26.352342Z",
              "session_id": "26",
              "session_start_time": null,
              "spark_jobs": {
                "jobs": [],
                "limit": 20,
                "numbers": {
                  "FAILED": 0,
                  "RUNNING": 0,
                  "SUCCEEDED": 0,
                  "UNKNOWN": 0
                },
                "rule": "ALL_DESC"
              },
              "spark_pool": "5a58fef9-6d5a-48be-a208-b669ac871209",
              "state": "finished",
              "statement_id": 29
            },
            "text/plain": [
              "StatementMeta(5a58fef9-6d5a-48be-a208-b669ac871209, 26, 29, Finished, Available)"
            ]
          },
          "metadata": {},
          "output_type": "display_data"
        }
      ],
      "source": [
        "from pyspark.sql import functions as F\n",
        "\n",
        "# Group by the dummy variables and count each group\n",
        "result_a = reddit_df_spark.groupBy('airbnb').agg(F.count('*').alias('Count'))"
      ]
    },
    {
      "cell_type": "code",
      "execution_count": 27,
      "metadata": {
        "gather": {
          "logged": 1700492614818
        },
        "jupyter": {
          "outputs_hidden": false,
          "source_hidden": false
        },
        "nteract": {
          "transient": {
            "deleting": false
          }
        }
      },
      "outputs": [
        {
          "data": {
            "application/vnd.livy.statement-meta+json": {
              "execution_finish_time": "2023-11-20T15:03:34.6891145Z",
              "execution_start_time": "2023-11-20T15:03:34.3760667Z",
              "livy_statement_state": "available",
              "parent_msg_id": "5c7d20b6-8802-4f39-a1d7-d83326febc19",
              "queued_time": "2023-11-20T15:03:26.4368335Z",
              "session_id": "26",
              "session_start_time": null,
              "spark_jobs": {
                "jobs": [],
                "limit": 20,
                "numbers": {
                  "FAILED": 0,
                  "RUNNING": 0,
                  "SUCCEEDED": 0,
                  "UNKNOWN": 0
                },
                "rule": "ALL_DESC"
              },
              "spark_pool": "5a58fef9-6d5a-48be-a208-b669ac871209",
              "state": "finished",
              "statement_id": 30
            },
            "text/plain": [
              "StatementMeta(5a58fef9-6d5a-48be-a208-b669ac871209, 26, 30, Finished, Available)"
            ]
          },
          "metadata": {},
          "output_type": "display_data"
        },
        {
          "data": {
            "text/plain": [
              "DataFrame[airbnb: boolean, Count: bigint]"
            ]
          },
          "execution_count": 59,
          "metadata": {},
          "output_type": "execute_result"
        }
      ],
      "source": [
        "result_a"
      ]
    },
    {
      "cell_type": "markdown",
      "metadata": {
        "nteract": {
          "transient": {
            "deleting": false
          }
        }
      },
      "source": [
        "###  Define Spark NLP pipleline"
      ]
    },
    {
      "cell_type": "code",
      "execution_count": 28,
      "metadata": {
        "gather": {
          "logged": 1700492755278
        },
        "jupyter": {
          "outputs_hidden": false,
          "source_hidden": false
        },
        "nteract": {
          "transient": {
            "deleting": false
          }
        }
      },
      "outputs": [
        {
          "data": {
            "application/vnd.livy.statement-meta+json": {
              "execution_finish_time": "2023-11-20T15:05:55.1906599Z",
              "execution_start_time": "2023-11-20T15:03:34.7955646Z",
              "livy_statement_state": "available",
              "parent_msg_id": "38df9711-ef47-4f0b-a121-8b7aca0a53fa",
              "queued_time": "2023-11-20T15:03:26.5321905Z",
              "session_id": "26",
              "session_start_time": null,
              "spark_jobs": {
                "jobs": [
                  {
                    "completionTime": "2023-11-20T15:05:51.845GMT",
                    "dataRead": 355,
                    "dataWritten": 0,
                    "description": "Job group for statement 31:\n# Step 1: Transforms raw title into 'document' annotation\ndocumentAssembler = DocumentAssembler()    .setInputCol(\"selftext\")    .setOutputCol(\"document\")\n\n# Step 2: Annotate sentences in the document\nsentenceDetector = SentenceDetector()    .setInputCols([\"document\"])    .setOutputCol(\"sentence\")\n\n# Step 3: Tokenize the sentences into tokens\ntokenizer = Tokenizer()    .setInputCols([\"sentence\"])    .setOutputCol(\"token\")\n\n# Step 4: Normalize the tokens\nnormalizer = Normalizer()    .setInputCols([\"token\"])    .setOutputCol(\"normalized\")    .setLowercase(True)    .setCleanupPatterns([\"[^\\w\\d\\s]\"])  # Removes any non-word, non-digit, non-whitespace characters\n\n# Step 5: Clean tokens using the StopWordsCleaner\nstop_words_cleaner = StopWordsCleaner().pretrained(\"stopwords_iso\", \"en\")    .setInputCols([\"normalized\"])    .setOutputCol(\"cleanTokens\")    .setCaseSensitive(False)\n\n# Step 6: Load a pretrained Universal Sentence Encoder model\nuse = UniversalSentenceEncoder.pretrained(name=\"tfhu...",
                    "displayName": "first at Feature.scala:182",
                    "jobGroup": "31",
                    "jobId": 3,
                    "killedTasksSummary": {},
                    "name": "first at Feature.scala:182",
                    "numActiveStages": 0,
                    "numActiveTasks": 0,
                    "numCompletedIndices": 1,
                    "numCompletedStages": 1,
                    "numCompletedTasks": 1,
                    "numFailedStages": 0,
                    "numFailedTasks": 0,
                    "numKilledTasks": 0,
                    "numSkippedStages": 0,
                    "numSkippedTasks": 0,
                    "numTasks": 1,
                    "rowCount": 1,
                    "stageIds": [
                      3
                    ],
                    "status": "SUCCEEDED",
                    "submissionTime": "2023-11-20T15:05:51.576GMT",
                    "usageDescription": ""
                  },
                  {
                    "completionTime": "2023-11-20T15:05:51.430GMT",
                    "dataRead": 463,
                    "dataWritten": 0,
                    "description": "Job group for statement 31:\n# Step 1: Transforms raw title into 'document' annotation\ndocumentAssembler = DocumentAssembler()    .setInputCol(\"selftext\")    .setOutputCol(\"document\")\n\n# Step 2: Annotate sentences in the document\nsentenceDetector = SentenceDetector()    .setInputCols([\"document\"])    .setOutputCol(\"sentence\")\n\n# Step 3: Tokenize the sentences into tokens\ntokenizer = Tokenizer()    .setInputCols([\"sentence\"])    .setOutputCol(\"token\")\n\n# Step 4: Normalize the tokens\nnormalizer = Normalizer()    .setInputCols([\"token\"])    .setOutputCol(\"normalized\")    .setLowercase(True)    .setCleanupPatterns([\"[^\\w\\d\\s]\"])  # Removes any non-word, non-digit, non-whitespace characters\n\n# Step 5: Clean tokens using the StopWordsCleaner\nstop_words_cleaner = StopWordsCleaner().pretrained(\"stopwords_iso\", \"en\")    .setInputCols([\"normalized\"])    .setOutputCol(\"cleanTokens\")    .setCaseSensitive(False)\n\n# Step 6: Load a pretrained Universal Sentence Encoder model\nuse = UniversalSentenceEncoder.pretrained(name=\"tfhu...",
                    "displayName": "first at ReadWrite.scala:587",
                    "jobGroup": "31",
                    "jobId": 2,
                    "killedTasksSummary": {},
                    "name": "first at ReadWrite.scala:587",
                    "numActiveStages": 0,
                    "numActiveTasks": 0,
                    "numCompletedIndices": 1,
                    "numCompletedStages": 1,
                    "numCompletedTasks": 1,
                    "numFailedStages": 0,
                    "numFailedTasks": 0,
                    "numKilledTasks": 0,
                    "numSkippedStages": 0,
                    "numSkippedTasks": 0,
                    "numTasks": 1,
                    "rowCount": 1,
                    "stageIds": [
                      2
                    ],
                    "status": "SUCCEEDED",
                    "submissionTime": "2023-11-20T15:05:51.200GMT",
                    "usageDescription": ""
                  },
                  {
                    "completionTime": "2023-11-20T15:04:49.610GMT",
                    "dataRead": 346,
                    "dataWritten": 0,
                    "description": "Job group for statement 31:\n# Step 1: Transforms raw title into 'document' annotation\ndocumentAssembler = DocumentAssembler()    .setInputCol(\"selftext\")    .setOutputCol(\"document\")\n\n# Step 2: Annotate sentences in the document\nsentenceDetector = SentenceDetector()    .setInputCols([\"document\"])    .setOutputCol(\"sentence\")\n\n# Step 3: Tokenize the sentences into tokens\ntokenizer = Tokenizer()    .setInputCols([\"sentence\"])    .setOutputCol(\"token\")\n\n# Step 4: Normalize the tokens\nnormalizer = Normalizer()    .setInputCols([\"token\"])    .setOutputCol(\"normalized\")    .setLowercase(True)    .setCleanupPatterns([\"[^\\w\\d\\s]\"])  # Removes any non-word, non-digit, non-whitespace characters\n\n# Step 5: Clean tokens using the StopWordsCleaner\nstop_words_cleaner = StopWordsCleaner().pretrained(\"stopwords_iso\", \"en\")    .setInputCols([\"normalized\"])    .setOutputCol(\"cleanTokens\")    .setCaseSensitive(False)\n\n# Step 6: Load a pretrained Universal Sentence Encoder model\nuse = UniversalSentenceEncoder.pretrained(name=\"tfhu...",
                    "displayName": "first at ReadWrite.scala:587",
                    "jobGroup": "31",
                    "jobId": 1,
                    "killedTasksSummary": {},
                    "name": "first at ReadWrite.scala:587",
                    "numActiveStages": 0,
                    "numActiveTasks": 0,
                    "numCompletedIndices": 1,
                    "numCompletedStages": 1,
                    "numCompletedTasks": 1,
                    "numFailedStages": 0,
                    "numFailedTasks": 0,
                    "numKilledTasks": 0,
                    "numSkippedStages": 0,
                    "numSkippedTasks": 0,
                    "numTasks": 1,
                    "rowCount": 1,
                    "stageIds": [
                      1
                    ],
                    "status": "SUCCEEDED",
                    "submissionTime": "2023-11-20T15:04:45.054GMT",
                    "usageDescription": ""
                  },
                  {
                    "completionTime": "2023-11-20T15:03:46.468GMT",
                    "dataRead": 4172,
                    "dataWritten": 0,
                    "description": "Job group for statement 31:\n# Step 1: Transforms raw title into 'document' annotation\ndocumentAssembler = DocumentAssembler()    .setInputCol(\"selftext\")    .setOutputCol(\"document\")\n\n# Step 2: Annotate sentences in the document\nsentenceDetector = SentenceDetector()    .setInputCols([\"document\"])    .setOutputCol(\"sentence\")\n\n# Step 3: Tokenize the sentences into tokens\ntokenizer = Tokenizer()    .setInputCols([\"sentence\"])    .setOutputCol(\"token\")\n\n# Step 4: Normalize the tokens\nnormalizer = Normalizer()    .setInputCols([\"token\"])    .setOutputCol(\"normalized\")    .setLowercase(True)    .setCleanupPatterns([\"[^\\w\\d\\s]\"])  # Removes any non-word, non-digit, non-whitespace characters\n\n# Step 5: Clean tokens using the StopWordsCleaner\nstop_words_cleaner = StopWordsCleaner().pretrained(\"stopwords_iso\", \"en\")    .setInputCols([\"normalized\"])    .setOutputCol(\"cleanTokens\")    .setCaseSensitive(False)\n\n# Step 6: Load a pretrained Universal Sentence Encoder model\nuse = UniversalSentenceEncoder.pretrained(name=\"tfhu...",
                    "displayName": "first at ReadWrite.scala:587",
                    "jobGroup": "31",
                    "jobId": 0,
                    "killedTasksSummary": {},
                    "name": "first at ReadWrite.scala:587",
                    "numActiveStages": 0,
                    "numActiveTasks": 0,
                    "numCompletedIndices": 1,
                    "numCompletedStages": 1,
                    "numCompletedTasks": 1,
                    "numFailedStages": 0,
                    "numFailedTasks": 0,
                    "numKilledTasks": 0,
                    "numSkippedStages": 0,
                    "numSkippedTasks": 0,
                    "numTasks": 1,
                    "rowCount": 1,
                    "stageIds": [
                      0
                    ],
                    "status": "SUCCEEDED",
                    "submissionTime": "2023-11-20T15:03:42.887GMT",
                    "usageDescription": ""
                  }
                ],
                "limit": 20,
                "numbers": {
                  "FAILED": 0,
                  "RUNNING": 0,
                  "SUCCEEDED": 4,
                  "UNKNOWN": 0
                },
                "rule": "ALL_DESC"
              },
              "spark_pool": "5a58fef9-6d5a-48be-a208-b669ac871209",
              "state": "finished",
              "statement_id": 31
            },
            "text/plain": [
              "StatementMeta(5a58fef9-6d5a-48be-a208-b669ac871209, 26, 31, Finished, Available)"
            ]
          },
          "metadata": {},
          "output_type": "display_data"
        },
        {
          "name": "stdout",
          "output_type": "stream",
          "text": [
            "stopwords_iso download started this may take some time.\n",
            "Approximate size to download 2.1 KB\n",
            "[OK!]\n",
            "tfhub_use download started this may take some time.\n",
            "Approximate size to download 923.7 MB\n",
            "[OK!]\n",
            "sentimentdl_use_imdb download started this may take some time.\n",
            "Approximate size to download 12 MB\n",
            "[OK!]\n"
          ]
        }
      ],
      "source": [
        "# Step 1: Transforms raw title into 'document' annotation\n",
        "documentAssembler = DocumentAssembler()\\\n",
        "    .setInputCol(\"selftext\")\\\n",
        "    .setOutputCol(\"document\")\n",
        "\n",
        "# Step 2: Annotate sentences in the document\n",
        "sentenceDetector = SentenceDetector()\\\n",
        "    .setInputCols([\"document\"])\\\n",
        "    .setOutputCol(\"sentence\")\n",
        "\n",
        "# Step 3: Tokenize the sentences into tokens\n",
        "tokenizer = Tokenizer()\\\n",
        "    .setInputCols([\"sentence\"])\\\n",
        "    .setOutputCol(\"token\")\n",
        "\n",
        "# Step 4: Normalize the tokens\n",
        "normalizer = Normalizer()\\\n",
        "    .setInputCols([\"token\"])\\\n",
        "    .setOutputCol(\"normalized\")\\\n",
        "    .setLowercase(True)\\\n",
        "    .setCleanupPatterns([\"[^\\w\\d\\s]\"])  # Removes any non-word, non-digit, non-whitespace characters\n",
        "\n",
        "# Step 5: Clean tokens using the StopWordsCleaner\n",
        "stop_words_cleaner = StopWordsCleaner().pretrained(\"stopwords_iso\", \"en\")\\\n",
        "    .setInputCols([\"normalized\"])\\\n",
        "    .setOutputCol(\"cleanTokens\")\\\n",
        "    .setCaseSensitive(False)\n",
        "\n",
        "# Step 6: Load a pretrained Universal Sentence Encoder model\n",
        "use = UniversalSentenceEncoder.pretrained(name=\"tfhub_use\", lang=\"en\")\\\n",
        "    .setInputCols([\"document\"])\\\n",
        "    .setOutputCol(\"sentence_embeddings\")\n",
        "\n",
        "# Step 7: Load a pretrained SentimentDL model for sentiment analysis\n",
        "sentimentdl = SentimentDLModel.pretrained(lang=\"en\")\\\n",
        "    .setInputCols([\"sentence_embeddings\"])\\\n",
        "    .setOutputCol(\"sentiment\")\n",
        "\n",
        "# Construct the ML pipeline\n",
        "nlpPipeline = Pipeline(\n",
        "    stages=[\n",
        "        documentAssembler,\n",
        "        sentenceDetector,\n",
        "        tokenizer,\n",
        "        normalizer,\n",
        "        stop_words_cleaner,\n",
        "        use,\n",
        "        sentimentdl\n",
        "    ])\n"
      ]
    },
    {
      "cell_type": "markdown",
      "metadata": {
        "nteract": {
          "transient": {
            "deleting": false
          }
        }
      },
      "source": [
        "### Run the pipeline"
      ]
    },
    {
      "cell_type": "code",
      "execution_count": 29,
      "metadata": {
        "gather": {
          "logged": 1700492758828
        },
        "jupyter": {
          "outputs_hidden": false,
          "source_hidden": false
        },
        "nteract": {
          "transient": {
            "deleting": false
          }
        }
      },
      "outputs": [
        {
          "data": {
            "application/vnd.livy.statement-meta+json": {
              "execution_finish_time": "2023-11-20T15:05:58.7798135Z",
              "execution_start_time": "2023-11-20T15:05:55.2907808Z",
              "livy_statement_state": "available",
              "parent_msg_id": "e3083f15-5785-4e27-ae7a-4d6570614759",
              "queued_time": "2023-11-20T15:03:26.5824523Z",
              "session_id": "26",
              "session_start_time": null,
              "spark_jobs": {
                "jobs": [],
                "limit": 20,
                "numbers": {
                  "FAILED": 0,
                  "RUNNING": 0,
                  "SUCCEEDED": 0,
                  "UNKNOWN": 0
                },
                "rule": "ALL_DESC"
              },
              "spark_pool": "5a58fef9-6d5a-48be-a208-b669ac871209",
              "state": "finished",
              "statement_id": 32
            },
            "text/plain": [
              "StatementMeta(5a58fef9-6d5a-48be-a208-b669ac871209, 26, 32, Finished, Available)"
            ]
          },
          "metadata": {},
          "output_type": "display_data"
        }
      ],
      "source": [
        "# with a column 'text' containing the text to analyze\n",
        "model = nlpPipeline.fit(reddit_df_spark)\n",
        "result = model.transform(reddit_df_spark)"
      ]
    },
    {
      "cell_type": "markdown",
      "metadata": {
        "nteract": {
          "transient": {
            "deleting": false
          }
        }
      },
      "source": [
        "### Visualize results"
      ]
    },
    {
      "cell_type": "code",
      "execution_count": 30,
      "metadata": {
        "gather": {
          "logged": 1700492794551
        },
        "jupyter": {
          "outputs_hidden": false,
          "source_hidden": false
        },
        "nteract": {
          "transient": {
            "deleting": false
          }
        }
      },
      "outputs": [
        {
          "data": {
            "application/vnd.livy.statement-meta+json": {
              "execution_finish_time": "2023-11-20T15:06:34.4662533Z",
              "execution_start_time": "2023-11-20T15:05:58.890449Z",
              "livy_statement_state": "available",
              "parent_msg_id": "b186307f-da33-43ef-9179-edc168c5530f",
              "queued_time": "2023-11-20T15:03:26.6562945Z",
              "session_id": "26",
              "session_start_time": null,
              "spark_jobs": {
                "jobs": [
                  {
                    "completionTime": "2023-11-20T15:06:27.868GMT",
                    "dataRead": 0,
                    "dataWritten": 0,
                    "description": "Job group for statement 33:\n# print schema\nresult.printSchema()\nresult.select(\"sentiment\").show(3, truncate=False)",
                    "displayName": "showString at NativeMethodAccessorImpl.java:0",
                    "jobGroup": "33",
                    "jobId": 4,
                    "killedTasksSummary": {},
                    "name": "showString at NativeMethodAccessorImpl.java:0",
                    "numActiveStages": 0,
                    "numActiveTasks": 0,
                    "numCompletedIndices": 1,
                    "numCompletedStages": 1,
                    "numCompletedTasks": 1,
                    "numFailedStages": 0,
                    "numFailedTasks": 0,
                    "numKilledTasks": 0,
                    "numSkippedStages": 0,
                    "numSkippedTasks": 0,
                    "numTasks": 1,
                    "rowCount": 0,
                    "stageIds": [
                      4
                    ],
                    "status": "SUCCEEDED",
                    "submissionTime": "2023-11-20T15:06:01.370GMT",
                    "usageDescription": ""
                  }
                ],
                "limit": 20,
                "numbers": {
                  "FAILED": 0,
                  "RUNNING": 0,
                  "SUCCEEDED": 1,
                  "UNKNOWN": 0
                },
                "rule": "ALL_DESC"
              },
              "spark_pool": "5a58fef9-6d5a-48be-a208-b669ac871209",
              "state": "finished",
              "statement_id": 33
            },
            "text/plain": [
              "StatementMeta(5a58fef9-6d5a-48be-a208-b669ac871209, 26, 33, Finished, Available)"
            ]
          },
          "metadata": {},
          "output_type": "display_data"
        },
        {
          "name": "stdout",
          "output_type": "stream",
          "text": [
            "root\n",
            " |-- archived: boolean (nullable = true)\n",
            " |-- author: string (nullable = true)\n",
            " |-- contest_mode: boolean (nullable = true)\n",
            " |-- created_utc: timestamp (nullable = true)\n",
            " |-- domain: string (nullable = true)\n",
            " |-- edited: string (nullable = true)\n",
            " |-- gilded: long (nullable = true)\n",
            " |-- hidden: boolean (nullable = true)\n",
            " |-- hide_score: boolean (nullable = true)\n",
            " |-- id: string (nullable = true)\n",
            " |-- is_crosspostable: boolean (nullable = true)\n",
            " |-- is_reddit_media_domain: boolean (nullable = true)\n",
            " |-- is_self: boolean (nullable = true)\n",
            " |-- is_video: boolean (nullable = true)\n",
            " |-- link_flair_css_class: string (nullable = true)\n",
            " |-- link_flair_text: string (nullable = true)\n",
            " |-- locked: boolean (nullable = true)\n",
            " |-- media_embed: string (nullable = true)\n",
            " |-- num_comments: long (nullable = true)\n",
            " |-- num_crossposts: long (nullable = true)\n",
            " |-- over_18: boolean (nullable = true)\n",
            " |-- parent_whitelist_status: string (nullable = true)\n",
            " |-- permalink: string (nullable = true)\n",
            " |-- pinned: boolean (nullable = true)\n",
            " |-- post_hint: string (nullable = true)\n",
            " |-- preview: string (nullable = true)\n",
            " |-- retrieved_on: string (nullable = true)\n",
            " |-- score: long (nullable = true)\n",
            " |-- secure_media_embed: string (nullable = true)\n",
            " |-- selftext: string (nullable = true)\n",
            " |-- spoiler: boolean (nullable = true)\n",
            " |-- stickied: boolean (nullable = true)\n",
            " |-- subreddit: string (nullable = true)\n",
            " |-- subreddit_id: string (nullable = true)\n",
            " |-- thumbnail: string (nullable = true)\n",
            " |-- thumbnail_height: double (nullable = true)\n",
            " |-- thumbnail_width: double (nullable = true)\n",
            " |-- title: string (nullable = true)\n",
            " |-- url: string (nullable = true)\n",
            " |-- whitelist_status: string (nullable = true)\n",
            " |-- year: string (nullable = true)\n",
            " |-- month: long (nullable = true)\n",
            " |-- engagement_label: string (nullable = true)\n",
            " |-- score_label: string (nullable = true)\n",
            " |-- num_words: long (nullable = true)\n",
            " |-- airbnb: boolean (nullable = true)\n",
            " |-- rent: boolean (nullable = true)\n",
            " |-- gentrification: boolean (nullable = true)\n",
            " |-- public_transit: boolean (nullable = true)\n",
            " |-- tourists: boolean (nullable = true)\n",
            " |-- document: array (nullable = true)\n",
            " |    |-- element: struct (containsNull = true)\n",
            " |    |    |-- annotatorType: string (nullable = true)\n",
            " |    |    |-- begin: integer (nullable = false)\n",
            " |    |    |-- end: integer (nullable = false)\n",
            " |    |    |-- result: string (nullable = true)\n",
            " |    |    |-- metadata: map (nullable = true)\n",
            " |    |    |    |-- key: string\n",
            " |    |    |    |-- value: string (valueContainsNull = true)\n",
            " |    |    |-- embeddings: array (nullable = true)\n",
            " |    |    |    |-- element: float (containsNull = false)\n",
            " |-- sentence: array (nullable = true)\n",
            " |    |-- element: struct (containsNull = true)\n",
            " |    |    |-- annotatorType: string (nullable = true)\n",
            " |    |    |-- begin: integer (nullable = false)\n",
            " |    |    |-- end: integer (nullable = false)\n",
            " |    |    |-- result: string (nullable = true)\n",
            " |    |    |-- metadata: map (nullable = true)\n",
            " |    |    |    |-- key: string\n",
            " |    |    |    |-- value: string (valueContainsNull = true)\n",
            " |    |    |-- embeddings: array (nullable = true)\n",
            " |    |    |    |-- element: float (containsNull = false)\n",
            " |-- token: array (nullable = true)\n",
            " |    |-- element: struct (containsNull = true)\n",
            " |    |    |-- annotatorType: string (nullable = true)\n",
            " |    |    |-- begin: integer (nullable = false)\n",
            " |    |    |-- end: integer (nullable = false)\n",
            " |    |    |-- result: string (nullable = true)\n",
            " |    |    |-- metadata: map (nullable = true)\n",
            " |    |    |    |-- key: string\n",
            " |    |    |    |-- value: string (valueContainsNull = true)\n",
            " |    |    |-- embeddings: array (nullable = true)\n",
            " |    |    |    |-- element: float (containsNull = false)\n",
            " |-- normalized: array (nullable = true)\n",
            " |    |-- element: struct (containsNull = true)\n",
            " |    |    |-- annotatorType: string (nullable = true)\n",
            " |    |    |-- begin: integer (nullable = false)\n",
            " |    |    |-- end: integer (nullable = false)\n",
            " |    |    |-- result: string (nullable = true)\n",
            " |    |    |-- metadata: map (nullable = true)\n",
            " |    |    |    |-- key: string\n",
            " |    |    |    |-- value: string (valueContainsNull = true)\n",
            " |    |    |-- embeddings: array (nullable = true)\n",
            " |    |    |    |-- element: float (containsNull = false)\n",
            " |-- cleanTokens: array (nullable = true)\n",
            " |    |-- element: struct (containsNull = true)\n",
            " |    |    |-- annotatorType: string (nullable = true)\n",
            " |    |    |-- begin: integer (nullable = false)\n",
            " |    |    |-- end: integer (nullable = false)\n",
            " |    |    |-- result: string (nullable = true)\n",
            " |    |    |-- metadata: map (nullable = true)\n",
            " |    |    |    |-- key: string\n",
            " |    |    |    |-- value: string (valueContainsNull = true)\n",
            " |    |    |-- embeddings: array (nullable = true)\n",
            " |    |    |    |-- element: float (containsNull = false)\n",
            " |-- sentence_embeddings: array (nullable = true)\n",
            " |    |-- element: struct (containsNull = true)\n",
            " |    |    |-- annotatorType: string (nullable = true)\n",
            " |    |    |-- begin: integer (nullable = false)\n",
            " |    |    |-- end: integer (nullable = false)\n",
            " |    |    |-- result: string (nullable = true)\n",
            " |    |    |-- metadata: map (nullable = true)\n",
            " |    |    |    |-- key: string\n",
            " |    |    |    |-- value: string (valueContainsNull = true)\n",
            " |    |    |-- embeddings: array (nullable = true)\n",
            " |    |    |    |-- element: float (containsNull = false)\n",
            " |-- sentiment: array (nullable = true)\n",
            " |    |-- element: struct (containsNull = true)\n",
            " |    |    |-- annotatorType: string (nullable = true)\n",
            " |    |    |-- begin: integer (nullable = false)\n",
            " |    |    |-- end: integer (nullable = false)\n",
            " |    |    |-- result: string (nullable = true)\n",
            " |    |    |-- metadata: map (nullable = true)\n",
            " |    |    |    |-- key: string\n",
            " |    |    |    |-- value: string (valueContainsNull = true)\n",
            " |    |    |-- embeddings: array (nullable = true)\n",
            " |    |    |    |-- element: float (containsNull = false)\n",
            "\n",
            "+--------------------------------------------------------------------------------------+\n",
            "|sentiment                                                                             |\n",
            "+--------------------------------------------------------------------------------------+\n",
            "|[{category, 0, 8, neg, {sentence -> 0, pos -> 2.588621E-9, neg -> 1.0}, []}]          |\n",
            "|[{category, 0, 8, pos, {sentence -> 0, pos -> 0.8908563, neg -> 0.10914362}, []}]     |\n",
            "|[{category, 0, 422, neg, {sentence -> 0, pos -> 3.2516924E-5, neg -> 0.99996746}, []}]|\n",
            "+--------------------------------------------------------------------------------------+\n",
            "only showing top 3 rows\n",
            "\n"
          ]
        }
      ],
      "source": [
        "# print schema\n",
        "result.printSchema()\n",
        "result.select(\"sentiment\").show(3, truncate=False)"
      ]
    },
    {
      "cell_type": "code",
      "execution_count": 31,
      "metadata": {
        "gather": {
          "logged": 1700492822471
        },
        "jupyter": {
          "outputs_hidden": false,
          "source_hidden": false
        },
        "nteract": {
          "transient": {
            "deleting": false
          }
        }
      },
      "outputs": [
        {
          "data": {
            "application/vnd.livy.statement-meta+json": {
              "execution_finish_time": "2023-11-20T15:07:02.381478Z",
              "execution_start_time": "2023-11-20T15:06:34.5802484Z",
              "livy_statement_state": "available",
              "parent_msg_id": "6825071b-dc7c-4fd2-a8a9-bcb7ed492afb",
              "queued_time": "2023-11-20T15:03:26.725881Z",
              "session_id": "26",
              "session_start_time": null,
              "spark_jobs": {
                "jobs": [
                  {
                    "completionTime": "2023-11-20T15:07:00.529GMT",
                    "dataRead": 0,
                    "dataWritten": 0,
                    "description": "Job group for statement 34:\nresult = result.withColumn(\"sentiment_act\", col(\"sentiment\").getField('result'))\nresult = result.drop(\"sentiment\")\nresult = result.withColumnRenamed(\"sentiment_act\", \"sentiment\")\nresult.show(2)",
                    "displayName": "showString at NativeMethodAccessorImpl.java:0",
                    "jobGroup": "34",
                    "jobId": 5,
                    "killedTasksSummary": {},
                    "name": "showString at NativeMethodAccessorImpl.java:0",
                    "numActiveStages": 0,
                    "numActiveTasks": 0,
                    "numCompletedIndices": 1,
                    "numCompletedStages": 1,
                    "numCompletedTasks": 1,
                    "numFailedStages": 0,
                    "numFailedTasks": 0,
                    "numKilledTasks": 0,
                    "numSkippedStages": 0,
                    "numSkippedTasks": 0,
                    "numTasks": 1,
                    "rowCount": 0,
                    "stageIds": [
                      5
                    ],
                    "status": "SUCCEEDED",
                    "submissionTime": "2023-11-20T15:06:35.894GMT",
                    "usageDescription": ""
                  }
                ],
                "limit": 20,
                "numbers": {
                  "FAILED": 0,
                  "RUNNING": 0,
                  "SUCCEEDED": 1,
                  "UNKNOWN": 0
                },
                "rule": "ALL_DESC"
              },
              "spark_pool": "5a58fef9-6d5a-48be-a208-b669ac871209",
              "state": "finished",
              "statement_id": 34
            },
            "text/plain": [
              "StatementMeta(5a58fef9-6d5a-48be-a208-b669ac871209, 26, 34, Finished, Available)"
            ]
          },
          "metadata": {},
          "output_type": "display_data"
        },
        {
          "name": "stdout",
          "output_type": "stream",
          "text": [
            "+--------+---------+------------+-------------------+------------+-------------+------+------+----------+-------+----------------+----------------------+-------+--------+--------------------+---------------+------+--------------------+------------+--------------+-------+-----------------------+--------------------+------+---------+-------+-------------------+-----+--------------------+---------+-------+--------+------------+------------+---------+----------------+---------------+--------------------+--------------------+----------------+----+-----+----------------+-----------+---------+------+-----+--------------+--------------+--------+--------------------+--------------------+--------------------+--------------------+--------------------+--------------------+---------+\n",
            "|archived|   author|contest_mode|        created_utc|      domain|       edited|gilded|hidden|hide_score|     id|is_crosspostable|is_reddit_media_domain|is_self|is_video|link_flair_css_class|link_flair_text|locked|         media_embed|num_comments|num_crossposts|over_18|parent_whitelist_status|           permalink|pinned|post_hint|preview|       retrieved_on|score|  secure_media_embed| selftext|spoiler|stickied|   subreddit|subreddit_id|thumbnail|thumbnail_height|thumbnail_width|               title|                 url|whitelist_status|year|month|engagement_label|score_label|num_words|airbnb| rent|gentrification|public_transit|tourists|            document|            sentence|               token|          normalized|         cleanTokens| sentence_embeddings|sentiment|\n",
            "+--------+---------+------------+-------------------+------------+-------------+------+------+----------+-------+----------------+----------------------+-------+--------+--------------------+---------------+------+--------------------+------------+--------------+-------+-----------------------+--------------------+------+---------+-------+-------------------+-----+--------------------+---------+-------+--------+------------+------------+---------+----------------+---------------+--------------------+--------------------+----------------+----+-----+----------------+-----------+---------+------+-----+--------------+--------------+--------+--------------------+--------------------+--------------------+--------------------+--------------------+--------------------+---------+\n",
            "|   false|[deleted]|       false|2023-02-22 21:23:45|        null|1.677101214E9|     0| false|     false|119dv0z|           false|                 false|   true|   false|          discussion|   [Discussion]| false|{'content': None,...|           0|             0|  false|                all_ads|/r/washingtondc/c...| false|     null|   null|2023-03-08 23:23:40|    0|{'content': None,...|[deleted]|  false|   false|washingtondc|    t5_2qi2g|  default|            null|           null|Should I move to ...|                null|         all_ads|2023|    2|             low|        low|       10| false|false|         false|         false|   false|[{document, 0, 8,...|[{document, 0, 8,...|[{token, 0, 8, [d...|[{token, 0, 6, de...|[{token, 0, 6, de...|[{sentence_embedd...|    [neg]|\n",
            "|   false|thewheisk|       false|2023-02-22 21:25:33|self.Seattle|        false|     0| false|     false|119dxqq|           false|                 false|   true|   false|               flair|       Politics| false|{'content': None,...|           6|             0|  false|                all_ads|/r/Seattle/commen...| false|     null|   null|2023-03-08 23:23:38|    0|{'content': None,...|[removed]|  false|   false|     Seattle|    t5_2qhad|  default|            null|           null|ChatGPT - what sh...|https://www.reddi...|         all_ads|2023|    2|             low|        low|       16| false|false|         false|         false|   false|[{document, 0, 8,...|[{document, 0, 8,...|[{token, 0, 8, [r...|[{token, 0, 6, re...|[{token, 0, 6, re...|[{sentence_embedd...|    [pos]|\n",
            "+--------+---------+------------+-------------------+------------+-------------+------+------+----------+-------+----------------+----------------------+-------+--------+--------------------+---------------+------+--------------------+------------+--------------+-------+-----------------------+--------------------+------+---------+-------+-------------------+-----+--------------------+---------+-------+--------+------------+------------+---------+----------------+---------------+--------------------+--------------------+----------------+----+-----+----------------+-----------+---------+------+-----+--------------+--------------+--------+--------------------+--------------------+--------------------+--------------------+--------------------+--------------------+---------+\n",
            "only showing top 2 rows\n",
            "\n"
          ]
        }
      ],
      "source": [
        "result = result.withColumn(\"sentiment_act\", col(\"sentiment\").getField('result'))\n",
        "result = result.drop(\"sentiment\")\n",
        "result = result.withColumnRenamed(\"sentiment_act\", \"sentiment\")\n",
        "result.show(2)"
      ]
    },
    {
      "cell_type": "code",
      "execution_count": 51,
      "metadata": {
        "gather": {
          "logged": 1700493256874
        },
        "jupyter": {
          "outputs_hidden": false,
          "source_hidden": false
        },
        "nteract": {
          "transient": {
            "deleting": false
          }
        }
      },
      "outputs": [
        {
          "data": {
            "application/vnd.livy.statement-meta+json": {
              "execution_finish_time": "2023-11-20T15:14:16.8069006Z",
              "execution_start_time": "2023-11-20T15:14:16.5096453Z",
              "livy_statement_state": "available",
              "parent_msg_id": "948f862a-2a42-4765-a120-5c588eee347b",
              "queued_time": "2023-11-20T15:14:16.4103033Z",
              "session_id": "26",
              "session_start_time": null,
              "spark_jobs": {
                "jobs": [],
                "limit": 20,
                "numbers": {
                  "FAILED": 0,
                  "RUNNING": 0,
                  "SUCCEEDED": 0,
                  "UNKNOWN": 0
                },
                "rule": "ALL_DESC"
              },
              "spark_pool": "5a58fef9-6d5a-48be-a208-b669ac871209",
              "state": "finished",
              "statement_id": 54
            },
            "text/plain": [
              "StatementMeta(5a58fef9-6d5a-48be-a208-b669ac871209, 26, 54, Finished, Available)"
            ]
          },
          "metadata": {},
          "output_type": "display_data"
        },
        {
          "name": "stdout",
          "output_type": "stream",
          "text": [
            "root\n",
            " |-- archived: boolean (nullable = true)\n",
            " |-- author: string (nullable = true)\n",
            " |-- contest_mode: boolean (nullable = true)\n",
            " |-- created_utc: timestamp (nullable = true)\n",
            " |-- domain: string (nullable = true)\n",
            " |-- edited: string (nullable = true)\n",
            " |-- gilded: long (nullable = true)\n",
            " |-- hidden: boolean (nullable = true)\n",
            " |-- hide_score: boolean (nullable = true)\n",
            " |-- id: string (nullable = true)\n",
            " |-- is_crosspostable: boolean (nullable = true)\n",
            " |-- is_reddit_media_domain: boolean (nullable = true)\n",
            " |-- is_self: boolean (nullable = true)\n",
            " |-- is_video: boolean (nullable = true)\n",
            " |-- link_flair_css_class: string (nullable = true)\n",
            " |-- link_flair_text: string (nullable = true)\n",
            " |-- locked: boolean (nullable = true)\n",
            " |-- media_embed: string (nullable = true)\n",
            " |-- num_comments: long (nullable = true)\n",
            " |-- num_crossposts: long (nullable = true)\n",
            " |-- over_18: boolean (nullable = true)\n",
            " |-- parent_whitelist_status: string (nullable = true)\n",
            " |-- permalink: string (nullable = true)\n",
            " |-- pinned: boolean (nullable = true)\n",
            " |-- post_hint: string (nullable = true)\n",
            " |-- preview: string (nullable = true)\n",
            " |-- retrieved_on: string (nullable = true)\n",
            " |-- score: long (nullable = true)\n",
            " |-- secure_media_embed: string (nullable = true)\n",
            " |-- selftext: string (nullable = true)\n",
            " |-- spoiler: boolean (nullable = true)\n",
            " |-- stickied: boolean (nullable = true)\n",
            " |-- subreddit: string (nullable = true)\n",
            " |-- subreddit_id: string (nullable = true)\n",
            " |-- thumbnail: string (nullable = true)\n",
            " |-- thumbnail_height: double (nullable = true)\n",
            " |-- thumbnail_width: double (nullable = true)\n",
            " |-- title: string (nullable = true)\n",
            " |-- url: string (nullable = true)\n",
            " |-- whitelist_status: string (nullable = true)\n",
            " |-- year: string (nullable = true)\n",
            " |-- month: long (nullable = true)\n",
            " |-- engagement_label: string (nullable = true)\n",
            " |-- score_label: string (nullable = true)\n",
            " |-- num_words: long (nullable = true)\n",
            " |-- airbnb: boolean (nullable = true)\n",
            " |-- rent: boolean (nullable = true)\n",
            " |-- gentrification: boolean (nullable = true)\n",
            " |-- public_transit: boolean (nullable = true)\n",
            " |-- tourists: boolean (nullable = true)\n",
            " |-- document: array (nullable = true)\n",
            " |    |-- element: struct (containsNull = true)\n",
            " |    |    |-- annotatorType: string (nullable = true)\n",
            " |    |    |-- begin: integer (nullable = false)\n",
            " |    |    |-- end: integer (nullable = false)\n",
            " |    |    |-- result: string (nullable = true)\n",
            " |    |    |-- metadata: map (nullable = true)\n",
            " |    |    |    |-- key: string\n",
            " |    |    |    |-- value: string (valueContainsNull = true)\n",
            " |    |    |-- embeddings: array (nullable = true)\n",
            " |    |    |    |-- element: float (containsNull = false)\n",
            " |-- sentence: array (nullable = true)\n",
            " |    |-- element: struct (containsNull = true)\n",
            " |    |    |-- annotatorType: string (nullable = true)\n",
            " |    |    |-- begin: integer (nullable = false)\n",
            " |    |    |-- end: integer (nullable = false)\n",
            " |    |    |-- result: string (nullable = true)\n",
            " |    |    |-- metadata: map (nullable = true)\n",
            " |    |    |    |-- key: string\n",
            " |    |    |    |-- value: string (valueContainsNull = true)\n",
            " |    |    |-- embeddings: array (nullable = true)\n",
            " |    |    |    |-- element: float (containsNull = false)\n",
            " |-- token: array (nullable = true)\n",
            " |    |-- element: struct (containsNull = true)\n",
            " |    |    |-- annotatorType: string (nullable = true)\n",
            " |    |    |-- begin: integer (nullable = false)\n",
            " |    |    |-- end: integer (nullable = false)\n",
            " |    |    |-- result: string (nullable = true)\n",
            " |    |    |-- metadata: map (nullable = true)\n",
            " |    |    |    |-- key: string\n",
            " |    |    |    |-- value: string (valueContainsNull = true)\n",
            " |    |    |-- embeddings: array (nullable = true)\n",
            " |    |    |    |-- element: float (containsNull = false)\n",
            " |-- normalized: array (nullable = true)\n",
            " |    |-- element: struct (containsNull = true)\n",
            " |    |    |-- annotatorType: string (nullable = true)\n",
            " |    |    |-- begin: integer (nullable = false)\n",
            " |    |    |-- end: integer (nullable = false)\n",
            " |    |    |-- result: string (nullable = true)\n",
            " |    |    |-- metadata: map (nullable = true)\n",
            " |    |    |    |-- key: string\n",
            " |    |    |    |-- value: string (valueContainsNull = true)\n",
            " |    |    |-- embeddings: array (nullable = true)\n",
            " |    |    |    |-- element: float (containsNull = false)\n",
            " |-- cleanTokens: array (nullable = true)\n",
            " |    |-- element: struct (containsNull = true)\n",
            " |    |    |-- annotatorType: string (nullable = true)\n",
            " |    |    |-- begin: integer (nullable = false)\n",
            " |    |    |-- end: integer (nullable = false)\n",
            " |    |    |-- result: string (nullable = true)\n",
            " |    |    |-- metadata: map (nullable = true)\n",
            " |    |    |    |-- key: string\n",
            " |    |    |    |-- value: string (valueContainsNull = true)\n",
            " |    |    |-- embeddings: array (nullable = true)\n",
            " |    |    |    |-- element: float (containsNull = false)\n",
            " |-- sentence_embeddings: array (nullable = true)\n",
            " |    |-- element: struct (containsNull = true)\n",
            " |    |    |-- annotatorType: string (nullable = true)\n",
            " |    |    |-- begin: integer (nullable = false)\n",
            " |    |    |-- end: integer (nullable = false)\n",
            " |    |    |-- result: string (nullable = true)\n",
            " |    |    |-- metadata: map (nullable = true)\n",
            " |    |    |    |-- key: string\n",
            " |    |    |    |-- value: string (valueContainsNull = true)\n",
            " |    |    |-- embeddings: array (nullable = true)\n",
            " |    |    |    |-- element: float (containsNull = false)\n",
            " |-- sentiment: array (nullable = true)\n",
            " |    |-- element: string (containsNull = true)\n",
            "\n"
          ]
        }
      ],
      "source": [
        "result.printSchema()"
      ]
    },
    {
      "cell_type": "code",
      "execution_count": 52,
      "metadata": {
        "gather": {
          "logged": 1700493566694
        },
        "jupyter": {
          "outputs_hidden": false,
          "source_hidden": false
        },
        "nteract": {
          "transient": {
            "deleting": false
          }
        }
      },
      "outputs": [
        {
          "data": {
            "application/vnd.livy.statement-meta+json": {
              "execution_finish_time": "2023-11-20T15:19:26.5436305Z",
              "execution_start_time": "2023-11-20T15:15:25.2202508Z",
              "livy_statement_state": "available",
              "parent_msg_id": "eb19a4f5-4224-4482-bded-4224f718b560",
              "queued_time": "2023-11-20T15:15:25.1211944Z",
              "session_id": "26",
              "session_start_time": null,
              "spark_jobs": {
                "jobs": [
                  {
                    "completionTime": "2023-11-20T15:17:16.751GMT",
                    "dataRead": 0,
                    "dataWritten": 0,
                    "description": "Job group for statement 55:\nreddit_df1 = result.toPandas()",
                    "displayName": "toPandas at /tmp/ipykernel_14806/1417345560.py:1",
                    "jobGroup": "55",
                    "jobId": 11,
                    "killedTasksSummary": {},
                    "name": "toPandas at /tmp/ipykernel_14806/1417345560.py:1",
                    "numActiveStages": 0,
                    "numActiveTasks": 0,
                    "numCompletedIndices": 8,
                    "numCompletedStages": 1,
                    "numCompletedTasks": 8,
                    "numFailedStages": 0,
                    "numFailedTasks": 0,
                    "numKilledTasks": 0,
                    "numSkippedStages": 0,
                    "numSkippedTasks": 0,
                    "numTasks": 8,
                    "rowCount": 0,
                    "stageIds": [
                      11
                    ],
                    "status": "SUCCEEDED",
                    "submissionTime": "2023-11-20T15:15:25.461GMT",
                    "usageDescription": ""
                  }
                ],
                "limit": 20,
                "numbers": {
                  "FAILED": 0,
                  "RUNNING": 0,
                  "SUCCEEDED": 1,
                  "UNKNOWN": 0
                },
                "rule": "ALL_DESC"
              },
              "spark_pool": "5a58fef9-6d5a-48be-a208-b669ac871209",
              "state": "finished",
              "statement_id": 55
            },
            "text/plain": [
              "StatementMeta(5a58fef9-6d5a-48be-a208-b669ac871209, 26, 55, Finished, Available)"
            ]
          },
          "metadata": {},
          "output_type": "display_data"
        },
        {
          "name": "stderr",
          "output_type": "stream",
          "text": [
            "/opt/spark/python/lib/pyspark.zip/pyspark/sql/pandas/conversion.py:87: UserWarning: toPandas attempted Arrow optimization because 'spark.sql.execution.arrow.pyspark.enabled' is set to true; however, failed by the reason below:\n",
            "  Unsupported type in conversion to Arrow: ArrayType(StructType(List(StructField(annotatorType,StringType,true),StructField(begin,IntegerType,false),StructField(end,IntegerType,false),StructField(result,StringType,true),StructField(metadata,MapType(StringType,StringType,true),true),StructField(embeddings,ArrayType(FloatType,false),true))),true)\n",
            "Attempting non-optimization as 'spark.sql.execution.arrow.pyspark.fallback.enabled' is set to true.\n"
          ]
        }
      ],
      "source": [
        "reddit_df1 = result.toPandas()"
      ]
    },
    {
      "cell_type": "code",
      "execution_count": 56,
      "metadata": {
        "gather": {
          "logged": 1700494298379
        },
        "jupyter": {
          "outputs_hidden": false,
          "source_hidden": false
        },
        "nteract": {
          "transient": {
            "deleting": false
          }
        }
      },
      "outputs": [
        {
          "data": {
            "application/vnd.livy.statement-meta+json": {
              "execution_finish_time": "2023-11-20T15:31:38.2163859Z",
              "execution_start_time": "2023-11-20T15:29:41.9704729Z",
              "livy_statement_state": "available",
              "parent_msg_id": "c3c7af94-8b6b-4806-9751-4ce5681d0014",
              "queued_time": "2023-11-20T15:29:41.8607711Z",
              "session_id": "26",
              "session_start_time": null,
              "spark_jobs": {
                "jobs": [
                  {
                    "completionTime": "2023-11-20T15:31:33.981GMT",
                    "dataRead": 0,
                    "dataWritten": 410724759,
                    "description": "Job group for statement 59:\nresult.write.parquet(data_path + \"nlp_reddit.parquet\")\n# reddit_df1.to_csv(data_path + \"nlp_reddit_df.csv\", index=False)",
                    "displayName": "parquet at NativeMethodAccessorImpl.java:0",
                    "jobGroup": "59",
                    "jobId": 13,
                    "killedTasksSummary": {},
                    "name": "parquet at NativeMethodAccessorImpl.java:0",
                    "numActiveStages": 0,
                    "numActiveTasks": 0,
                    "numCompletedIndices": 8,
                    "numCompletedStages": 1,
                    "numCompletedTasks": 8,
                    "numFailedStages": 0,
                    "numFailedTasks": 0,
                    "numKilledTasks": 0,
                    "numSkippedStages": 0,
                    "numSkippedTasks": 0,
                    "numTasks": 8,
                    "rowCount": 217394,
                    "stageIds": [
                      13
                    ],
                    "status": "SUCCEEDED",
                    "submissionTime": "2023-11-20T15:29:42.557GMT",
                    "usageDescription": ""
                  }
                ],
                "limit": 20,
                "numbers": {
                  "FAILED": 0,
                  "RUNNING": 0,
                  "SUCCEEDED": 1,
                  "UNKNOWN": 0
                },
                "rule": "ALL_DESC"
              },
              "spark_pool": "5a58fef9-6d5a-48be-a208-b669ac871209",
              "state": "finished",
              "statement_id": 59
            },
            "text/plain": [
              "StatementMeta(5a58fef9-6d5a-48be-a208-b669ac871209, 26, 59, Finished, Available)"
            ]
          },
          "metadata": {},
          "output_type": "display_data"
        }
      ],
      "source": [
        "result.write.parquet(data_path + \"nlp_reddit.parquet\")\n",
        "reddit_df1.to_csv(data_path + \"nlp_reddit_df.csv\", index=False)"
      ]
    },
    {
      "cell_type": "markdown",
      "metadata": {
        "nteract": {
          "transient": {
            "deleting": false
          }
        }
      },
      "source": [
        "# Combine NLP Results w/ External Data"
      ]
    },
    {
      "cell_type": "code",
      "execution_count": 1,
      "metadata": {
        "gather": {
          "logged": 1700501197229
        },
        "jupyter": {
          "outputs_hidden": false,
          "source_hidden": false
        },
        "nteract": {
          "transient": {
            "deleting": false
          }
        }
      },
      "outputs": [],
      "source": [
        "import pandas as pd\n",
        "import numpy as np\n",
        "import plotly.express as px\n",
        "import matplotlib.pyplot as plt\n",
        "import json\n",
        "import seaborn as sns\n",
        "import os"
      ]
    },
    {
      "cell_type": "code",
      "execution_count": 2,
      "metadata": {
        "gather": {
          "logged": 1700501197402
        },
        "jupyter": {
          "outputs_hidden": false,
          "source_hidden": false
        },
        "nteract": {
          "transient": {
            "deleting": false
          }
        }
      },
      "outputs": [
        {
          "data": {
            "text/plain": [
              "'c:\\\\repos\\\\fall23\\\\600\\\\final\\\\fall-2023-reddit-project-team-02\\\\code\\\\wip_scripts'"
            ]
          },
          "execution_count": 2,
          "metadata": {},
          "output_type": "execute_result"
        }
      ],
      "source": [
        "os.getcwd()"
      ]
    },
    {
      "cell_type": "code",
      "execution_count": 3,
      "metadata": {
        "gather": {
          "logged": 1700501197580
        },
        "jupyter": {
          "outputs_hidden": false,
          "source_hidden": false
        },
        "nteract": {
          "transient": {
            "deleting": false
          }
        }
      },
      "outputs": [],
      "source": [
        "# data_path = \"Users/fall-2023-reddit-project-team-02/data/csv/\"\n",
        "# img_path = \"Users/fall-2023-reddit-project-team-02/data/plots/\"\n",
        "data_path = \"../../data/csv/\"\n",
        "img_path = \"../../data/plots/\""
      ]
    },
    {
      "cell_type": "code",
      "execution_count": 6,
      "metadata": {
        "gather": {
          "logged": 1700501257555
        },
        "jupyter": {
          "outputs_hidden": false,
          "source_hidden": false
        },
        "nteract": {
          "transient": {
            "deleting": false
          }
        }
      },
      "outputs": [],
      "source": [
        "reddit_df1 = pd.read_csv(data_path + \"nlp_reddit_df.csv\")"
      ]
    },
    {
      "cell_type": "code",
      "execution_count": 7,
      "metadata": {
        "gather": {
          "logged": 1700501257881
        },
        "jupyter": {
          "outputs_hidden": false,
          "source_hidden": false
        },
        "nteract": {
          "transient": {
            "deleting": false
          }
        }
      },
      "outputs": [
        {
          "name": "stderr",
          "output_type": "stream",
          "text": [
            "C:\\Users\\valer\\AppData\\Local\\Temp\\ipykernel_14292\\6571052.py:3: FutureWarning: In a future version, `df.iloc[:, i] = newvals` will attempt to set the values inplace instead of always setting a new array. To retain the old behavior, use either `df[df.columns[i]] = newvals` or, if columns are non-unique, `df.isetitem(i, newvals)`\n",
            "  rent_perc_df.loc[:, 'Year'] = pd.to_datetime(rent_perc_df.loc[:, 'Year'])\n",
            "C:\\Users\\valer\\AppData\\Local\\Temp\\ipykernel_14292\\6571052.py:7: FutureWarning: In a future version, `df.iloc[:, i] = newvals` will attempt to set the values inplace instead of always setting a new array. To retain the old behavior, use either `df[df.columns[i]] = newvals` or, if columns are non-unique, `df.isetitem(i, newvals)`\n",
            "  rent_dollars_df.loc[:, 'Year'] = pd.to_datetime(rent_dollars_df.loc[:, 'Year'])\n"
          ]
        }
      ],
      "source": [
        "# rent as percentage\n",
        "rent_perc_df = pd.read_csv(data_path + 'rent_as_percent_of_income.csv')\n",
        "rent_perc_df.loc[:, 'Year'] = pd.to_datetime(rent_perc_df.loc[:, 'Year'])\n",
        "rent_perc_df.loc[:, 'join_key'] = pd.to_datetime(rent_perc_df.loc[:, 'Year'])\n",
        "\n",
        "rent_dollars_df = pd.read_csv(data_path + 'rent_in_dollars.csv')\n",
        "rent_dollars_df.loc[:, 'Year'] = pd.to_datetime(rent_dollars_df.loc[:, 'Year'])\n",
        "\n",
        "rent_df = rent_dollars_df.merge(rent_perc_df, on=['Year', 'Geographic Area Name'], how = 'outer')\n",
        "rent_df.loc[:, 'County'] = rent_df.loc[:, 'County_x'].fillna(rent_df.loc[:, 'County_y'])"
      ]
    },
    {
      "cell_type": "code",
      "execution_count": 8,
      "metadata": {
        "gather": {
          "logged": 1700501258030
        },
        "jupyter": {
          "outputs_hidden": false,
          "source_hidden": false
        },
        "nteract": {
          "transient": {
            "deleting": false
          }
        }
      },
      "outputs": [
        {
          "data": {
            "text/html": [
              "<div>\n",
              "<style scoped>\n",
              "    .dataframe tbody tr th:only-of-type {\n",
              "        vertical-align: middle;\n",
              "    }\n",
              "\n",
              "    .dataframe tbody tr th {\n",
              "        vertical-align: top;\n",
              "    }\n",
              "\n",
              "    .dataframe thead th {\n",
              "        text-align: right;\n",
              "    }\n",
              "</style>\n",
              "<table border=\"1\" class=\"dataframe\">\n",
              "  <thead>\n",
              "    <tr style=\"text-align: right;\">\n",
              "      <th></th>\n",
              "      <th>Unnamed: 0_x</th>\n",
              "      <th>Geography_x</th>\n",
              "      <th>Geographic Area Name</th>\n",
              "      <th>Rent in USD</th>\n",
              "      <th>Year</th>\n",
              "      <th>County_x</th>\n",
              "      <th>Unnamed: 0_y</th>\n",
              "      <th>Geography_y</th>\n",
              "      <th>Rent as Percent of Income</th>\n",
              "      <th>County_y</th>\n",
              "      <th>join_key</th>\n",
              "      <th>County</th>\n",
              "      <th>year_num</th>\n",
              "    </tr>\n",
              "  </thead>\n",
              "  <tbody>\n",
              "    <tr>\n",
              "      <th>0</th>\n",
              "      <td>1.0</td>\n",
              "      <td>1400000US11001000100</td>\n",
              "      <td>Census Tract 1, District of Columbia, District...</td>\n",
              "      <td>1485.0</td>\n",
              "      <td>2010-01-01</td>\n",
              "      <td>District of Columbia</td>\n",
              "      <td>1.0</td>\n",
              "      <td>1400000US11001000100</td>\n",
              "      <td>28.5</td>\n",
              "      <td>District of Columbia</td>\n",
              "      <td>2010-01-01</td>\n",
              "      <td>District of Columbia</td>\n",
              "      <td>2010</td>\n",
              "    </tr>\n",
              "    <tr>\n",
              "      <th>1</th>\n",
              "      <td>4.0</td>\n",
              "      <td>1400000US11001000300</td>\n",
              "      <td>Census Tract 3, District of Columbia, District...</td>\n",
              "      <td>1767.0</td>\n",
              "      <td>2010-01-01</td>\n",
              "      <td>District of Columbia</td>\n",
              "      <td>4.0</td>\n",
              "      <td>1400000US11001000300</td>\n",
              "      <td>32.3</td>\n",
              "      <td>District of Columbia</td>\n",
              "      <td>2010-01-01</td>\n",
              "      <td>District of Columbia</td>\n",
              "      <td>2010</td>\n",
              "    </tr>\n",
              "    <tr>\n",
              "      <th>2</th>\n",
              "      <td>5.0</td>\n",
              "      <td>1400000US11001000400</td>\n",
              "      <td>Census Tract 4, District of Columbia, District...</td>\n",
              "      <td>1528.0</td>\n",
              "      <td>2010-01-01</td>\n",
              "      <td>District of Columbia</td>\n",
              "      <td>5.0</td>\n",
              "      <td>1400000US11001000400</td>\n",
              "      <td>29.9</td>\n",
              "      <td>District of Columbia</td>\n",
              "      <td>2010-01-01</td>\n",
              "      <td>District of Columbia</td>\n",
              "      <td>2010</td>\n",
              "    </tr>\n",
              "    <tr>\n",
              "      <th>3</th>\n",
              "      <td>6.0</td>\n",
              "      <td>1400000US11001000501</td>\n",
              "      <td>Census Tract 5.01, District of Columbia, Distr...</td>\n",
              "      <td>1648.0</td>\n",
              "      <td>2010-01-01</td>\n",
              "      <td>District of Columbia</td>\n",
              "      <td>6.0</td>\n",
              "      <td>1400000US11001000501</td>\n",
              "      <td>24.4</td>\n",
              "      <td>District of Columbia</td>\n",
              "      <td>2010-01-01</td>\n",
              "      <td>District of Columbia</td>\n",
              "      <td>2010</td>\n",
              "    </tr>\n",
              "    <tr>\n",
              "      <th>4</th>\n",
              "      <td>7.0</td>\n",
              "      <td>1400000US11001000502</td>\n",
              "      <td>Census Tract 5.02, District of Columbia, Distr...</td>\n",
              "      <td>1319.0</td>\n",
              "      <td>2010-01-01</td>\n",
              "      <td>District of Columbia</td>\n",
              "      <td>7.0</td>\n",
              "      <td>1400000US11001000502</td>\n",
              "      <td>27.1</td>\n",
              "      <td>District of Columbia</td>\n",
              "      <td>2010-01-01</td>\n",
              "      <td>District of Columbia</td>\n",
              "      <td>2010</td>\n",
              "    </tr>\n",
              "  </tbody>\n",
              "</table>\n",
              "</div>"
            ],
            "text/plain": [
              "   Unnamed: 0_x           Geography_x  \\\n",
              "0           1.0  1400000US11001000100   \n",
              "1           4.0  1400000US11001000300   \n",
              "2           5.0  1400000US11001000400   \n",
              "3           6.0  1400000US11001000501   \n",
              "4           7.0  1400000US11001000502   \n",
              "\n",
              "                                Geographic Area Name  Rent in USD       Year  \\\n",
              "0  Census Tract 1, District of Columbia, District...       1485.0 2010-01-01   \n",
              "1  Census Tract 3, District of Columbia, District...       1767.0 2010-01-01   \n",
              "2  Census Tract 4, District of Columbia, District...       1528.0 2010-01-01   \n",
              "3  Census Tract 5.01, District of Columbia, Distr...       1648.0 2010-01-01   \n",
              "4  Census Tract 5.02, District of Columbia, Distr...       1319.0 2010-01-01   \n",
              "\n",
              "               County_x  Unnamed: 0_y           Geography_y  \\\n",
              "0  District of Columbia           1.0  1400000US11001000100   \n",
              "1  District of Columbia           4.0  1400000US11001000300   \n",
              "2  District of Columbia           5.0  1400000US11001000400   \n",
              "3  District of Columbia           6.0  1400000US11001000501   \n",
              "4  District of Columbia           7.0  1400000US11001000502   \n",
              "\n",
              "   Rent as Percent of Income              County_y   join_key  \\\n",
              "0                       28.5  District of Columbia 2010-01-01   \n",
              "1                       32.3  District of Columbia 2010-01-01   \n",
              "2                       29.9  District of Columbia 2010-01-01   \n",
              "3                       24.4  District of Columbia 2010-01-01   \n",
              "4                       27.1  District of Columbia 2010-01-01   \n",
              "\n",
              "                 County year_num  \n",
              "0  District of Columbia     2010  \n",
              "1  District of Columbia     2010  \n",
              "2  District of Columbia     2010  \n",
              "3  District of Columbia     2010  \n",
              "4  District of Columbia     2010  "
            ]
          },
          "execution_count": 8,
          "metadata": {},
          "output_type": "execute_result"
        }
      ],
      "source": [
        "rent_df.loc[:,'year_num'] = rent_df.loc[:, 'Year'].apply(lambda x: str(x)[:4])\n",
        "rent_df.head()"
      ]
    },
    {
      "cell_type": "code",
      "execution_count": 9,
      "metadata": {
        "gather": {
          "logged": 1700501258140
        },
        "jupyter": {
          "outputs_hidden": false,
          "source_hidden": false
        },
        "nteract": {
          "transient": {
            "deleting": false
          }
        }
      },
      "outputs": [
        {
          "data": {
            "text/html": [
              "<div>\n",
              "<style scoped>\n",
              "    .dataframe tbody tr th:only-of-type {\n",
              "        vertical-align: middle;\n",
              "    }\n",
              "\n",
              "    .dataframe tbody tr th {\n",
              "        vertical-align: top;\n",
              "    }\n",
              "\n",
              "    .dataframe thead th {\n",
              "        text-align: right;\n",
              "    }\n",
              "</style>\n",
              "<table border=\"1\" class=\"dataframe\">\n",
              "  <thead>\n",
              "    <tr style=\"text-align: right;\">\n",
              "      <th></th>\n",
              "      <th>Year</th>\n",
              "      <th>County</th>\n",
              "      <th>year_num</th>\n",
              "      <th>Rent in USD</th>\n",
              "      <th>Rent as Percent of Income</th>\n",
              "      <th>city</th>\n",
              "      <th>year_city</th>\n",
              "    </tr>\n",
              "  </thead>\n",
              "  <tbody>\n",
              "    <tr>\n",
              "      <th>0</th>\n",
              "      <td>2010-01-01</td>\n",
              "      <td>District of Columbia</td>\n",
              "      <td>2010</td>\n",
              "      <td>951.0</td>\n",
              "      <td>29.50</td>\n",
              "      <td>washingtondc</td>\n",
              "      <td>washingtondc2010</td>\n",
              "    </tr>\n",
              "    <tr>\n",
              "      <th>1</th>\n",
              "      <td>2010-01-01</td>\n",
              "      <td>Fulton County</td>\n",
              "      <td>2010</td>\n",
              "      <td>937.0</td>\n",
              "      <td>30.70</td>\n",
              "      <td>Atlanta</td>\n",
              "      <td>Atlanta2010</td>\n",
              "    </tr>\n",
              "    <tr>\n",
              "      <th>2</th>\n",
              "      <td>2010-01-01</td>\n",
              "      <td>King County</td>\n",
              "      <td>2010</td>\n",
              "      <td>1054.0</td>\n",
              "      <td>28.40</td>\n",
              "      <td>Seattle</td>\n",
              "      <td>Seattle2010</td>\n",
              "    </tr>\n",
              "    <tr>\n",
              "      <th>3</th>\n",
              "      <td>2010-01-01</td>\n",
              "      <td>New York County</td>\n",
              "      <td>2010</td>\n",
              "      <td>1078.0</td>\n",
              "      <td>27.65</td>\n",
              "      <td>nyc</td>\n",
              "      <td>nyc2010</td>\n",
              "    </tr>\n",
              "    <tr>\n",
              "      <th>4</th>\n",
              "      <td>2011-01-01</td>\n",
              "      <td>District of Columbia</td>\n",
              "      <td>2011</td>\n",
              "      <td>1040.0</td>\n",
              "      <td>29.35</td>\n",
              "      <td>washingtondc</td>\n",
              "      <td>washingtondc2011</td>\n",
              "    </tr>\n",
              "  </tbody>\n",
              "</table>\n",
              "</div>"
            ],
            "text/plain": [
              "        Year                County year_num  Rent in USD  \\\n",
              "0 2010-01-01  District of Columbia     2010        951.0   \n",
              "1 2010-01-01         Fulton County     2010        937.0   \n",
              "2 2010-01-01           King County     2010       1054.0   \n",
              "3 2010-01-01       New York County     2010       1078.0   \n",
              "4 2011-01-01  District of Columbia     2011       1040.0   \n",
              "\n",
              "   Rent as Percent of Income          city         year_city  \n",
              "0                      29.50  washingtondc  washingtondc2010  \n",
              "1                      30.70       Atlanta       Atlanta2010  \n",
              "2                      28.40       Seattle       Seattle2010  \n",
              "3                      27.65           nyc           nyc2010  \n",
              "4                      29.35  washingtondc  washingtondc2011  "
            ]
          },
          "execution_count": 9,
          "metadata": {},
          "output_type": "execute_result"
        }
      ],
      "source": [
        "rent_df_agg = rent_df.groupby(['Year', 'County', 'year_num'])[['Rent in USD', 'Rent as Percent of Income']].median().reset_index()\n",
        "\n",
        "city_mappings = {'District of Columbia': 'washingtondc',\n",
        "                    'Fulton County': 'Atlanta',\n",
        "                    'New York County': 'nyc',\n",
        "                    'King County': 'Seattle'}\n",
        "rent_df_agg.loc[:, 'city'] = rent_df_agg['County'].map(city_mappings)\n",
        "rent_df_agg.loc[:, 'year_city'] = rent_df_agg.loc[:, 'city']+rent_df_agg.loc[:, 'year_num']\n",
        "rent_df_agg.head()"
      ]
    },
    {
      "cell_type": "code",
      "execution_count": 10,
      "metadata": {
        "gather": {
          "logged": 1700501258259
        },
        "jupyter": {
          "outputs_hidden": false,
          "source_hidden": false
        },
        "nteract": {
          "transient": {
            "deleting": false
          }
        }
      },
      "outputs": [
        {
          "data": {
            "text/plain": [
              "array(['2010', '2011', '2012', '2013', '2014', '2015', '2016', '2017',\n",
              "       '2018', '2019', '2020', '2021'], dtype=object)"
            ]
          },
          "execution_count": 10,
          "metadata": {},
          "output_type": "execute_result"
        }
      ],
      "source": [
        "rent_df_agg[rent_df_agg.year_num == '2022']\n",
        "rent_df_agg.year_num.unique()"
      ]
    },
    {
      "cell_type": "code",
      "execution_count": 11,
      "metadata": {
        "gather": {
          "logged": 1700501258371
        },
        "jupyter": {
          "outputs_hidden": false,
          "source_hidden": false
        },
        "nteract": {
          "transient": {
            "deleting": false
          }
        }
      },
      "outputs": [
        {
          "data": {
            "text/plain": [
              "array([2023, 2021, 2022], dtype=int64)"
            ]
          },
          "execution_count": 11,
          "metadata": {},
          "output_type": "execute_result"
        }
      ],
      "source": [
        "reddit_df1.year.unique()"
      ]
    },
    {
      "cell_type": "code",
      "execution_count": 12,
      "metadata": {
        "gather": {
          "logged": 1700501258491
        },
        "jupyter": {
          "outputs_hidden": false,
          "source_hidden": false
        },
        "nteract": {
          "transient": {
            "deleting": false
          }
        }
      },
      "outputs": [
        {
          "data": {
            "text/plain": [
              "0         washingtondc2023\n",
              "1              Seattle2023\n",
              "2              Atlanta2023\n",
              "3              Seattle2023\n",
              "4              Seattle2023\n",
              "                ...       \n",
              "217389         Atlanta2022\n",
              "217390         Atlanta2021\n",
              "217391         Seattle2021\n",
              "217392         Seattle2022\n",
              "217393         Seattle2022\n",
              "Name: year_city, Length: 217394, dtype: object"
            ]
          },
          "execution_count": 12,
          "metadata": {},
          "output_type": "execute_result"
        }
      ],
      "source": [
        "reddit_df1.loc[:, 'year_city'] = reddit_df1.loc[:, 'subreddit'] + reddit_df1.loc[:, 'year'].astype(str)\n",
        "reddit_df1.loc[:, 'year_city']"
      ]
    },
    {
      "cell_type": "code",
      "execution_count": 13,
      "metadata": {
        "gather": {
          "logged": 1700501259713
        },
        "jupyter": {
          "outputs_hidden": false,
          "source_hidden": false
        },
        "nteract": {
          "transient": {
            "deleting": false
          }
        }
      },
      "outputs": [
        {
          "data": {
            "text/html": [
              "<div>\n",
              "<style scoped>\n",
              "    .dataframe tbody tr th:only-of-type {\n",
              "        vertical-align: middle;\n",
              "    }\n",
              "\n",
              "    .dataframe tbody tr th {\n",
              "        vertical-align: top;\n",
              "    }\n",
              "\n",
              "    .dataframe thead th {\n",
              "        text-align: right;\n",
              "    }\n",
              "</style>\n",
              "<table border=\"1\" class=\"dataframe\">\n",
              "  <thead>\n",
              "    <tr style=\"text-align: right;\">\n",
              "      <th></th>\n",
              "      <th>archived</th>\n",
              "      <th>author</th>\n",
              "      <th>contest_mode</th>\n",
              "      <th>created_utc</th>\n",
              "      <th>domain</th>\n",
              "      <th>edited</th>\n",
              "      <th>gilded</th>\n",
              "      <th>hidden</th>\n",
              "      <th>hide_score</th>\n",
              "      <th>id</th>\n",
              "      <th>...</th>\n",
              "      <th>cleanTokens</th>\n",
              "      <th>sentence_embeddings</th>\n",
              "      <th>sentiment</th>\n",
              "      <th>year_city</th>\n",
              "      <th>Year</th>\n",
              "      <th>County</th>\n",
              "      <th>year_num</th>\n",
              "      <th>Rent in USD</th>\n",
              "      <th>Rent as Percent of Income</th>\n",
              "      <th>city</th>\n",
              "    </tr>\n",
              "  </thead>\n",
              "  <tbody>\n",
              "    <tr>\n",
              "      <th>0</th>\n",
              "      <td>False</td>\n",
              "      <td>[deleted]</td>\n",
              "      <td>False</td>\n",
              "      <td>2023-02-22 21:23:45</td>\n",
              "      <td>NaN</td>\n",
              "      <td>1.677101214E9</td>\n",
              "      <td>0</td>\n",
              "      <td>False</td>\n",
              "      <td>False</td>\n",
              "      <td>119dv0z</td>\n",
              "      <td>...</td>\n",
              "      <td>[Row(annotatorType='token', begin=0, end=6, re...</td>\n",
              "      <td>[Row(annotatorType='sentence_embeddings', begi...</td>\n",
              "      <td>neg</td>\n",
              "      <td>washingtondc2023</td>\n",
              "      <td>NaT</td>\n",
              "      <td>NaN</td>\n",
              "      <td>NaN</td>\n",
              "      <td>NaN</td>\n",
              "      <td>NaN</td>\n",
              "      <td>NaN</td>\n",
              "    </tr>\n",
              "    <tr>\n",
              "      <th>1</th>\n",
              "      <td>False</td>\n",
              "      <td>thewheisk</td>\n",
              "      <td>False</td>\n",
              "      <td>2023-02-22 21:25:33</td>\n",
              "      <td>self.Seattle</td>\n",
              "      <td>false</td>\n",
              "      <td>0</td>\n",
              "      <td>False</td>\n",
              "      <td>False</td>\n",
              "      <td>119dxqq</td>\n",
              "      <td>...</td>\n",
              "      <td>[Row(annotatorType='token', begin=0, end=6, re...</td>\n",
              "      <td>[Row(annotatorType='sentence_embeddings', begi...</td>\n",
              "      <td>pos</td>\n",
              "      <td>Seattle2023</td>\n",
              "      <td>NaT</td>\n",
              "      <td>NaN</td>\n",
              "      <td>NaN</td>\n",
              "      <td>NaN</td>\n",
              "      <td>NaN</td>\n",
              "      <td>NaN</td>\n",
              "    </tr>\n",
              "    <tr>\n",
              "      <th>2</th>\n",
              "      <td>False</td>\n",
              "      <td>Adventurous_Emu_3359</td>\n",
              "      <td>False</td>\n",
              "      <td>2023-02-22 21:25:48</td>\n",
              "      <td>self.Atlanta</td>\n",
              "      <td>false</td>\n",
              "      <td>0</td>\n",
              "      <td>False</td>\n",
              "      <td>False</td>\n",
              "      <td>119dy30</td>\n",
              "      <td>...</td>\n",
              "      <td>[Row(annotatorType='token', begin=7, end=12, r...</td>\n",
              "      <td>[Row(annotatorType='sentence_embeddings', begi...</td>\n",
              "      <td>neg</td>\n",
              "      <td>Atlanta2023</td>\n",
              "      <td>NaT</td>\n",
              "      <td>NaN</td>\n",
              "      <td>NaN</td>\n",
              "      <td>NaN</td>\n",
              "      <td>NaN</td>\n",
              "      <td>NaN</td>\n",
              "    </tr>\n",
              "    <tr>\n",
              "      <th>3</th>\n",
              "      <td>False</td>\n",
              "      <td>[deleted]</td>\n",
              "      <td>False</td>\n",
              "      <td>2023-02-21 05:57:38</td>\n",
              "      <td>NaN</td>\n",
              "      <td>false</td>\n",
              "      <td>0</td>\n",
              "      <td>False</td>\n",
              "      <td>False</td>\n",
              "      <td>117w0rx</td>\n",
              "      <td>...</td>\n",
              "      <td>[Row(annotatorType='token', begin=0, end=6, re...</td>\n",
              "      <td>[Row(annotatorType='sentence_embeddings', begi...</td>\n",
              "      <td>neg</td>\n",
              "      <td>Seattle2023</td>\n",
              "      <td>NaT</td>\n",
              "      <td>NaN</td>\n",
              "      <td>NaN</td>\n",
              "      <td>NaN</td>\n",
              "      <td>NaN</td>\n",
              "      <td>NaN</td>\n",
              "    </tr>\n",
              "    <tr>\n",
              "      <th>4</th>\n",
              "      <td>False</td>\n",
              "      <td>hammer838</td>\n",
              "      <td>False</td>\n",
              "      <td>2023-02-21 05:59:13</td>\n",
              "      <td>self.Seattle</td>\n",
              "      <td>false</td>\n",
              "      <td>0</td>\n",
              "      <td>False</td>\n",
              "      <td>False</td>\n",
              "      <td>117w1qz</td>\n",
              "      <td>...</td>\n",
              "      <td>[Row(annotatorType='token', begin=5, end=8, re...</td>\n",
              "      <td>[Row(annotatorType='sentence_embeddings', begi...</td>\n",
              "      <td>pos</td>\n",
              "      <td>Seattle2023</td>\n",
              "      <td>NaT</td>\n",
              "      <td>NaN</td>\n",
              "      <td>NaN</td>\n",
              "      <td>NaN</td>\n",
              "      <td>NaN</td>\n",
              "      <td>NaN</td>\n",
              "    </tr>\n",
              "  </tbody>\n",
              "</table>\n",
              "<p>5 rows × 64 columns</p>\n",
              "</div>"
            ],
            "text/plain": [
              "   archived                author  contest_mode          created_utc  \\\n",
              "0     False             [deleted]         False  2023-02-22 21:23:45   \n",
              "1     False             thewheisk         False  2023-02-22 21:25:33   \n",
              "2     False  Adventurous_Emu_3359         False  2023-02-22 21:25:48   \n",
              "3     False             [deleted]         False  2023-02-21 05:57:38   \n",
              "4     False             hammer838         False  2023-02-21 05:59:13   \n",
              "\n",
              "         domain         edited  gilded  hidden  hide_score       id  ...  \\\n",
              "0           NaN  1.677101214E9       0   False       False  119dv0z  ...   \n",
              "1  self.Seattle          false       0   False       False  119dxqq  ...   \n",
              "2  self.Atlanta          false       0   False       False  119dy30  ...   \n",
              "3           NaN          false       0   False       False  117w0rx  ...   \n",
              "4  self.Seattle          false       0   False       False  117w1qz  ...   \n",
              "\n",
              "                                         cleanTokens  \\\n",
              "0  [Row(annotatorType='token', begin=0, end=6, re...   \n",
              "1  [Row(annotatorType='token', begin=0, end=6, re...   \n",
              "2  [Row(annotatorType='token', begin=7, end=12, r...   \n",
              "3  [Row(annotatorType='token', begin=0, end=6, re...   \n",
              "4  [Row(annotatorType='token', begin=5, end=8, re...   \n",
              "\n",
              "                                 sentence_embeddings  sentiment  \\\n",
              "0  [Row(annotatorType='sentence_embeddings', begi...        neg   \n",
              "1  [Row(annotatorType='sentence_embeddings', begi...        pos   \n",
              "2  [Row(annotatorType='sentence_embeddings', begi...        neg   \n",
              "3  [Row(annotatorType='sentence_embeddings', begi...        neg   \n",
              "4  [Row(annotatorType='sentence_embeddings', begi...        pos   \n",
              "\n",
              "          year_city Year County  year_num Rent in USD  \\\n",
              "0  washingtondc2023  NaT    NaN       NaN         NaN   \n",
              "1       Seattle2023  NaT    NaN       NaN         NaN   \n",
              "2       Atlanta2023  NaT    NaN       NaN         NaN   \n",
              "3       Seattle2023  NaT    NaN       NaN         NaN   \n",
              "4       Seattle2023  NaT    NaN       NaN         NaN   \n",
              "\n",
              "   Rent as Percent of Income  city  \n",
              "0                        NaN   NaN  \n",
              "1                        NaN   NaN  \n",
              "2                        NaN   NaN  \n",
              "3                        NaN   NaN  \n",
              "4                        NaN   NaN  \n",
              "\n",
              "[5 rows x 64 columns]"
            ]
          },
          "execution_count": 13,
          "metadata": {},
          "output_type": "execute_result"
        }
      ],
      "source": [
        "# add to sentiment dataset\n",
        "df_all = reddit_df1.merge(rent_df_agg, on = 'year_city', how = 'left')\n",
        "# df_all.loc[:, 'sentiment'] = df_all.loc[:, 'sentiment'].apply(lambda x: x[0] if x else '')\n",
        "df_all.loc[:, 'sentiment'] = df_all.loc[:, 'sentiment'].str.replace(\"\\[|\\]|\\'\", '', regex = True)\n",
        "df_all.head()"
      ]
    },
    {
      "cell_type": "markdown",
      "metadata": {
        "nteract": {
          "transient": {
            "deleting": false
          }
        }
      },
      "source": [
        "# Visualize Sentiment"
      ]
    },
    {
      "cell_type": "code",
      "execution_count": 170,
      "metadata": {
        "gather": {
          "logged": 1700501259934
        },
        "jupyter": {
          "outputs_hidden": false,
          "source_hidden": false
        },
        "nteract": {
          "transient": {
            "deleting": false
          }
        }
      },
      "outputs": [
        {
          "data": {
            "text/plain": [
              "Index(['archived', 'author', 'contest_mode', 'created_utc', 'domain', 'edited',\n",
              "       'gilded', 'hidden', 'hide_score', 'id', 'is_crosspostable',\n",
              "       'is_reddit_media_domain', 'is_self', 'is_video', 'link_flair_css_class',\n",
              "       'link_flair_text', 'locked', 'media_embed', 'num_comments',\n",
              "       'num_crossposts', 'over_18', 'parent_whitelist_status', 'permalink',\n",
              "       'pinned', 'post_hint', 'preview', 'retrieved_on', 'score',\n",
              "       'secure_media_embed', 'selftext', 'spoiler', 'stickied', 'subreddit',\n",
              "       'subreddit_id', 'thumbnail', 'thumbnail_height', 'thumbnail_width',\n",
              "       'title', 'url', 'whitelist_status', 'year', 'month', 'engagement_label',\n",
              "       'score_label', 'num_words', 'airbnb', 'rent', 'gentrification',\n",
              "       'public_transit', 'tourists', 'document', 'sentence', 'token',\n",
              "       'normalized', 'cleanTokens', 'sentence_embeddings', 'sentiment',\n",
              "       'year_city', 'Year', 'County', 'year_num', 'Rent in USD',\n",
              "       'Rent as Percent of Income', 'city'],\n",
              "      dtype='object')"
            ]
          },
          "execution_count": 170,
          "metadata": {},
          "output_type": "execute_result"
        }
      ],
      "source": [
        "df_all.columns"
      ]
    },
    {
      "cell_type": "code",
      "execution_count": 56,
      "metadata": {
        "gather": {
          "logged": 1700501260056
        },
        "jupyter": {
          "outputs_hidden": false,
          "source_hidden": false
        },
        "nteract": {
          "transient": {
            "deleting": false
          }
        }
      },
      "outputs": [
        {
          "data": {
            "text/html": [
              "<div>\n",
              "<style scoped>\n",
              "    .dataframe tbody tr th:only-of-type {\n",
              "        vertical-align: middle;\n",
              "    }\n",
              "\n",
              "    .dataframe tbody tr th {\n",
              "        vertical-align: top;\n",
              "    }\n",
              "\n",
              "    .dataframe thead th {\n",
              "        text-align: right;\n",
              "    }\n",
              "</style>\n",
              "<table border=\"1\" class=\"dataframe\">\n",
              "  <thead>\n",
              "    <tr style=\"text-align: right;\">\n",
              "      <th>sentiment</th>\n",
              "      <th>neg</th>\n",
              "      <th>neutral</th>\n",
              "      <th>pos</th>\n",
              "    </tr>\n",
              "    <tr>\n",
              "      <th>airbnb</th>\n",
              "      <th></th>\n",
              "      <th></th>\n",
              "      <th></th>\n",
              "    </tr>\n",
              "  </thead>\n",
              "  <tbody>\n",
              "    <tr>\n",
              "      <th>False</th>\n",
              "      <td>30.813996</td>\n",
              "      <td>0.324910</td>\n",
              "      <td>68.861094</td>\n",
              "    </tr>\n",
              "    <tr>\n",
              "      <th>True</th>\n",
              "      <td>26.373626</td>\n",
              "      <td>1.098901</td>\n",
              "      <td>72.527473</td>\n",
              "    </tr>\n",
              "  </tbody>\n",
              "</table>\n",
              "</div>"
            ],
            "text/plain": [
              "sentiment        neg   neutral        pos\n",
              "airbnb                                   \n",
              "False      30.813996  0.324910  68.861094\n",
              "True       26.373626  1.098901  72.527473"
            ]
          },
          "execution_count": 56,
          "metadata": {},
          "output_type": "execute_result"
        }
      ],
      "source": [
        "airbnb_sentiment = df_all[df_all['sentiment'] != ''].groupby(['airbnb', 'sentiment']).size().unstack()\n",
        "airbnb_sentiment = airbnb_sentiment.div(airbnb_sentiment.sum(axis = 1), axis = 0) * 100\n",
        "airbnb_sentiment.head()"
      ]
    },
    {
      "cell_type": "code",
      "execution_count": 70,
      "metadata": {},
      "outputs": [
        {
          "data": {
            "application/vnd.plotly.v1+json": {
              "config": {
                "plotlyServerURL": "https://plot.ly"
              },
              "data": [
                {
                  "cells": {
                    "fill": {
                      "color": "#f5dce5"
                    },
                    "line": {
                      "color": "darkslategray"
                    },
                    "values": [
                      [
                        30.81,
                        26.37
                      ],
                      [
                        0.32,
                        1.09
                      ],
                      [
                        68.86,
                        72.52
                      ]
                    ]
                  },
                  "header": {
                    "fill": {
                      "color": "#d67698"
                    },
                    "line": {
                      "color": "darkslategray"
                    },
                    "values": [
                      "Negative",
                      "Neutral",
                      "Positive"
                    ]
                  },
                  "type": "table"
                }
              ],
              "layout": {
                "height": 300,
                "template": {
                  "data": {
                    "bar": [
                      {
                        "error_x": {
                          "color": "#2a3f5f"
                        },
                        "error_y": {
                          "color": "#2a3f5f"
                        },
                        "marker": {
                          "line": {
                            "color": "#E5ECF6",
                            "width": 0.5
                          },
                          "pattern": {
                            "fillmode": "overlay",
                            "size": 10,
                            "solidity": 0.2
                          }
                        },
                        "type": "bar"
                      }
                    ],
                    "barpolar": [
                      {
                        "marker": {
                          "line": {
                            "color": "#E5ECF6",
                            "width": 0.5
                          },
                          "pattern": {
                            "fillmode": "overlay",
                            "size": 10,
                            "solidity": 0.2
                          }
                        },
                        "type": "barpolar"
                      }
                    ],
                    "carpet": [
                      {
                        "aaxis": {
                          "endlinecolor": "#2a3f5f",
                          "gridcolor": "white",
                          "linecolor": "white",
                          "minorgridcolor": "white",
                          "startlinecolor": "#2a3f5f"
                        },
                        "baxis": {
                          "endlinecolor": "#2a3f5f",
                          "gridcolor": "white",
                          "linecolor": "white",
                          "minorgridcolor": "white",
                          "startlinecolor": "#2a3f5f"
                        },
                        "type": "carpet"
                      }
                    ],
                    "choropleth": [
                      {
                        "colorbar": {
                          "outlinewidth": 0,
                          "ticks": ""
                        },
                        "type": "choropleth"
                      }
                    ],
                    "contour": [
                      {
                        "colorbar": {
                          "outlinewidth": 0,
                          "ticks": ""
                        },
                        "colorscale": [
                          [
                            0,
                            "#0d0887"
                          ],
                          [
                            0.1111111111111111,
                            "#46039f"
                          ],
                          [
                            0.2222222222222222,
                            "#7201a8"
                          ],
                          [
                            0.3333333333333333,
                            "#9c179e"
                          ],
                          [
                            0.4444444444444444,
                            "#bd3786"
                          ],
                          [
                            0.5555555555555556,
                            "#d8576b"
                          ],
                          [
                            0.6666666666666666,
                            "#ed7953"
                          ],
                          [
                            0.7777777777777778,
                            "#fb9f3a"
                          ],
                          [
                            0.8888888888888888,
                            "#fdca26"
                          ],
                          [
                            1,
                            "#f0f921"
                          ]
                        ],
                        "type": "contour"
                      }
                    ],
                    "contourcarpet": [
                      {
                        "colorbar": {
                          "outlinewidth": 0,
                          "ticks": ""
                        },
                        "type": "contourcarpet"
                      }
                    ],
                    "heatmap": [
                      {
                        "colorbar": {
                          "outlinewidth": 0,
                          "ticks": ""
                        },
                        "colorscale": [
                          [
                            0,
                            "#0d0887"
                          ],
                          [
                            0.1111111111111111,
                            "#46039f"
                          ],
                          [
                            0.2222222222222222,
                            "#7201a8"
                          ],
                          [
                            0.3333333333333333,
                            "#9c179e"
                          ],
                          [
                            0.4444444444444444,
                            "#bd3786"
                          ],
                          [
                            0.5555555555555556,
                            "#d8576b"
                          ],
                          [
                            0.6666666666666666,
                            "#ed7953"
                          ],
                          [
                            0.7777777777777778,
                            "#fb9f3a"
                          ],
                          [
                            0.8888888888888888,
                            "#fdca26"
                          ],
                          [
                            1,
                            "#f0f921"
                          ]
                        ],
                        "type": "heatmap"
                      }
                    ],
                    "heatmapgl": [
                      {
                        "colorbar": {
                          "outlinewidth": 0,
                          "ticks": ""
                        },
                        "colorscale": [
                          [
                            0,
                            "#0d0887"
                          ],
                          [
                            0.1111111111111111,
                            "#46039f"
                          ],
                          [
                            0.2222222222222222,
                            "#7201a8"
                          ],
                          [
                            0.3333333333333333,
                            "#9c179e"
                          ],
                          [
                            0.4444444444444444,
                            "#bd3786"
                          ],
                          [
                            0.5555555555555556,
                            "#d8576b"
                          ],
                          [
                            0.6666666666666666,
                            "#ed7953"
                          ],
                          [
                            0.7777777777777778,
                            "#fb9f3a"
                          ],
                          [
                            0.8888888888888888,
                            "#fdca26"
                          ],
                          [
                            1,
                            "#f0f921"
                          ]
                        ],
                        "type": "heatmapgl"
                      }
                    ],
                    "histogram": [
                      {
                        "marker": {
                          "pattern": {
                            "fillmode": "overlay",
                            "size": 10,
                            "solidity": 0.2
                          }
                        },
                        "type": "histogram"
                      }
                    ],
                    "histogram2d": [
                      {
                        "colorbar": {
                          "outlinewidth": 0,
                          "ticks": ""
                        },
                        "colorscale": [
                          [
                            0,
                            "#0d0887"
                          ],
                          [
                            0.1111111111111111,
                            "#46039f"
                          ],
                          [
                            0.2222222222222222,
                            "#7201a8"
                          ],
                          [
                            0.3333333333333333,
                            "#9c179e"
                          ],
                          [
                            0.4444444444444444,
                            "#bd3786"
                          ],
                          [
                            0.5555555555555556,
                            "#d8576b"
                          ],
                          [
                            0.6666666666666666,
                            "#ed7953"
                          ],
                          [
                            0.7777777777777778,
                            "#fb9f3a"
                          ],
                          [
                            0.8888888888888888,
                            "#fdca26"
                          ],
                          [
                            1,
                            "#f0f921"
                          ]
                        ],
                        "type": "histogram2d"
                      }
                    ],
                    "histogram2dcontour": [
                      {
                        "colorbar": {
                          "outlinewidth": 0,
                          "ticks": ""
                        },
                        "colorscale": [
                          [
                            0,
                            "#0d0887"
                          ],
                          [
                            0.1111111111111111,
                            "#46039f"
                          ],
                          [
                            0.2222222222222222,
                            "#7201a8"
                          ],
                          [
                            0.3333333333333333,
                            "#9c179e"
                          ],
                          [
                            0.4444444444444444,
                            "#bd3786"
                          ],
                          [
                            0.5555555555555556,
                            "#d8576b"
                          ],
                          [
                            0.6666666666666666,
                            "#ed7953"
                          ],
                          [
                            0.7777777777777778,
                            "#fb9f3a"
                          ],
                          [
                            0.8888888888888888,
                            "#fdca26"
                          ],
                          [
                            1,
                            "#f0f921"
                          ]
                        ],
                        "type": "histogram2dcontour"
                      }
                    ],
                    "mesh3d": [
                      {
                        "colorbar": {
                          "outlinewidth": 0,
                          "ticks": ""
                        },
                        "type": "mesh3d"
                      }
                    ],
                    "parcoords": [
                      {
                        "line": {
                          "colorbar": {
                            "outlinewidth": 0,
                            "ticks": ""
                          }
                        },
                        "type": "parcoords"
                      }
                    ],
                    "pie": [
                      {
                        "automargin": true,
                        "type": "pie"
                      }
                    ],
                    "scatter": [
                      {
                        "fillpattern": {
                          "fillmode": "overlay",
                          "size": 10,
                          "solidity": 0.2
                        },
                        "type": "scatter"
                      }
                    ],
                    "scatter3d": [
                      {
                        "line": {
                          "colorbar": {
                            "outlinewidth": 0,
                            "ticks": ""
                          }
                        },
                        "marker": {
                          "colorbar": {
                            "outlinewidth": 0,
                            "ticks": ""
                          }
                        },
                        "type": "scatter3d"
                      }
                    ],
                    "scattercarpet": [
                      {
                        "marker": {
                          "colorbar": {
                            "outlinewidth": 0,
                            "ticks": ""
                          }
                        },
                        "type": "scattercarpet"
                      }
                    ],
                    "scattergeo": [
                      {
                        "marker": {
                          "colorbar": {
                            "outlinewidth": 0,
                            "ticks": ""
                          }
                        },
                        "type": "scattergeo"
                      }
                    ],
                    "scattergl": [
                      {
                        "marker": {
                          "colorbar": {
                            "outlinewidth": 0,
                            "ticks": ""
                          }
                        },
                        "type": "scattergl"
                      }
                    ],
                    "scattermapbox": [
                      {
                        "marker": {
                          "colorbar": {
                            "outlinewidth": 0,
                            "ticks": ""
                          }
                        },
                        "type": "scattermapbox"
                      }
                    ],
                    "scatterpolar": [
                      {
                        "marker": {
                          "colorbar": {
                            "outlinewidth": 0,
                            "ticks": ""
                          }
                        },
                        "type": "scatterpolar"
                      }
                    ],
                    "scatterpolargl": [
                      {
                        "marker": {
                          "colorbar": {
                            "outlinewidth": 0,
                            "ticks": ""
                          }
                        },
                        "type": "scatterpolargl"
                      }
                    ],
                    "scatterternary": [
                      {
                        "marker": {
                          "colorbar": {
                            "outlinewidth": 0,
                            "ticks": ""
                          }
                        },
                        "type": "scatterternary"
                      }
                    ],
                    "surface": [
                      {
                        "colorbar": {
                          "outlinewidth": 0,
                          "ticks": ""
                        },
                        "colorscale": [
                          [
                            0,
                            "#0d0887"
                          ],
                          [
                            0.1111111111111111,
                            "#46039f"
                          ],
                          [
                            0.2222222222222222,
                            "#7201a8"
                          ],
                          [
                            0.3333333333333333,
                            "#9c179e"
                          ],
                          [
                            0.4444444444444444,
                            "#bd3786"
                          ],
                          [
                            0.5555555555555556,
                            "#d8576b"
                          ],
                          [
                            0.6666666666666666,
                            "#ed7953"
                          ],
                          [
                            0.7777777777777778,
                            "#fb9f3a"
                          ],
                          [
                            0.8888888888888888,
                            "#fdca26"
                          ],
                          [
                            1,
                            "#f0f921"
                          ]
                        ],
                        "type": "surface"
                      }
                    ],
                    "table": [
                      {
                        "cells": {
                          "fill": {
                            "color": "#EBF0F8"
                          },
                          "line": {
                            "color": "white"
                          }
                        },
                        "header": {
                          "fill": {
                            "color": "#C8D4E3"
                          },
                          "line": {
                            "color": "white"
                          }
                        },
                        "type": "table"
                      }
                    ]
                  },
                  "layout": {
                    "annotationdefaults": {
                      "arrowcolor": "#2a3f5f",
                      "arrowhead": 0,
                      "arrowwidth": 1
                    },
                    "autotypenumbers": "strict",
                    "coloraxis": {
                      "colorbar": {
                        "outlinewidth": 0,
                        "ticks": ""
                      }
                    },
                    "colorscale": {
                      "diverging": [
                        [
                          0,
                          "#8e0152"
                        ],
                        [
                          0.1,
                          "#c51b7d"
                        ],
                        [
                          0.2,
                          "#de77ae"
                        ],
                        [
                          0.3,
                          "#f1b6da"
                        ],
                        [
                          0.4,
                          "#fde0ef"
                        ],
                        [
                          0.5,
                          "#f7f7f7"
                        ],
                        [
                          0.6,
                          "#e6f5d0"
                        ],
                        [
                          0.7,
                          "#b8e186"
                        ],
                        [
                          0.8,
                          "#7fbc41"
                        ],
                        [
                          0.9,
                          "#4d9221"
                        ],
                        [
                          1,
                          "#276419"
                        ]
                      ],
                      "sequential": [
                        [
                          0,
                          "#0d0887"
                        ],
                        [
                          0.1111111111111111,
                          "#46039f"
                        ],
                        [
                          0.2222222222222222,
                          "#7201a8"
                        ],
                        [
                          0.3333333333333333,
                          "#9c179e"
                        ],
                        [
                          0.4444444444444444,
                          "#bd3786"
                        ],
                        [
                          0.5555555555555556,
                          "#d8576b"
                        ],
                        [
                          0.6666666666666666,
                          "#ed7953"
                        ],
                        [
                          0.7777777777777778,
                          "#fb9f3a"
                        ],
                        [
                          0.8888888888888888,
                          "#fdca26"
                        ],
                        [
                          1,
                          "#f0f921"
                        ]
                      ],
                      "sequentialminus": [
                        [
                          0,
                          "#0d0887"
                        ],
                        [
                          0.1111111111111111,
                          "#46039f"
                        ],
                        [
                          0.2222222222222222,
                          "#7201a8"
                        ],
                        [
                          0.3333333333333333,
                          "#9c179e"
                        ],
                        [
                          0.4444444444444444,
                          "#bd3786"
                        ],
                        [
                          0.5555555555555556,
                          "#d8576b"
                        ],
                        [
                          0.6666666666666666,
                          "#ed7953"
                        ],
                        [
                          0.7777777777777778,
                          "#fb9f3a"
                        ],
                        [
                          0.8888888888888888,
                          "#fdca26"
                        ],
                        [
                          1,
                          "#f0f921"
                        ]
                      ]
                    },
                    "colorway": [
                      "#636efa",
                      "#EF553B",
                      "#00cc96",
                      "#ab63fa",
                      "#FFA15A",
                      "#19d3f3",
                      "#FF6692",
                      "#B6E880",
                      "#FF97FF",
                      "#FECB52"
                    ],
                    "font": {
                      "color": "#2a3f5f"
                    },
                    "geo": {
                      "bgcolor": "white",
                      "lakecolor": "white",
                      "landcolor": "#E5ECF6",
                      "showlakes": true,
                      "showland": true,
                      "subunitcolor": "white"
                    },
                    "hoverlabel": {
                      "align": "left"
                    },
                    "hovermode": "closest",
                    "mapbox": {
                      "style": "light"
                    },
                    "paper_bgcolor": "white",
                    "plot_bgcolor": "#E5ECF6",
                    "polar": {
                      "angularaxis": {
                        "gridcolor": "white",
                        "linecolor": "white",
                        "ticks": ""
                      },
                      "bgcolor": "#E5ECF6",
                      "radialaxis": {
                        "gridcolor": "white",
                        "linecolor": "white",
                        "ticks": ""
                      }
                    },
                    "scene": {
                      "xaxis": {
                        "backgroundcolor": "#E5ECF6",
                        "gridcolor": "white",
                        "gridwidth": 2,
                        "linecolor": "white",
                        "showbackground": true,
                        "ticks": "",
                        "zerolinecolor": "white"
                      },
                      "yaxis": {
                        "backgroundcolor": "#E5ECF6",
                        "gridcolor": "white",
                        "gridwidth": 2,
                        "linecolor": "white",
                        "showbackground": true,
                        "ticks": "",
                        "zerolinecolor": "white"
                      },
                      "zaxis": {
                        "backgroundcolor": "#E5ECF6",
                        "gridcolor": "white",
                        "gridwidth": 2,
                        "linecolor": "white",
                        "showbackground": true,
                        "ticks": "",
                        "zerolinecolor": "white"
                      }
                    },
                    "shapedefaults": {
                      "line": {
                        "color": "#2a3f5f"
                      }
                    },
                    "ternary": {
                      "aaxis": {
                        "gridcolor": "white",
                        "linecolor": "white",
                        "ticks": ""
                      },
                      "baxis": {
                        "gridcolor": "white",
                        "linecolor": "white",
                        "ticks": ""
                      },
                      "bgcolor": "#E5ECF6",
                      "caxis": {
                        "gridcolor": "white",
                        "linecolor": "white",
                        "ticks": ""
                      }
                    },
                    "title": {
                      "x": 0.05
                    },
                    "xaxis": {
                      "automargin": true,
                      "gridcolor": "white",
                      "linecolor": "white",
                      "ticks": "",
                      "title": {
                        "standoff": 15
                      },
                      "zerolinecolor": "white",
                      "zerolinewidth": 2
                    },
                    "yaxis": {
                      "automargin": true,
                      "gridcolor": "white",
                      "linecolor": "white",
                      "ticks": "",
                      "title": {
                        "standoff": 15
                      },
                      "zerolinecolor": "white",
                      "zerolinewidth": 2
                    }
                  }
                },
                "width": 500
              }
            }
          },
          "metadata": {},
          "output_type": "display_data"
        }
      ],
      "source": [
        "fig = go.Figure(data=[go.Table(header=dict(values=[\"Negative\",\"Neutral\",\"Positive\"],line_color='darkslategray',\n",
        "                fill_color='#d67698'),\n",
        "                 cells=dict(values=[[30.81,26.37], [0.32,1.09],[68.86,72.52]],line_color='darkslategray',\n",
        "               fill_color='#f5dce5'),)\n",
        "                     ])\n",
        "fig.update_layout(width=500, height=300)\n",
        "fig.show()"
      ]
    },
    {
      "cell_type": "code",
      "execution_count": 71,
      "metadata": {
        "gather": {
          "logged": 1700501260222
        },
        "jupyter": {
          "outputs_hidden": false,
          "source_hidden": false
        },
        "nteract": {
          "transient": {
            "deleting": false
          }
        }
      },
      "outputs": [
        {
          "data": {
            "text/plain": [
              "Text(0, 0.5, 'Percentage of Posts')"
            ]
          },
          "execution_count": 71,
          "metadata": {},
          "output_type": "execute_result"
        },
        {
          "data": {
            "image/png": "[encoded data removed]",
            "text/plain": [
              "<Figure size 1000x800 with 1 Axes>"
            ]
          },
          "metadata": {},
          "output_type": "display_data"
        }
      ],
      "source": [
        "custom_colors = {'neg' : '#C41E3A',\n",
        "                    'pos' : '#228B22',\n",
        "                    'neutral' : 'skyblue'}\n",
        "\n",
        "ax = airbnb_sentiment.plot(kind = 'bar', stacked = True, figsize = (10, 8), color =[custom_colors[col] for col in airbnb_sentiment.columns])\n",
        "\n",
        "ax.set_title(\"Sentiment About Reddit Posts Containing the word 'Airbnb'\")\n",
        "ax.set_xlabel(\"Post Contains 'Airbnb'\")\n",
        "ax.set_ylabel(\"Percentage of Posts\")"
      ]
    },
    {
      "cell_type": "code",
      "execution_count": 173,
      "metadata": {
        "gather": {
          "logged": 1700501260924
        },
        "jupyter": {
          "outputs_hidden": false,
          "source_hidden": false
        },
        "nteract": {
          "transient": {
            "deleting": false
          }
        }
      },
      "outputs": [
        {
          "data": {
            "image/png": "[encoded data removed]",
            "text/plain": [
              "<Figure size 1000x800 with 1 Axes>"
            ]
          },
          "metadata": {},
          "output_type": "display_data"
        }
      ],
      "source": [
        "rent_sentiment = df_all[df_all['sentiment'] != ''].groupby(['rent', 'sentiment']).size().unstack()\n",
        "rent_sentiment = rent_sentiment.div(rent_sentiment.sum(axis = 1), axis = 0) * 100\n",
        "rent_sentiment.head()\n",
        "\n",
        "\n",
        "ax = rent_sentiment.plot(kind = 'bar', stacked = True, figsize = (10, 8), color =[custom_colors[col] for col in airbnb_sentiment.columns])\n",
        "ax.set_title(\"Sentiment About Reddit Posts Containing the Word 'Rent'\", fontsize = 15)\n",
        "ax.set_xlabel(\"Post Contains 'Rent'\", fontsize = 14)\n",
        "ax.set_ylabel(\"Percentage of Posts\", fontsize = 14)\n",
        "ax.legend(title='Sentiment of Post', fontsize=14, bbox_to_anchor=(1.25, 1), loc='upper right')\n",
        "ax.tick_params(axis='both', labelsize=14)\n",
        "\n",
        "# Adjust layout to prevent clipping of the legend\n",
        "plt.tight_layout()\n",
        "\n",
        "# Save the plot to an image file (e.g., PNG)\n",
        "plt.savefig(img_path + 'rent_sentiment.png')\n",
        "\n",
        "# Show the plot\n",
        "plt.show()"
      ]
    },
    {
      "cell_type": "markdown",
      "metadata": {
        "nteract": {
          "transient": {
            "deleting": false
          }
        }
      },
      "source": [
        "# Visualize Sentiment of Rent Next to Rent Prices"
      ]
    },
    {
      "cell_type": "code",
      "execution_count": 174,
      "metadata": {
        "gather": {
          "logged": 1700501261955
        },
        "jupyter": {
          "outputs_hidden": false,
          "source_hidden": false
        },
        "nteract": {
          "transient": {
            "deleting": false
          }
        }
      },
      "outputs": [
        {
          "name": "stderr",
          "output_type": "stream",
          "text": [
            "/anaconda/envs/azureml_py38/lib/python3.8/site-packages/seaborn/axisgrid.py:712: UserWarning: Using the barplot function without specifying `order` is likely to produce an incorrect plot.\n",
            "  warnings.warn(warning)\n",
            "/anaconda/envs/azureml_py38/lib/python3.8/site-packages/seaborn/axisgrid.py:118: UserWarning: The figure layout has changed to tight\n",
            "  self._figure.tight_layout(*args, **kwargs)\n"
          ]
        },
        {
          "data": {
            "image/png": "[encoded data removed]",
            "text/plain": [
              "<Figure size 2099.75x500 with 4 Axes>"
            ]
          },
          "metadata": {},
          "output_type": "display_data"
        }
      ],
      "source": [
        "# city_rent_sentiment = df_all[(df_all['sentiment'] != '') & (df_all['rent'] == True)].groupby(['subreddit', 'rent', 'sentiment']).size().reset_index(name = 'count')\n",
        "city_rent_sentiment = df_all[(df_all['sentiment'] != '')].groupby(['subreddit', 'rent', 'sentiment']).size().reset_index(name = 'count')\n",
        "city_rent_sentiment['percentage'] = city_rent_sentiment['count'] / city_rent_sentiment.groupby(['subreddit', 'rent'])['count'].transform('sum') * 100\n",
        "\n",
        "\n",
        "rent_sents = sns.FacetGrid(city_rent_sentiment,\n",
        "                          col=\"subreddit\",\n",
        "                          hue = 'sentiment',\n",
        "                        #   margin_titles = True,\n",
        "                          height=5\n",
        "                 )\n",
        "\n",
        "rent_sents = (rent_sents.map(sns.barplot,\n",
        "                                \"rent\",\n",
        "                                \"percentage\",\n",
        "                                linewidth=2\n",
        "                        )).add_legend()\n",
        "\n",
        "# rent_sents.set_titles(col_template = \"{col_name}\")  # use this argument literally\n",
        "# rent_sents.set_axis_labels(y_var = '% of Reddit Posts')\n",
        "        \n",
        "# rent_sents.fig.subplots_adjust(top=0.9) # adjust the Figure in rp\n",
        "# rent_sents.fig.suptitle(f'Most Gentrified U.S. Cities Rent Prices in {rent_df.year_num.max()}', fontdict={'size':35})"
      ]
    },
    {
      "cell_type": "code",
      "execution_count": 175,
      "metadata": {
        "gather": {
          "logged": 1700501263054
        },
        "jupyter": {
          "outputs_hidden": false,
          "source_hidden": false
        },
        "nteract": {
          "transient": {
            "deleting": false
          }
        }
      },
      "outputs": [
        {
          "name": "stdout",
          "output_type": "stream",
          "text": [
            "1283\n"
          ]
        },
        {
          "name": "stderr",
          "output_type": "stream",
          "text": [
            "/anaconda/envs/azureml_py38/lib/python3.8/site-packages/seaborn/axisgrid.py:118: UserWarning: The figure layout has changed to tight\n",
            "  self._figure.tight_layout(*args, **kwargs)\n"
          ]
        },
        {
          "data": {
            "image/png": "[encoded data removed]",
            "text/plain": [
              "<Figure size 2000x500 with 4 Axes>"
            ]
          },
          "metadata": {},
          "output_type": "display_data"
        }
      ],
      "source": [
        "rent_df.loc[:, 'City'] = rent_df['County'].map(city_mappings)\n",
        "last_rent_df = rent_df.loc[rent_df.year_num == rent_df.year_num.max()]\n",
        "print(len(last_rent_df))\n",
        "\n",
        "rent_hists = sns.FacetGrid(last_rent_df,\n",
        "                          col=\"City\",\n",
        "                          margin_titles = True,\n",
        "                          hue=\"City\",\n",
        "                          col_wrap=4,\n",
        "                          height=5\n",
        "                 )\n",
        "\n",
        "rent_hists.map(plt.hist,\n",
        "              \"Rent in USD\",\n",
        "              linewidth=2\n",
        "     )\n",
        "\n",
        "rent_hists.set_titles(col_template = \"{col_name}\")  # use this argument literally\n",
        "rent_hists.set_axis_labels(y_var = '# of Census Blocks')\n",
        "        \n",
        "rent_hists.fig.subplots_adjust(top=0.9) # adjust the Figure in rp\n",
        "rent_hists.fig.suptitle(f'Most Gentrified U.S. Cities Rent Prices in {rent_df.year_num.max()}', fontdict={'size':35})\n",
        "\n",
        "plt.savefig(img_path + \"rent_prices.png\")"
      ]
    },
    {
      "cell_type": "code",
      "execution_count": 176,
      "metadata": {
        "gather": {
          "logged": 1700501263166
        },
        "jupyter": {
          "outputs_hidden": false,
          "source_hidden": false
        },
        "nteract": {
          "transient": {
            "deleting": false
          }
        }
      },
      "outputs": [
        {
          "data": {
            "text/html": [
              "<div>\n",
              "<style scoped>\n",
              "    .dataframe tbody tr th:only-of-type {\n",
              "        vertical-align: middle;\n",
              "    }\n",
              "\n",
              "    .dataframe tbody tr th {\n",
              "        vertical-align: top;\n",
              "    }\n",
              "\n",
              "    .dataframe thead th {\n",
              "        text-align: right;\n",
              "    }\n",
              "</style>\n",
              "<table border=\"1\" class=\"dataframe\">\n",
              "  <thead>\n",
              "    <tr style=\"text-align: right;\">\n",
              "      <th></th>\n",
              "      <th>archived</th>\n",
              "      <th>author</th>\n",
              "      <th>contest_mode</th>\n",
              "      <th>created_utc</th>\n",
              "      <th>domain</th>\n",
              "      <th>edited</th>\n",
              "      <th>gilded</th>\n",
              "      <th>hidden</th>\n",
              "      <th>hide_score</th>\n",
              "      <th>id</th>\n",
              "      <th>...</th>\n",
              "      <th>cleanTokens</th>\n",
              "      <th>sentence_embeddings</th>\n",
              "      <th>sentiment</th>\n",
              "      <th>year_city</th>\n",
              "      <th>Year</th>\n",
              "      <th>County</th>\n",
              "      <th>year_num</th>\n",
              "      <th>Rent in USD</th>\n",
              "      <th>Rent as Percent of Income</th>\n",
              "      <th>city</th>\n",
              "    </tr>\n",
              "  </thead>\n",
              "  <tbody>\n",
              "    <tr>\n",
              "      <th>0</th>\n",
              "      <td>False</td>\n",
              "      <td>[deleted]</td>\n",
              "      <td>False</td>\n",
              "      <td>2023-02-22 21:23:45</td>\n",
              "      <td>NaN</td>\n",
              "      <td>1.677101214E9</td>\n",
              "      <td>0</td>\n",
              "      <td>False</td>\n",
              "      <td>False</td>\n",
              "      <td>119dv0z</td>\n",
              "      <td>...</td>\n",
              "      <td>[Row(annotatorType='token', begin=0, end=6, re...</td>\n",
              "      <td>[Row(annotatorType='sentence_embeddings', begi...</td>\n",
              "      <td>neg</td>\n",
              "      <td>washingtondc2023</td>\n",
              "      <td>NaT</td>\n",
              "      <td>NaN</td>\n",
              "      <td>NaN</td>\n",
              "      <td>NaN</td>\n",
              "      <td>NaN</td>\n",
              "      <td>NaN</td>\n",
              "    </tr>\n",
              "    <tr>\n",
              "      <th>1</th>\n",
              "      <td>False</td>\n",
              "      <td>thewheisk</td>\n",
              "      <td>False</td>\n",
              "      <td>2023-02-22 21:25:33</td>\n",
              "      <td>self.Seattle</td>\n",
              "      <td>false</td>\n",
              "      <td>0</td>\n",
              "      <td>False</td>\n",
              "      <td>False</td>\n",
              "      <td>119dxqq</td>\n",
              "      <td>...</td>\n",
              "      <td>[Row(annotatorType='token', begin=0, end=6, re...</td>\n",
              "      <td>[Row(annotatorType='sentence_embeddings', begi...</td>\n",
              "      <td>pos</td>\n",
              "      <td>Seattle2023</td>\n",
              "      <td>NaT</td>\n",
              "      <td>NaN</td>\n",
              "      <td>NaN</td>\n",
              "      <td>NaN</td>\n",
              "      <td>NaN</td>\n",
              "      <td>NaN</td>\n",
              "    </tr>\n",
              "    <tr>\n",
              "      <th>2</th>\n",
              "      <td>False</td>\n",
              "      <td>Adventurous_Emu_3359</td>\n",
              "      <td>False</td>\n",
              "      <td>2023-02-22 21:25:48</td>\n",
              "      <td>self.Atlanta</td>\n",
              "      <td>false</td>\n",
              "      <td>0</td>\n",
              "      <td>False</td>\n",
              "      <td>False</td>\n",
              "      <td>119dy30</td>\n",
              "      <td>...</td>\n",
              "      <td>[Row(annotatorType='token', begin=7, end=12, r...</td>\n",
              "      <td>[Row(annotatorType='sentence_embeddings', begi...</td>\n",
              "      <td>neg</td>\n",
              "      <td>Atlanta2023</td>\n",
              "      <td>NaT</td>\n",
              "      <td>NaN</td>\n",
              "      <td>NaN</td>\n",
              "      <td>NaN</td>\n",
              "      <td>NaN</td>\n",
              "      <td>NaN</td>\n",
              "    </tr>\n",
              "    <tr>\n",
              "      <th>3</th>\n",
              "      <td>False</td>\n",
              "      <td>[deleted]</td>\n",
              "      <td>False</td>\n",
              "      <td>2023-02-21 05:57:38</td>\n",
              "      <td>NaN</td>\n",
              "      <td>false</td>\n",
              "      <td>0</td>\n",
              "      <td>False</td>\n",
              "      <td>False</td>\n",
              "      <td>117w0rx</td>\n",
              "      <td>...</td>\n",
              "      <td>[Row(annotatorType='token', begin=0, end=6, re...</td>\n",
              "      <td>[Row(annotatorType='sentence_embeddings', begi...</td>\n",
              "      <td>neg</td>\n",
              "      <td>Seattle2023</td>\n",
              "      <td>NaT</td>\n",
              "      <td>NaN</td>\n",
              "      <td>NaN</td>\n",
              "      <td>NaN</td>\n",
              "      <td>NaN</td>\n",
              "      <td>NaN</td>\n",
              "    </tr>\n",
              "    <tr>\n",
              "      <th>4</th>\n",
              "      <td>False</td>\n",
              "      <td>hammer838</td>\n",
              "      <td>False</td>\n",
              "      <td>2023-02-21 05:59:13</td>\n",
              "      <td>self.Seattle</td>\n",
              "      <td>false</td>\n",
              "      <td>0</td>\n",
              "      <td>False</td>\n",
              "      <td>False</td>\n",
              "      <td>117w1qz</td>\n",
              "      <td>...</td>\n",
              "      <td>[Row(annotatorType='token', begin=5, end=8, re...</td>\n",
              "      <td>[Row(annotatorType='sentence_embeddings', begi...</td>\n",
              "      <td>pos</td>\n",
              "      <td>Seattle2023</td>\n",
              "      <td>NaT</td>\n",
              "      <td>NaN</td>\n",
              "      <td>NaN</td>\n",
              "      <td>NaN</td>\n",
              "      <td>NaN</td>\n",
              "      <td>NaN</td>\n",
              "    </tr>\n",
              "  </tbody>\n",
              "</table>\n",
              "<p>5 rows × 64 columns</p>\n",
              "</div>"
            ],
            "text/plain": [
              "   archived                author  contest_mode          created_utc  \\\n",
              "0     False             [deleted]         False  2023-02-22 21:23:45   \n",
              "1     False             thewheisk         False  2023-02-22 21:25:33   \n",
              "2     False  Adventurous_Emu_3359         False  2023-02-22 21:25:48   \n",
              "3     False             [deleted]         False  2023-02-21 05:57:38   \n",
              "4     False             hammer838         False  2023-02-21 05:59:13   \n",
              "\n",
              "         domain         edited  gilded  hidden  hide_score       id  ...  \\\n",
              "0           NaN  1.677101214E9       0   False       False  119dv0z  ...   \n",
              "1  self.Seattle          false       0   False       False  119dxqq  ...   \n",
              "2  self.Atlanta          false       0   False       False  119dy30  ...   \n",
              "3           NaN          false       0   False       False  117w0rx  ...   \n",
              "4  self.Seattle          false       0   False       False  117w1qz  ...   \n",
              "\n",
              "                                         cleanTokens  \\\n",
              "0  [Row(annotatorType='token', begin=0, end=6, re...   \n",
              "1  [Row(annotatorType='token', begin=0, end=6, re...   \n",
              "2  [Row(annotatorType='token', begin=7, end=12, r...   \n",
              "3  [Row(annotatorType='token', begin=0, end=6, re...   \n",
              "4  [Row(annotatorType='token', begin=5, end=8, re...   \n",
              "\n",
              "                                 sentence_embeddings  sentiment  \\\n",
              "0  [Row(annotatorType='sentence_embeddings', begi...        neg   \n",
              "1  [Row(annotatorType='sentence_embeddings', begi...        pos   \n",
              "2  [Row(annotatorType='sentence_embeddings', begi...        neg   \n",
              "3  [Row(annotatorType='sentence_embeddings', begi...        neg   \n",
              "4  [Row(annotatorType='sentence_embeddings', begi...        pos   \n",
              "\n",
              "          year_city Year County  year_num Rent in USD  \\\n",
              "0  washingtondc2023  NaT    NaN       NaN         NaN   \n",
              "1       Seattle2023  NaT    NaN       NaN         NaN   \n",
              "2       Atlanta2023  NaT    NaN       NaN         NaN   \n",
              "3       Seattle2023  NaT    NaN       NaN         NaN   \n",
              "4       Seattle2023  NaT    NaN       NaN         NaN   \n",
              "\n",
              "   Rent as Percent of Income  city  \n",
              "0                        NaN   NaN  \n",
              "1                        NaN   NaN  \n",
              "2                        NaN   NaN  \n",
              "3                        NaN   NaN  \n",
              "4                        NaN   NaN  \n",
              "\n",
              "[5 rows x 64 columns]"
            ]
          },
          "execution_count": 176,
          "metadata": {},
          "output_type": "execute_result"
        }
      ],
      "source": [
        "df_all.head()"
      ]
    },
    {
      "cell_type": "code",
      "execution_count": 177,
      "metadata": {
        "gather": {
          "logged": 1700501265133
        },
        "jupyter": {
          "outputs_hidden": false,
          "source_hidden": false
        },
        "nteract": {
          "transient": {
            "deleting": false
          }
        }
      },
      "outputs": [
        {
          "data": {
            "image/png": "[encoded data removed]",
            "text/plain": [
              "<Figure size 2000x500 with 4 Axes>"
            ]
          },
          "metadata": {},
          "output_type": "display_data"
        }
      ],
      "source": [
        "fig, ax = plt.subplots(nrows = 1, ncols = 4, figsize = (20, 5))\n",
        "\n",
        "city = 'washingtondc'\n",
        "rent_sentiment = df_all[(df_all['sentiment'] != '') & (df_all['subreddit'] == city)].groupby(['rent', 'sentiment']).size().unstack()\n",
        "rent_sentiment = rent_sentiment.div(rent_sentiment.sum(axis = 1), axis = 0) * 100\n",
        "rent_sentiment.plot(kind = 'bar', stacked = True, color =[custom_colors[col] for col in airbnb_sentiment.columns], ax = ax[0], legend = False)\n",
        "ax[0].set_title(f\"{city}\", fontsize = 15)\n",
        "ax[0].set_xlabel(\"Post Contains 'Rent'\", fontsize = 14)\n",
        "ax[0].set_ylabel(\"Percentage of Posts\", fontsize = 14)\n",
        "ax[0].tick_params(axis='both', labelsize=14)\n",
        "\n",
        "\n",
        "city = 'Atlanta'\n",
        "rent_sentiment = df_all[(df_all['sentiment'] != '') & (df_all['subreddit'] == city)].groupby(['rent', 'sentiment']).size().unstack()\n",
        "rent_sentiment = rent_sentiment.div(rent_sentiment.sum(axis = 1), axis = 0) * 100\n",
        "rent_sentiment.plot(kind = 'bar', stacked = True, color =[custom_colors[col] for col in airbnb_sentiment.columns], ax = ax[1], legend = False)\n",
        "ax[1].set_title(f\"{city}\", fontsize = 15)\n",
        "ax[1].set_xlabel(\"Post Contains 'Rent'\", fontsize = 14)\n",
        "ax[1].tick_params(axis='both', labelsize=14)\n",
        "\n",
        "city = 'Seattle'\n",
        "rent_sentiment = df_all[(df_all['sentiment'] != '') & (df_all['subreddit'] == city)].groupby(['rent', 'sentiment']).size().unstack()\n",
        "rent_sentiment = rent_sentiment.div(rent_sentiment.sum(axis = 1), axis = 0) * 100\n",
        "rent_sentiment.plot(kind = 'bar', stacked = True, color =[custom_colors[col] for col in airbnb_sentiment.columns], ax = ax[2], legend = False)\n",
        "ax[2].set_title(f\"{city}\", fontsize = 15)\n",
        "ax[2].set_xlabel(\"Post Contains 'Rent'\", fontsize = 14)\n",
        "ax[2].tick_params(axis='both', labelsize=14)\n",
        "\n",
        "\n",
        "city = 'nyc'\n",
        "rent_sentiment = df_all[(df_all['sentiment'] != '') & (df_all['subreddit'] == city)].groupby(['rent', 'sentiment']).size().unstack()\n",
        "rent_sentiment = rent_sentiment.div(rent_sentiment.sum(axis = 1), axis = 0) * 100\n",
        "rent_sentiment.plot(kind = 'bar', stacked = True, color =[custom_colors[col] for col in airbnb_sentiment.columns], ax = ax[3], legend = False)\n",
        "ax[3].set_title(f\"{city}\", fontsize = 15)\n",
        "ax[3].set_xlabel(\"Post Contains 'Rent'\", fontsize = 14)\n",
        "ax[3].tick_params(axis='both', labelsize=14)\n",
        "ax[3].legend(title='Sentiment of Post', fontsize=14, bbox_to_anchor=(1.35, 1), loc='upper right')\n",
        "\n",
        "plt.savefig(img_path + \"rent_sentment_per_city.png\")"
      ]
    },
    {
      "cell_type": "markdown",
      "metadata": {
        "nteract": {
          "transient": {
            "deleting": false
          }
        }
      },
      "source": [
        "# Sentiment over time"
      ]
    },
    {
      "cell_type": "code",
      "execution_count": 16,
      "metadata": {
        "gather": {
          "logged": 1700502267018
        },
        "jupyter": {
          "outputs_hidden": false,
          "source_hidden": false
        },
        "nteract": {
          "transient": {
            "deleting": false
          }
        }
      },
      "outputs": [
        {
          "data": {
            "image/png": "[encoded data removed]",
            "text/plain": [
              "<Figure size 2000x500 with 4 Axes>"
            ]
          },
          "metadata": {},
          "output_type": "display_data"
        }
      ],
      "source": [
        "# sentiment over time\n",
        "\n",
        "city_rent_sentiment = df_all[(df_all['sentiment'] != '') & (df_all['rent'] == True)].groupby(['subreddit', 'year', 'sentiment']).size().reset_index(name = 'count')\n",
        "city_rent_sentiment['percentage'] = city_rent_sentiment['count'] / city_rent_sentiment.groupby(['subreddit', 'year'])['count'].transform('sum') * 100\n",
        "\n",
        "\n",
        "rent_sents = sns.FacetGrid(city_rent_sentiment[city_rent_sentiment['sentiment'] == 'neg'],\n",
        "                          col = 'subreddit',\n",
        "                          hue = 'sentiment',\n",
        "                          margin_titles = True,\n",
        "                          palette = custom_colors,\n",
        "                          height=5,\n",
        "                          # aspect = 1.1\n",
        "                 )\n",
        "\n",
        "rent_sents = (rent_sents.map(sns.lineplot,\n",
        "                                \"year\",\n",
        "                                \"percentage\",\n",
        "                                linewidth=2\n",
        "                        ))\n",
        "\n",
        "rent_sents.set_titles(col_template = \"{col_name}\")  # use this argument literally\n",
        "rent_sents.set_axis_labels(x_var = 'Year', y_var = \"% of Posts w/ Negative Sentiment\")\n",
        "# Set x-axis tick labels manually\n",
        "# rent_sents.set(xticklabels=[int(i) for i in city_rent_sentiment.year.unique()])\n",
        "\n",
        "\n",
        "# rent_sents.fig.subplots_adjust(top=0.9) # adjust the Figure in rp\n",
        "# rent_sents.fig.suptitle(f'Most Gentrified U.S. Cities Rent Prices in {rent_df.year_num.max()}', fontdict={'size':35})\n",
        "plt.savefig(img_path + \"cityrent_sentiment_overtime.png\")"
      ]
    },
    {
      "cell_type": "code",
      "execution_count": 18,
      "metadata": {
        "jupyter": {
          "outputs_hidden": false,
          "source_hidden": false
        },
        "nteract": {
          "transient": {
            "deleting": false
          }
        }
      },
      "outputs": [
        {
          "data": {
            "image/png": "[encoded data removed]",
            "text/plain": [
              "<Figure size 3000x500 with 4 Axes>"
            ]
          },
          "metadata": {},
          "output_type": "display_data"
        }
      ],
      "source": [
        "# sentiment over time\n",
        "\n",
        "city_rent_sentiment = df_all[(df_all['sentiment'] != '') & (df_all['rent'] == True)].groupby(['subreddit', 'year', 'sentiment']).size().reset_index(name = 'count')\n",
        "city_rent_sentiment['percentage'] = city_rent_sentiment['count'] / city_rent_sentiment.groupby(['subreddit', 'year'])['count'].transform('sum') * 100\n",
        "city_rent_sentiment['year'] = pd.to_datetime(city_rent_sentiment['year'], format='%Y')\n",
        "\n",
        "# Create a FacetGrid with 2 rows and 2 columns\n",
        "rent_sents = sns.FacetGrid(city_rent_sentiment[city_rent_sentiment['sentiment'] == 'neg'],\n",
        "                          col='subreddit',\n",
        "                          row='sentiment',  # Add this line for row-wise arrangement\n",
        "                          hue='sentiment',\n",
        "                          margin_titles=True,\n",
        "                          palette=custom_colors,\n",
        "                          height=5,\n",
        "                          aspect=1.5  # Adjust the aspect ratio as needed\n",
        "                          )\n",
        "\n",
        "rent_sents = (rent_sents.map(sns.lineplot,\n",
        "                             \"year\",\n",
        "                             \"percentage\",\n",
        "                             linewidth=2\n",
        "                             ))\n",
        "\n",
        "rent_sents.set_titles(col_template=\"{col_name}\", row_template=\"{row_name}\")  # use these arguments literally\n",
        "rent_sents.set_axis_labels(x_var='Year', y_var=\"% of Posts w/ Negative Sentiment\")\n",
        "\n",
        "# Adjust the layout to prevent clipping of titles\n",
        "rent_sents.fig.tight_layout()\n",
        "\n",
        "# Save the figure\n",
        "#plt.savefig(img_path + \"cityrent_sentiment_overtime_4.png\")\n"
      ]
    },
    {
      "cell_type": "code",
      "execution_count": 25,
      "metadata": {},
      "outputs": [],
      "source": [
        "import pandas as pd\n",
        "import matplotlib.pyplot as plt\n",
        "import seaborn as sns\n",
        "\n",
        "city_rent_sentiment['year'] = pd.to_datetime(city_rent_sentiment['year'], format='%Y')\n"
      ]
    },
    {
      "cell_type": "code",
      "execution_count": 74,
      "metadata": {},
      "outputs": [
        {
          "data": {
            "image/png": "[encoded data removed]",
            "text/plain": [
              "<Figure size 1440x1200 with 4 Axes>"
            ]
          },
          "metadata": {},
          "output_type": "display_data"
        }
      ],
      "source": [
        "fig, axes = plt.subplots(nrows=2, ncols=2, figsize=(12, 10), dpi=120)\n",
        "fig.suptitle('Sentiment Percentage Over the Years for Each Subreddit')\n",
        "\n",
        "# Iterate through each unique subreddit\n",
        "for i, subreddit in enumerate(city_rent_sentiment['subreddit'].unique()):\n",
        "    # Filter DataFrame for the current subreddit\n",
        "    sub_df = city_rent_sentiment[city_rent_sentiment['subreddit'] == subreddit]\n",
        "    # Filter per sentiment\n",
        "    #sub_df = city_rent_sentiment[city_rent_sentiment['sentiment'] == \"neg\"]\n",
        "    sns.lineplot(x='year', y='percentage', hue='sentiment', data=sub_df, ax=axes[i // 2, i % 2],palette=custom_colors)\n",
        "    # Set subplot title\n",
        "    axes[i // 2, i % 2].set_title(subreddit)\n",
        "    axes[i // 2, i % 2].tick_params(axis='x', labelsize=9)\n",
        "    \n",
        "# Adjust layout and show the plot\n",
        "plt.tight_layout(rect=[0, 0, 1, 0.96])\n",
        "plt.show()\n"
      ]
    },
    {
      "cell_type": "code",
      "execution_count": 76,
      "metadata": {},
      "outputs": [
        {
          "data": {
            "text/html": [
              "<div>\n",
              "<style scoped>\n",
              "    .dataframe tbody tr th:only-of-type {\n",
              "        vertical-align: middle;\n",
              "    }\n",
              "\n",
              "    .dataframe tbody tr th {\n",
              "        vertical-align: top;\n",
              "    }\n",
              "\n",
              "    .dataframe thead th {\n",
              "        text-align: right;\n",
              "    }\n",
              "</style>\n",
              "<table border=\"1\" class=\"dataframe\">\n",
              "  <thead>\n",
              "    <tr style=\"text-align: right;\">\n",
              "      <th></th>\n",
              "      <th>subreddit</th>\n",
              "      <th>year</th>\n",
              "      <th>sentiment</th>\n",
              "      <th>count</th>\n",
              "      <th>percentage</th>\n",
              "    </tr>\n",
              "  </thead>\n",
              "  <tbody>\n",
              "    <tr>\n",
              "      <th>0</th>\n",
              "      <td>Atlanta</td>\n",
              "      <td>2021-01-01</td>\n",
              "      <td>neg</td>\n",
              "      <td>89</td>\n",
              "      <td>45.408163</td>\n",
              "    </tr>\n",
              "    <tr>\n",
              "      <th>3</th>\n",
              "      <td>Atlanta</td>\n",
              "      <td>2022-01-01</td>\n",
              "      <td>neg</td>\n",
              "      <td>68</td>\n",
              "      <td>39.306358</td>\n",
              "    </tr>\n",
              "    <tr>\n",
              "      <th>6</th>\n",
              "      <td>Atlanta</td>\n",
              "      <td>2023-01-01</td>\n",
              "      <td>neg</td>\n",
              "      <td>26</td>\n",
              "      <td>47.272727</td>\n",
              "    </tr>\n",
              "    <tr>\n",
              "      <th>8</th>\n",
              "      <td>Seattle</td>\n",
              "      <td>2021-01-01</td>\n",
              "      <td>neg</td>\n",
              "      <td>372</td>\n",
              "      <td>44.128114</td>\n",
              "    </tr>\n",
              "    <tr>\n",
              "      <th>11</th>\n",
              "      <td>Seattle</td>\n",
              "      <td>2022-01-01</td>\n",
              "      <td>neg</td>\n",
              "      <td>479</td>\n",
              "      <td>45.359848</td>\n",
              "    </tr>\n",
              "  </tbody>\n",
              "</table>\n",
              "</div>"
            ],
            "text/plain": [
              "   subreddit       year sentiment  count  percentage\n",
              "0    Atlanta 2021-01-01       neg     89   45.408163\n",
              "3    Atlanta 2022-01-01       neg     68   39.306358\n",
              "6    Atlanta 2023-01-01       neg     26   47.272727\n",
              "8    Seattle 2021-01-01       neg    372   44.128114\n",
              "11   Seattle 2022-01-01       neg    479   45.359848"
            ]
          },
          "execution_count": 76,
          "metadata": {},
          "output_type": "execute_result"
        }
      ],
      "source": [
        "city_rent_sentiment_2 =city_rent_sentiment[city_rent_sentiment[\"sentiment\"] == 'neg']\n",
        "city_rent_sentiment_2.head()"
      ]
    },
    {
      "cell_type": "code",
      "execution_count": 78,
      "metadata": {},
      "outputs": [],
      "source": [
        "city_rent_sentiment_2.to_csv(\"heatmap.csv\")"
      ]
    },
    {
      "cell_type": "code",
      "execution_count": 55,
      "metadata": {},
      "outputs": [
        {
          "data": {
            "application/vnd.plotly.v1+json": {
              "config": {
                "linkText": "Export to plot.ly",
                "plotlyServerURL": "https://plot.ly",
                "showLink": false
              },
              "data": [
                {
                  "marker": {
                    "color": "rgb(102,0,0)",
                    "opacity": 0.4,
                    "size": 2
                  },
                  "mode": "markers",
                  "name": "points",
                  "type": "scatter",
                  "x": [
                    45.40816326530612,
                    39.30635838150289,
                    47.27272727272727,
                    44.128113879003564,
                    45.359848484848484,
                    40.86021505376344,
                    36.09022556390977,
                    39.705882352941174,
                    38.46153846153847,
                    42.30769230769231,
                    46.931407942238266,
                    55.757575757575765
                  ],
                  "y": [
                    "Atlanta",
                    "Atlanta",
                    "Atlanta",
                    "Seattle",
                    "Seattle",
                    "Seattle",
                    "nyc",
                    "nyc",
                    "nyc",
                    "washingtondc",
                    "washingtondc",
                    "washingtondc"
                  ]
                },
                {
                  "colorscale": [
                    [
                      0,
                      "rgb(0,0,0)"
                    ],
                    [
                      0.3333333333333333,
                      "rgb(230,0,0)"
                    ],
                    [
                      0.6666666666666666,
                      "rgb(255,210,0)"
                    ],
                    [
                      1,
                      "rgb(255,255,255)"
                    ]
                  ],
                  "hovertemplate": "<br>perc. negative posts: %{x}<br>Subreddit: %{y}",
                  "name": "density",
                  "ncontours": 30,
                  "reversescale": true,
                  "showscale": false,
                  "type": "histogram2dcontour",
                  "x": [
                    45.40816326530612,
                    39.30635838150289,
                    47.27272727272727,
                    44.128113879003564,
                    45.359848484848484,
                    40.86021505376344,
                    36.09022556390977,
                    39.705882352941174,
                    38.46153846153847,
                    42.30769230769231,
                    46.931407942238266,
                    55.757575757575765
                  ],
                  "y": [
                    "Atlanta",
                    "Atlanta",
                    "Atlanta",
                    "Seattle",
                    "Seattle",
                    "Seattle",
                    "nyc",
                    "nyc",
                    "nyc",
                    "washingtondc",
                    "washingtondc",
                    "washingtondc"
                  ]
                }
              ],
              "layout": {
                "autosize": false,
                "bargap": 0,
                "font": {
                  "color": "black",
                  "family": "Arial"
                },
                "height": 650,
                "hovermode": "closest",
                "margin": {
                  "t": 50
                },
                "showlegend": false,
                "template": {
                  "data": {
                    "bar": [
                      {
                        "error_x": {
                          "color": "#2a3f5f"
                        },
                        "error_y": {
                          "color": "#2a3f5f"
                        },
                        "marker": {
                          "line": {
                            "color": "#E5ECF6",
                            "width": 0.5
                          },
                          "pattern": {
                            "fillmode": "overlay",
                            "size": 10,
                            "solidity": 0.2
                          }
                        },
                        "type": "bar"
                      }
                    ],
                    "barpolar": [
                      {
                        "marker": {
                          "line": {
                            "color": "#E5ECF6",
                            "width": 0.5
                          },
                          "pattern": {
                            "fillmode": "overlay",
                            "size": 10,
                            "solidity": 0.2
                          }
                        },
                        "type": "barpolar"
                      }
                    ],
                    "carpet": [
                      {
                        "aaxis": {
                          "endlinecolor": "#2a3f5f",
                          "gridcolor": "white",
                          "linecolor": "white",
                          "minorgridcolor": "white",
                          "startlinecolor": "#2a3f5f"
                        },
                        "baxis": {
                          "endlinecolor": "#2a3f5f",
                          "gridcolor": "white",
                          "linecolor": "white",
                          "minorgridcolor": "white",
                          "startlinecolor": "#2a3f5f"
                        },
                        "type": "carpet"
                      }
                    ],
                    "choropleth": [
                      {
                        "colorbar": {
                          "outlinewidth": 0,
                          "ticks": ""
                        },
                        "type": "choropleth"
                      }
                    ],
                    "contour": [
                      {
                        "colorbar": {
                          "outlinewidth": 0,
                          "ticks": ""
                        },
                        "colorscale": [
                          [
                            0,
                            "#0d0887"
                          ],
                          [
                            0.1111111111111111,
                            "#46039f"
                          ],
                          [
                            0.2222222222222222,
                            "#7201a8"
                          ],
                          [
                            0.3333333333333333,
                            "#9c179e"
                          ],
                          [
                            0.4444444444444444,
                            "#bd3786"
                          ],
                          [
                            0.5555555555555556,
                            "#d8576b"
                          ],
                          [
                            0.6666666666666666,
                            "#ed7953"
                          ],
                          [
                            0.7777777777777778,
                            "#fb9f3a"
                          ],
                          [
                            0.8888888888888888,
                            "#fdca26"
                          ],
                          [
                            1,
                            "#f0f921"
                          ]
                        ],
                        "type": "contour"
                      }
                    ],
                    "contourcarpet": [
                      {
                        "colorbar": {
                          "outlinewidth": 0,
                          "ticks": ""
                        },
                        "type": "contourcarpet"
                      }
                    ],
                    "heatmap": [
                      {
                        "colorbar": {
                          "outlinewidth": 0,
                          "ticks": ""
                        },
                        "colorscale": [
                          [
                            0,
                            "#0d0887"
                          ],
                          [
                            0.1111111111111111,
                            "#46039f"
                          ],
                          [
                            0.2222222222222222,
                            "#7201a8"
                          ],
                          [
                            0.3333333333333333,
                            "#9c179e"
                          ],
                          [
                            0.4444444444444444,
                            "#bd3786"
                          ],
                          [
                            0.5555555555555556,
                            "#d8576b"
                          ],
                          [
                            0.6666666666666666,
                            "#ed7953"
                          ],
                          [
                            0.7777777777777778,
                            "#fb9f3a"
                          ],
                          [
                            0.8888888888888888,
                            "#fdca26"
                          ],
                          [
                            1,
                            "#f0f921"
                          ]
                        ],
                        "type": "heatmap"
                      }
                    ],
                    "heatmapgl": [
                      {
                        "colorbar": {
                          "outlinewidth": 0,
                          "ticks": ""
                        },
                        "colorscale": [
                          [
                            0,
                            "#0d0887"
                          ],
                          [
                            0.1111111111111111,
                            "#46039f"
                          ],
                          [
                            0.2222222222222222,
                            "#7201a8"
                          ],
                          [
                            0.3333333333333333,
                            "#9c179e"
                          ],
                          [
                            0.4444444444444444,
                            "#bd3786"
                          ],
                          [
                            0.5555555555555556,
                            "#d8576b"
                          ],
                          [
                            0.6666666666666666,
                            "#ed7953"
                          ],
                          [
                            0.7777777777777778,
                            "#fb9f3a"
                          ],
                          [
                            0.8888888888888888,
                            "#fdca26"
                          ],
                          [
                            1,
                            "#f0f921"
                          ]
                        ],
                        "type": "heatmapgl"
                      }
                    ],
                    "histogram": [
                      {
                        "marker": {
                          "pattern": {
                            "fillmode": "overlay",
                            "size": 10,
                            "solidity": 0.2
                          }
                        },
                        "type": "histogram"
                      }
                    ],
                    "histogram2d": [
                      {
                        "colorbar": {
                          "outlinewidth": 0,
                          "ticks": ""
                        },
                        "colorscale": [
                          [
                            0,
                            "#0d0887"
                          ],
                          [
                            0.1111111111111111,
                            "#46039f"
                          ],
                          [
                            0.2222222222222222,
                            "#7201a8"
                          ],
                          [
                            0.3333333333333333,
                            "#9c179e"
                          ],
                          [
                            0.4444444444444444,
                            "#bd3786"
                          ],
                          [
                            0.5555555555555556,
                            "#d8576b"
                          ],
                          [
                            0.6666666666666666,
                            "#ed7953"
                          ],
                          [
                            0.7777777777777778,
                            "#fb9f3a"
                          ],
                          [
                            0.8888888888888888,
                            "#fdca26"
                          ],
                          [
                            1,
                            "#f0f921"
                          ]
                        ],
                        "type": "histogram2d"
                      }
                    ],
                    "histogram2dcontour": [
                      {
                        "colorbar": {
                          "outlinewidth": 0,
                          "ticks": ""
                        },
                        "colorscale": [
                          [
                            0,
                            "#0d0887"
                          ],
                          [
                            0.1111111111111111,
                            "#46039f"
                          ],
                          [
                            0.2222222222222222,
                            "#7201a8"
                          ],
                          [
                            0.3333333333333333,
                            "#9c179e"
                          ],
                          [
                            0.4444444444444444,
                            "#bd3786"
                          ],
                          [
                            0.5555555555555556,
                            "#d8576b"
                          ],
                          [
                            0.6666666666666666,
                            "#ed7953"
                          ],
                          [
                            0.7777777777777778,
                            "#fb9f3a"
                          ],
                          [
                            0.8888888888888888,
                            "#fdca26"
                          ],
                          [
                            1,
                            "#f0f921"
                          ]
                        ],
                        "type": "histogram2dcontour"
                      }
                    ],
                    "mesh3d": [
                      {
                        "colorbar": {
                          "outlinewidth": 0,
                          "ticks": ""
                        },
                        "type": "mesh3d"
                      }
                    ],
                    "parcoords": [
                      {
                        "line": {
                          "colorbar": {
                            "outlinewidth": 0,
                            "ticks": ""
                          }
                        },
                        "type": "parcoords"
                      }
                    ],
                    "pie": [
                      {
                        "automargin": true,
                        "type": "pie"
                      }
                    ],
                    "scatter": [
                      {
                        "fillpattern": {
                          "fillmode": "overlay",
                          "size": 10,
                          "solidity": 0.2
                        },
                        "type": "scatter"
                      }
                    ],
                    "scatter3d": [
                      {
                        "line": {
                          "colorbar": {
                            "outlinewidth": 0,
                            "ticks": ""
                          }
                        },
                        "marker": {
                          "colorbar": {
                            "outlinewidth": 0,
                            "ticks": ""
                          }
                        },
                        "type": "scatter3d"
                      }
                    ],
                    "scattercarpet": [
                      {
                        "marker": {
                          "colorbar": {
                            "outlinewidth": 0,
                            "ticks": ""
                          }
                        },
                        "type": "scattercarpet"
                      }
                    ],
                    "scattergeo": [
                      {
                        "marker": {
                          "colorbar": {
                            "outlinewidth": 0,
                            "ticks": ""
                          }
                        },
                        "type": "scattergeo"
                      }
                    ],
                    "scattergl": [
                      {
                        "marker": {
                          "colorbar": {
                            "outlinewidth": 0,
                            "ticks": ""
                          }
                        },
                        "type": "scattergl"
                      }
                    ],
                    "scattermapbox": [
                      {
                        "marker": {
                          "colorbar": {
                            "outlinewidth": 0,
                            "ticks": ""
                          }
                        },
                        "type": "scattermapbox"
                      }
                    ],
                    "scatterpolar": [
                      {
                        "marker": {
                          "colorbar": {
                            "outlinewidth": 0,
                            "ticks": ""
                          }
                        },
                        "type": "scatterpolar"
                      }
                    ],
                    "scatterpolargl": [
                      {
                        "marker": {
                          "colorbar": {
                            "outlinewidth": 0,
                            "ticks": ""
                          }
                        },
                        "type": "scatterpolargl"
                      }
                    ],
                    "scatterternary": [
                      {
                        "marker": {
                          "colorbar": {
                            "outlinewidth": 0,
                            "ticks": ""
                          }
                        },
                        "type": "scatterternary"
                      }
                    ],
                    "surface": [
                      {
                        "colorbar": {
                          "outlinewidth": 0,
                          "ticks": ""
                        },
                        "colorscale": [
                          [
                            0,
                            "#0d0887"
                          ],
                          [
                            0.1111111111111111,
                            "#46039f"
                          ],
                          [
                            0.2222222222222222,
                            "#7201a8"
                          ],
                          [
                            0.3333333333333333,
                            "#9c179e"
                          ],
                          [
                            0.4444444444444444,
                            "#bd3786"
                          ],
                          [
                            0.5555555555555556,
                            "#d8576b"
                          ],
                          [
                            0.6666666666666666,
                            "#ed7953"
                          ],
                          [
                            0.7777777777777778,
                            "#fb9f3a"
                          ],
                          [
                            0.8888888888888888,
                            "#fdca26"
                          ],
                          [
                            1,
                            "#f0f921"
                          ]
                        ],
                        "type": "surface"
                      }
                    ],
                    "table": [
                      {
                        "cells": {
                          "fill": {
                            "color": "#EBF0F8"
                          },
                          "line": {
                            "color": "white"
                          }
                        },
                        "header": {
                          "fill": {
                            "color": "#C8D4E3"
                          },
                          "line": {
                            "color": "white"
                          }
                        },
                        "type": "table"
                      }
                    ]
                  },
                  "layout": {
                    "annotationdefaults": {
                      "arrowcolor": "#2a3f5f",
                      "arrowhead": 0,
                      "arrowwidth": 1
                    },
                    "autotypenumbers": "strict",
                    "coloraxis": {
                      "colorbar": {
                        "outlinewidth": 0,
                        "ticks": ""
                      }
                    },
                    "colorscale": {
                      "diverging": [
                        [
                          0,
                          "#8e0152"
                        ],
                        [
                          0.1,
                          "#c51b7d"
                        ],
                        [
                          0.2,
                          "#de77ae"
                        ],
                        [
                          0.3,
                          "#f1b6da"
                        ],
                        [
                          0.4,
                          "#fde0ef"
                        ],
                        [
                          0.5,
                          "#f7f7f7"
                        ],
                        [
                          0.6,
                          "#e6f5d0"
                        ],
                        [
                          0.7,
                          "#b8e186"
                        ],
                        [
                          0.8,
                          "#7fbc41"
                        ],
                        [
                          0.9,
                          "#4d9221"
                        ],
                        [
                          1,
                          "#276419"
                        ]
                      ],
                      "sequential": [
                        [
                          0,
                          "#0d0887"
                        ],
                        [
                          0.1111111111111111,
                          "#46039f"
                        ],
                        [
                          0.2222222222222222,
                          "#7201a8"
                        ],
                        [
                          0.3333333333333333,
                          "#9c179e"
                        ],
                        [
                          0.4444444444444444,
                          "#bd3786"
                        ],
                        [
                          0.5555555555555556,
                          "#d8576b"
                        ],
                        [
                          0.6666666666666666,
                          "#ed7953"
                        ],
                        [
                          0.7777777777777778,
                          "#fb9f3a"
                        ],
                        [
                          0.8888888888888888,
                          "#fdca26"
                        ],
                        [
                          1,
                          "#f0f921"
                        ]
                      ],
                      "sequentialminus": [
                        [
                          0,
                          "#0d0887"
                        ],
                        [
                          0.1111111111111111,
                          "#46039f"
                        ],
                        [
                          0.2222222222222222,
                          "#7201a8"
                        ],
                        [
                          0.3333333333333333,
                          "#9c179e"
                        ],
                        [
                          0.4444444444444444,
                          "#bd3786"
                        ],
                        [
                          0.5555555555555556,
                          "#d8576b"
                        ],
                        [
                          0.6666666666666666,
                          "#ed7953"
                        ],
                        [
                          0.7777777777777778,
                          "#fb9f3a"
                        ],
                        [
                          0.8888888888888888,
                          "#fdca26"
                        ],
                        [
                          1,
                          "#f0f921"
                        ]
                      ]
                    },
                    "colorway": [
                      "#636efa",
                      "#EF553B",
                      "#00cc96",
                      "#ab63fa",
                      "#FFA15A",
                      "#19d3f3",
                      "#FF6692",
                      "#B6E880",
                      "#FF97FF",
                      "#FECB52"
                    ],
                    "font": {
                      "color": "#2a3f5f"
                    },
                    "geo": {
                      "bgcolor": "white",
                      "lakecolor": "white",
                      "landcolor": "#E5ECF6",
                      "showlakes": true,
                      "showland": true,
                      "subunitcolor": "white"
                    },
                    "hoverlabel": {
                      "align": "left"
                    },
                    "hovermode": "closest",
                    "mapbox": {
                      "style": "light"
                    },
                    "paper_bgcolor": "white",
                    "plot_bgcolor": "#E5ECF6",
                    "polar": {
                      "angularaxis": {
                        "gridcolor": "white",
                        "linecolor": "white",
                        "ticks": ""
                      },
                      "bgcolor": "#E5ECF6",
                      "radialaxis": {
                        "gridcolor": "white",
                        "linecolor": "white",
                        "ticks": ""
                      }
                    },
                    "scene": {
                      "xaxis": {
                        "backgroundcolor": "#E5ECF6",
                        "gridcolor": "white",
                        "gridwidth": 2,
                        "linecolor": "white",
                        "showbackground": true,
                        "ticks": "",
                        "zerolinecolor": "white"
                      },
                      "yaxis": {
                        "backgroundcolor": "#E5ECF6",
                        "gridcolor": "white",
                        "gridwidth": 2,
                        "linecolor": "white",
                        "showbackground": true,
                        "ticks": "",
                        "zerolinecolor": "white"
                      },
                      "zaxis": {
                        "backgroundcolor": "#E5ECF6",
                        "gridcolor": "white",
                        "gridwidth": 2,
                        "linecolor": "white",
                        "showbackground": true,
                        "ticks": "",
                        "zerolinecolor": "white"
                      }
                    },
                    "shapedefaults": {
                      "line": {
                        "color": "#2a3f5f"
                      }
                    },
                    "ternary": {
                      "aaxis": {
                        "gridcolor": "white",
                        "linecolor": "white",
                        "ticks": ""
                      },
                      "baxis": {
                        "gridcolor": "white",
                        "linecolor": "white",
                        "ticks": ""
                      },
                      "bgcolor": "#E5ECF6",
                      "caxis": {
                        "gridcolor": "white",
                        "linecolor": "white",
                        "ticks": ""
                      }
                    },
                    "title": {
                      "x": 0.05
                    },
                    "xaxis": {
                      "automargin": true,
                      "gridcolor": "white",
                      "linecolor": "white",
                      "ticks": "",
                      "title": {
                        "standoff": 15
                      },
                      "zerolinecolor": "white",
                      "zerolinewidth": 2
                    },
                    "yaxis": {
                      "automargin": true,
                      "gridcolor": "white",
                      "linecolor": "white",
                      "ticks": "",
                      "title": {
                        "standoff": 15
                      },
                      "zerolinecolor": "white",
                      "zerolinewidth": 2
                    }
                  }
                },
                "title": {
                  "text": "Negative comments by subreddit"
                },
                "width": 600,
                "xaxis": {
                  "domain": [
                    0,
                    1
                  ],
                  "showgrid": false,
                  "title": {
                    "text": "Percentage of negative posts"
                  },
                  "zeroline": false
                },
                "xaxis2": {
                  "domain": [
                    0.85,
                    1
                  ],
                  "showgrid": false,
                  "zeroline": false
                },
                "yaxis": {
                  "domain": [
                    0,
                    1
                  ],
                  "showgrid": false,
                  "title": {
                    "text": "Subreddit"
                  },
                  "zeroline": false
                },
                "yaxis2": {
                  "domain": [
                    0.85,
                    1
                  ],
                  "showgrid": false,
                  "zeroline": false
                }
              }
            }
          },
          "metadata": {},
          "output_type": "display_data"
        }
      ],
      "source": [
        "import matplotlib.pyplot as plt\n",
        "import plotly.express as px\n",
        "import plotly.graph_objects as go\n",
        "import plotly.offline as pyo\n",
        "import numpy as np\n",
        "from plotly.offline import download_plotlyjs, init_notebook_mode, plot, iplot\n",
        "city_rent_sentiment_2 =city_rent_sentiment[city_rent_sentiment[\"sentiment\"] == 'neg']\n",
        "\n",
        "\n",
        "trace1 = go.Scatter(\n",
        "    x=city_rent_sentiment_2['percentage'], y=city_rent_sentiment_2['subreddit'], mode='markers', name='points',\n",
        "    marker=dict(color='rgb(102,0,0)', size=2, opacity=0.4)\n",
        ")\n",
        "trace2 = go.Histogram2dContour(\n",
        "    x=city_rent_sentiment_2['percentage'], y=city_rent_sentiment_2['subreddit'], name='density', ncontours=30,\n",
        "    colorscale='Hot', reversescale=True, showscale=False,\n",
        "    hovertemplate='<br>perc. negative posts: %{x}<br>Subreddit: %{y}'\n",
        ")\n",
        "\n",
        "data = [trace1, trace2]\n",
        "\n",
        "layout = go.Layout(\n",
        "    showlegend=False,\n",
        "    autosize=False,\n",
        "    width=600,\n",
        "    height=650,\n",
        "    xaxis=dict(\n",
        "        domain=[0, 1],\n",
        "        showgrid=False,\n",
        "        zeroline=False\n",
        "    ),\n",
        "    yaxis=dict(\n",
        "        domain=[0, 1],\n",
        "        showgrid=False,\n",
        "        zeroline=False\n",
        "    ),\n",
        "    margin=dict(\n",
        "        t=50\n",
        "    ),\n",
        "    hovermode='closest',\n",
        "    bargap=0,\n",
        "    xaxis2=dict(\n",
        "        domain=[0.85, 1],\n",
        "        showgrid=False,\n",
        "        zeroline=False\n",
        "    ),\n",
        "    yaxis2=dict(\n",
        "        domain=[0.85, 1],\n",
        "        showgrid=False,\n",
        "        zeroline=False\n",
        "    )\n",
        ")\n",
        "\n",
        "fig = go.Figure(data=data, layout=layout)\n",
        "font_dict=dict(family='Arial',\n",
        "               color='black'\n",
        "               )\n",
        "fig.update_layout(font=font_dict)\n",
        "\n",
        "fig.update_layout(yaxis_title=\"Subreddit\",xaxis_title=\"Percentage of negative posts\", title=\"Negative comments by subreddit\") \n",
        "\n",
        "iplot(fig, filename='2dhistogram-2d-density-plot-subplots')"
      ]
    }
  ],
  "metadata": {
    "kernel_info": {
      "name": "python38-azureml"
    },
    "kernelspec": {
      "display_name": "anly503",
      "language": "python",
      "name": "python3"
    },
    "language_info": {
      "codemirror_mode": {
        "name": "ipython",
        "version": 3
      },
      "file_extension": ".py",
      "mimetype": "text/x-python",
      "name": "python",
      "nbconvert_exporter": "python",
      "pygments_lexer": "ipython3",
      "version": "3.10.8"
    },
    "microsoft": {
      "host": {
        "AzureML": {
          "notebookHasBeenCompleted": true
        }
      },
      "ms_spell_check": {
        "ms_spell_check_language": "en"
      }
    },
    "nteract": {
      "version": "nteract-front-end@1.0.0"
    }
  },
  "nbformat": 4,
  "nbformat_minor": 2
}
