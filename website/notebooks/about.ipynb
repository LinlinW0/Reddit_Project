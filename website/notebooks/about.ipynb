{
 "cells": [
  {
   "cell_type": "markdown",
   "metadata": {},
   "source": [
    "# About the project\n",
    "\n",
    "This website is a project for the DSAN-6000 Big Data Course. Implements an analysis of reddit data using cloud and big data tools.\n",
    "\n",
    "## Authors:\n",
    "* Corrina Calanoc <clc317@georgetown.edu>\n",
    "* Madelyne Ventura <mv790@georgetown.edu>\n",
    "* Valeria Vera <vv188@georgetown.edu>\n",
    "* Linlin Wang <lw849@georgetown.edu>\n"
   ]
  }
 ],
 "metadata": {
  "language_info": {
   "name": "python"
  }
 },
 "nbformat": 4,
 "nbformat_minor": 2
}
